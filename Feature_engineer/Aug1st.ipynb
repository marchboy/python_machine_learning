{
 "cells": [
  {
   "cell_type": "code",
   "execution_count": 2,
   "metadata": {
    "collapsed": true
   },
   "outputs": [],
   "source": [
    "import pandas as pd\n",
    "import time\n",
    "import math\n",
    "import numpy as np\n",
    "\n",
    "from sklearn.ensemble import GradientBoostingClassifier\n",
    "from sklearn import cross_validation\n",
    "from sklearn.metrics import roc_auc_score\n",
    "from sklearn.metrics import precision_score, recall_score, f1_score\n",
    "from sklearn.metrics import confusion_matrix\n",
    "\n",
    "import pickle\n",
    "import sys\n",
    "\n",
    "\"\"\"\n",
    "Some global parameters to be tuned here.\n",
    "\"\"\"\n",
    "date_range = (\"2016-01-01T00:00:00\", \"2016-03-31T23:59:59\")\n",
    "\n",
    "time_start = int(time.mktime(time.strptime(date_range[0], '%Y-%m-%dT%H:%M:%S')))\n",
    "time_end = int(time.mktime(time.strptime(date_range[1], '%Y-%m-%dT%H:%M:%S')))\n",
    "\n",
    "# TODO: def foo()\n",
    "# 7 days as a period\n",
    "period = 604800.0\n",
    "n_period = int(math.ceil((time_end - time_start)/(period)))\n",
    "\n",
    "\n",
    "\n",
    "def save_obj(obj, name):\n",
    "    with open( name + '.pkl', 'wb') as f:\n",
    "        pickle.dump(obj, f, pickle.HIGHEST_PROTOCOL)\n",
    "\n",
    "def load_obj(name):\n",
    "    with open( name + '.pkl', 'rb') as f:\n",
    "        return pickle.load(f)\n",
    "\n",
    "def time_str2int(in_time):\n",
    "    return int(time.mktime(time.strptime(in_time, '%Y-%m-%d %H:%M:%S'))) \n",
    "\n",
    "def string2list(in_str):\n",
    "    ret = in_str.split('],[')\n",
    "    temp = []\n",
    "    for each in ret:\n",
    "        temp.append(each.strip('[').strip(']').split(','))\n",
    "    return temp\n",
    "    #return pd.DataFrame(temp)\n",
    "\n",
    "\n",
    "def get_eventids(filename):\n",
    "    # Get logs within the time range\n",
    "    t = pd.read_csv(filename, sep='\\t', header = None)\n",
    "    t1 = t[t[2] >= time_start]\n",
    "    data_all = t1[t1[2] <= time_end]\n",
    "\n",
    "    grouped_by_eventid = data_all.groupby([1])\n",
    "    eventids = grouped_by_eventid.groups.keys()\n",
    "    return eventids\n",
    "\n",
    "\n",
    "def get_uid2uuid(userbase_dataframe, uuid_list):\n",
    "    u_by_uuid = userbase_dataframe[userbase_dataframe[1].isin(set(uuid_list))]\n",
    "    u_by_uuid = u_by_uuid[u_by_uuid[1]!= 'cfcd208495d565ef66e7dff9f98764da']\n",
    "    uid2uuid = {}\n",
    "    for each in u_by_uuid.iterrows():\n",
    "        if each[1][0] not in uid2uuid:\n",
    "            uid2uuid[each[1][0]] = []\n",
    "        uid2uuid[each[1][0]].append(each[1][1])\n",
    "    return uid2uuid\n",
    "\n",
    "def feature_expenditure(filename, userbase_dataframe, uuid_list):\n",
    "\n",
    "    uid2uuid = get_uid2uuid(userbase_dataframe, uuid_list)\n",
    "    for each in uid2uuid:\n",
    "        if len(uid2uuid[each]) > 1:\n",
    "            print \"Found one-to-many uid to uuid relationship, but I ignored it for simplicity.\"\n",
    "\n",
    "    e = pd.read_csv(filename, sep='\\t', header = None)\n",
    "    exp = e[e[0].isin(set(uid2uuid.keys()))]\n",
    "    exp[-1] = exp[0].map(lambda x: uid2uuid[x][0])\n",
    "    exp_by_uuid = exp.groupby([-1])\n",
    "\n",
    "    expenditure_dict = {}\n",
    "    for each in exp_by_uuid.groups:\n",
    "        index_list = exp_by_uuid.groups[each]\n",
    "        data_frame = exp.loc[index_list]\n",
    "        \n",
    "        reg = []\n",
    "        rec = []\n",
    "        pay = []\n",
    "        for row in data_frame.iterrows():\n",
    "            reg += string2list(row[1][1])\n",
    "            rec += string2list(row[1][2])\n",
    "            pay += string2list(row[1][3])\n",
    "        reg = pd.DataFrame(reg)\n",
    "        rec = pd.DataFrame(rec)\n",
    "        pay = pd.DataFrame(pay)\n",
    "        \n",
    "        \n",
    "        \"\"\"reg\"\"\"\n",
    "        reg = reg[reg[3]!='0']\n",
    "        try: # no reg means no rec or pay\n",
    "            #[0] #uid\n",
    "            temp = [len(index_list)]\n",
    "            #[1] #games\n",
    "            temp.append(len(reg[0]))\n",
    "            #[2] # unique games\n",
    "            temp.append(len(reg[1].unique()))\n",
    "            #[3] # unique cid\n",
    "            temp.append(len(reg[2].unique()))\n",
    "            #[4] # unique game_uid\n",
    "            temp.append(len(reg[4].unique()))\n",
    "            #[5] # unique ucid\n",
    "            temp.append(len(reg[5].unique()))\n",
    "\n",
    "            reg_time = reg[3].map(time_str2int)\n",
    "            #[6] max reg time\n",
    "            temp.append(max(reg_time))\n",
    "            #[7] min reg time\n",
    "            temp.append(min(reg_time))\n",
    "            #[8] reg time span\n",
    "            temp.append(max(reg_time) - min(reg_time))\n",
    "            #[9] reg time mean\n",
    "            temp.append(reg_time.mean())\n",
    "            #[10] reg time mid\n",
    "            temp.append(reg_time.quantile(0.5))\n",
    "            #[11] reg time std\n",
    "            temp.append(np.std(reg_time))\n",
    "        except:\n",
    "            continue\n",
    "        \n",
    "        \"\"\"rec\"\"\"\n",
    "        rec = rec[rec[2]!='0']\n",
    "        if len(rec) == 0:\n",
    "            temp += [np.nan] * 12\n",
    "        else:\n",
    "            #[12] # rec\n",
    "            temp.append(len(rec[0]))\n",
    "            #[13] # unique games\n",
    "            temp.append(len(rec[0].unique()))\n",
    "            #[14] # unique types\n",
    "            temp.append(len(rec[1].unique()))\n",
    "            #[15] # unique cid\n",
    "            temp.append(len(rec[3].unique()))\n",
    "            #[16] # unique item\n",
    "            temp.append(len(rec[4].unique()))    \n",
    "            #[17] # unique appid\n",
    "            temp.append(len(rec[5].unique()))  \n",
    "            #[18] # unique pay_from\n",
    "            temp.append(len(rec[6].unique()))  \n",
    "\n",
    "            rec_time = rec[2].map(time_str2int)\n",
    "            #[19] max reg time\n",
    "            temp.append(max(rec_time))\n",
    "            #[20] min reg time\n",
    "            temp.append(min(rec_time))\n",
    "            #[21] reg time span\n",
    "            temp.append(max(rec_time) - min(rec_time))\n",
    "            #[21] reg time mean\n",
    "            temp.append(rec_time.mean())\n",
    "            #[22] reg time mid\n",
    "            temp.append(rec_time.quantile(0.5))\n",
    "            #[23] reg time std\n",
    "            temp.append(np.std(rec_time))\n",
    "        \n",
    "        pay = pay[pay[2]!='0']\n",
    "        if len(pay) == 0:\n",
    "            temp += [np.nan] * 11\n",
    "        else:\n",
    "            #[24] # payments\n",
    "            temp.append(len(pay[0]))\n",
    "            #[25] # unique games\n",
    "            temp.append(len(pay[0].unique()))\n",
    "            #[26] # unique cid\n",
    "            temp.append(len(pay[1].unique()))\n",
    "            #[27] # unique appid\n",
    "            temp.append(len(pay[3].unique()))\n",
    "            #[28] # unique item\n",
    "            temp.append(len(pay[4].unique()))    \n",
    "            #[29] # unique porder\n",
    "            temp.append(len(pay[5].unique()))  \n",
    "\n",
    "\n",
    "            pay_time = pay[2].map(time_str2int)\n",
    "            #[30] max reg time\n",
    "            temp.append(max(pay_time))\n",
    "            #[31] min reg time\n",
    "            temp.append(min(pay_time))\n",
    "            #[32] reg time span\n",
    "            temp.append(max(pay_time) - min(pay_time))\n",
    "            #[33] reg time mean\n",
    "            temp.append(pay_time.mean(0.5))\n",
    "            #[34] reg time mid\n",
    "            temp.append(pay_time.quantile(0.5))\n",
    "            #[33] reg time std\n",
    "            temp.append(np.std(pay_time))\n",
    "        \n",
    "        expenditure_dict[each] = temp\n",
    "\n",
    "    return expenditure_dict  \n",
    "\n",
    "\n",
    "def cleaning_filter(input_element, filter_list, replacement):\n",
    "    if input_element not in filter_list:\n",
    "        return replacement\n",
    "    return input_element\n",
    "\n",
    "def ucid_cleaner(input_element):\n",
    "    try:\n",
    "        ret = eval(input_element)\n",
    "    except:\n",
    "        ret = []\n",
    "    if type(ret) is list:\n",
    "        return ret\n",
    "    elif type(ret) is dict:\n",
    "        return map(lambda x: int(x), ret.values())\n",
    "    elif type(ret) is int:\n",
    "        return [ret]\n",
    "    else:\n",
    "        print \"Error in ucid_cleaner\"\n",
    "\n",
    "def feature_userbase(userbase_dataframe, uuid_list):\n",
    "    \"\"\"\n",
    "    Input: userbase_dataframe-- stacked userbases by pandas.read_csv()\n",
    "           uuid_list-- -- uuids to be extracted from userbase\n",
    "\n",
    "    Output: a dictionary of (uuid, feature) pairs\n",
    "    \"\"\"\n",
    "\n",
    "    u_by_uuid = userbase_dataframe[userbase_dataframe[1].isin(set(uuid_list))]\n",
    "    # remove empty uuids: 'cfcd208495d565ef66e7dff9f98764da' \n",
    "    u_by_uuid = u_by_uuid[u_by_uuid[1] != 'cfcd208495d565ef66e7dff9f98764da']\n",
    "    # remove NaNs\n",
    "    u_by_uuid.drop(u_by_uuid[u_by_uuid[9].isnull()].index, inplace=True)\n",
    "\n",
    "    \"\"\"Some data cleaning\"\"\"\n",
    "    # clean sex\n",
    "    value_counts = u_by_uuid[5].value_counts()\n",
    "    u_by_uuid[5] = u_by_uuid[5].map(lambda x: cleaning_filter(x, value_counts.index[:4], value_counts.index[0]))\n",
    "\n",
    "    # clean platform\n",
    "    u_by_uuid[6] = u_by_uuid[6].map(lambda x: str(x))\n",
    "    value_counts = u_by_uuid[6].value_counts()\n",
    "    u_by_uuid[6] = u_by_uuid[6].map(lambda x: cleaning_filter(x, value_counts.index[:3], '0'))\n",
    "\n",
    "    # clean status\n",
    "    u_by_uuid[7] = u_by_uuid[7].map(lambda x: str(x))\n",
    "    u_by_uuid[7] = u_by_uuid[7].map(lambda x: cleaning_filter(x, ['0'], '1'))\n",
    "\n",
    "    # clean ucid\n",
    "    u_by_uuid[8] = u_by_uuid[8].map(lambda x: str(x))\n",
    "\n",
    "    \"\"\"some processing about ucid\"\"\"\n",
    "    # clean ucid\n",
    "    u_by_uuid[10] = u_by_uuid[10].map(ucid_cleaner)\n",
    "    ucids = []\n",
    "    for each in u_by_uuid[10]:\n",
    "        ucids += each\n",
    "    dictinct_ucids = list(set(ucids))\n",
    "\n",
    "    # Begin feature engineering\n",
    "    grouped_by_u = u_by_uuid.groupby([1])\n",
    "    \n",
    "    userbase_dict = {}\n",
    "    for each in grouped_by_u.groups:\n",
    "        \n",
    "        index_list = grouped_by_u.groups[each]\n",
    "        data_frame = u_by_uuid.loc[index_list]\n",
    "        \n",
    "        try:\n",
    "            #[0] uid\n",
    "            temp = [len(index_list)]\n",
    "\n",
    "            #[1] reg_ip\n",
    "            temp.append(data_frame[2].nunique())\n",
    "\n",
    "            #[2] has signature or not\n",
    "            temp.append(int(sum(data_frame[3].isnull()) > 0))\n",
    "\n",
    "\n",
    "            #[3] has nickname or not\n",
    "            #nn = data_frame['4'].map(lambda x: x == 'None')\n",
    "            temp.append(int(sum(data_frame[4].map(lambda x: x == 'None')) > 0))\n",
    "\n",
    "            #[4] sex majority -- One-Hot?\n",
    "            temp.append(str(data_frame[5].value_counts().index[0]))\n",
    "            #[5] sex unique count\n",
    "            temp.append(data_frame[5].nunique())\n",
    "\n",
    "            #[6] platform majority -- One-Hot ?\n",
    "            temp.append(str(data_frame[6].value_counts().index[0]))\n",
    "            #[7] platform unique count\n",
    "            temp.append(data_frame[6].nunique())\n",
    "\n",
    "            #[8] ucid majority -- One-hot ?\n",
    "            temp.append(str(data_frame[8].value_counts().index[0]))\n",
    "            #[9] ucid unique count\n",
    "            temp.append(data_frame[8].nunique())\n",
    "\n",
    "            #reg time stuff\n",
    "            reg_time = data_frame[9].map(time_str2int)\n",
    "            #[10] reg time max\n",
    "            temp.append(max(reg_time))\n",
    "            #[11] reg time min\n",
    "            temp.append(min(reg_time))\n",
    "            #[12] reg time span\n",
    "            temp.append(max(reg_time) - min(reg_time))\n",
    "            #[13] reg time mean\n",
    "            temp.append(reg_time.mean())\n",
    "            #[14] reg time mid\n",
    "            temp.append(reg_time.quantile(0.5))\n",
    "            #[15] reg time std\n",
    "            temp.append(np.std(reg_time))\n",
    "\n",
    "\n",
    "            #[16] group: number of groups\n",
    "            temp.append(sum(data_frame[10].map(lambda x: len(x))) )\n",
    "            #[17] group: dummy\n",
    "            temp.append(int(temp[len(temp)-1] > 0))\n",
    "\n",
    "            \"\"\"TODO: a huge feature line of ucid down in the bottom\"\"\"\n",
    "\n",
    "            #[18] name\n",
    "            temp.append(int(sum(data_frame[11].map(lambda x: x != 'None')) > 0))\n",
    "\n",
    "            #[19-25] dummy\n",
    "            for i in range(12, 19):\n",
    "                temp.append(int(sum(data_frame[i]) > 0))\n",
    "\n",
    "            \"\"\"the huge line promised above\"\"\"\n",
    "            df_ucids = []\n",
    "            for ucid_list in data_frame[10]:\n",
    "                df_ucids += ucid_list\n",
    "            ucid_feature = [0] * len(dictinct_ucids)\n",
    "            for i, e in enumerate(dictinct_ucids):\n",
    "                if e in df_ucids:\n",
    "                    ucid_feature[i] += 1\n",
    "\n",
    "            temp += ucid_feature\n",
    "\n",
    "            userbase_dict[each] = temp\n",
    "\n",
    "        except:\n",
    "            e = sys.exc_info()[0]\n",
    "            print data_frame\n",
    "            print e\n",
    "            break\n",
    "\n",
    "    return userbase_dict\n",
    "\n",
    "\n",
    "def feature_event(filename):\n",
    "\n",
    "    # Get logs within the time range\n",
    "    t = pd.read_csv(filename, sep='\\t', header = None)\n",
    "    t1 = t[t[2] >= time_start]\n",
    "    data_all = t1[t1[2] <= time_end]\n",
    "\n",
    "    # binning whole logs in periods as a big dict()\n",
    "    whole_dict = {i : {} for i in range(n_period)}\n",
    "    # for each log\n",
    "    for log in data_all.iterrows():\n",
    "        # find its binned period\n",
    "        idx = int(math.floor((log[1][2] - time_start)/period))\n",
    "\n",
    "        if log[1][0] not in whole_dict[idx]:\n",
    "            whole_dict[idx][log[1][0]] = []\n",
    "\n",
    "        # append uuid, event id, and timestamp to the list\n",
    "        whole_dict[idx][log[1][0]].append((log[1][1], log[1][2]))\n",
    "\n",
    "    return whole_dict\n",
    "\n",
    "def get_labels(whole_dict):\n",
    "\n",
    "    # creating labels for churn = 1, stay = 0\n",
    "    labels = {i : {} for i in range(n_period)}\n",
    "    #for each period\n",
    "    for i in range(n_period - 1):\n",
    "        # for each uuid\n",
    "        for uuid in whole_dict[i]:\n",
    "            # check if the uuid appears in the next period, if yes-> stay; no-> churn\n",
    "            if uuid in whole_dict[i + 1]:\n",
    "                labels[i][uuid] = 0\n",
    "            else:\n",
    "                labels[i][uuid] = 1\n",
    "\n",
    "    return labels"
   ]
  },
  {
   "cell_type": "code",
   "execution_count": null,
   "metadata": {
    "collapsed": true
   },
   "outputs": [],
   "source": []
  },
  {
   "cell_type": "code",
   "execution_count": 77,
   "metadata": {
    "collapsed": false,
    "scrolled": true
   },
   "outputs": [
    {
     "name": "stderr",
     "output_type": "stream",
     "text": [
      "/usr/local/lib/python2.7/site-packages/IPython/core/interactiveshell.py:2723: DtypeWarning: Columns (3,6,7,8) have mixed types. Specify dtype option on import or set low_memory=False.\n",
      "  interactivity=interactivity, compiler=compiler, result=result)\n",
      "/usr/local/lib/python2.7/site-packages/IPython/core/interactiveshell.py:2723: DtypeWarning: Columns (6,7,8) have mixed types. Specify dtype option on import or set low_memory=False.\n",
      "  interactivity=interactivity, compiler=compiler, result=result)\n"
     ]
    }
   ],
   "source": [
    "u0 = pd.read_csv(\"/data/yulun/timeline/user_base_0.txt\", sep='\\t', header = None)\n",
    "u1 = pd.read_csv(\"/data/yulun/timeline/user_base_1.txt\", sep='\\t', header = None)\n",
    "u2 = pd.read_csv(\"/data/yulun/timeline/user_base_2.txt\", sep='\\t', header = None)\n",
    "u3 = pd.read_csv(\"/data/yulun/timeline/user_base_3.txt\", sep='\\t', header = None)\n",
    "u4 = pd.read_csv(\"/data/yulun/timeline/user_base_4.txt\", sep='\\t', header = None)\n",
    "u5 = pd.read_csv(\"/data/yulun/timeline/user_base_5.txt\", sep='\\t', header = None)\n",
    "u6 = pd.read_csv(\"/data/yulun/timeline/user_base_6.txt\", sep='\\t', header = None)"
   ]
  },
  {
   "cell_type": "code",
   "execution_count": 78,
   "metadata": {
    "collapsed": true
   },
   "outputs": [],
   "source": [
    "u = u0.append(u1).append(u2).append(u3).append(u4).append(u5).append(u6)"
   ]
  },
  {
   "cell_type": "code",
   "execution_count": 80,
   "metadata": {
    "collapsed": true
   },
   "outputs": [],
   "source": [
    "def get_uuids(filename):\n",
    "    # Get logs within the time range\n",
    "    t = pd.read_csv(filename, sep='\\t', header = None)\n",
    "    t1 = t[t[2] >= time_start]\n",
    "    data_all = t1[t1[2] <= time_end]\n",
    "\n",
    "    grouped_by_uuid = data_all.groupby([0])\n",
    "    uuids = grouped_by_uuid.groups.keys()\n",
    "\n",
    "    return uuids"
   ]
  },
  {
   "cell_type": "code",
   "execution_count": 81,
   "metadata": {
    "collapsed": false
   },
   "outputs": [],
   "source": [
    "uuid_list = get_uuids(\"/data/yulun/timeline/timeline_event_gpapp.txt\")"
   ]
  },
  {
   "cell_type": "code",
   "execution_count": 16,
   "metadata": {
    "collapsed": true
   },
   "outputs": [],
   "source": []
  },
  {
   "cell_type": "code",
   "execution_count": 17,
   "metadata": {
    "collapsed": false
   },
   "outputs": [],
   "source": [
    "userbase_dict = feature_userbase(u, uuid_list)"
   ]
  },
  {
   "cell_type": "code",
   "execution_count": null,
   "metadata": {
    "collapsed": false,
    "scrolled": true
   },
   "outputs": [],
   "source": []
  },
  {
   "cell_type": "code",
   "execution_count": 18,
   "metadata": {
    "collapsed": false
   },
   "outputs": [],
   "source": [
    "save_obj(userbase_dict, 'userbase_dict_3')"
   ]
  },
  {
   "cell_type": "code",
   "execution_count": null,
   "metadata": {
    "collapsed": false
   },
   "outputs": [],
   "source": []
  },
  {
   "cell_type": "code",
   "execution_count": 19,
   "metadata": {
    "collapsed": true
   },
   "outputs": [],
   "source": [
    "def get_uuid2uid(userbase_dataframe, uuid_list):\n",
    "    # TODO\n",
    "    u_by_uuid = userbase_dataframe[userbase_dataframe[1].isin(set(uuid_list))]\n",
    "    u_by_uuid = u_by_uuid[u_by_uuid[1]!= 'cfcd208495d565ef66e7dff9f98764da']\n",
    "    uuid2uid = {}\n",
    "    for each in u_by_uuid.iterrows():\n",
    "        if each[1][1] not in uuid2uid:\n",
    "            uuid2uid[each[1][1]] = []\n",
    "        uuid2uid[each[1][1]].append(each[1][0])\n",
    "    return uuid2uid\n",
    "\n",
    "def get_uid2uuid(userbase_dataframe, uuid_list):\n",
    "    u_by_uuid = userbase_dataframe[userbase_dataframe[1].isin(set(uuid_list))]\n",
    "    u_by_uuid = u_by_uuid[u_by_uuid[1]!= 'cfcd208495d565ef66e7dff9f98764da']\n",
    "    uid2uuid = {}\n",
    "    for each in u_by_uuid.iterrows():\n",
    "        if each[1][0] not in uid2uuid:\n",
    "            uid2uuid[each[1][0]] = []\n",
    "        uid2uuid[each[1][0]].append(each[1][1])\n",
    "    return uid2uuid"
   ]
  },
  {
   "cell_type": "code",
   "execution_count": 20,
   "metadata": {
    "collapsed": true
   },
   "outputs": [],
   "source": [
    "uuid2uid = get_uuid2uid(u, uuid_list)"
   ]
  },
  {
   "cell_type": "code",
   "execution_count": 31,
   "metadata": {
    "collapsed": false
   },
   "outputs": [],
   "source": [
    "uid2uuid = get_uid2uuid(u, uuid_list)"
   ]
  },
  {
   "cell_type": "code",
   "execution_count": 32,
   "metadata": {
    "collapsed": false
   },
   "outputs": [],
   "source": [
    "    for each in uid2uuid:\n",
    "        if len(uid2uuid[each]) > 1:\n",
    "            print \"Found one-to-many uid to uuid relationship, but I ignored it for simplicity.\""
   ]
  },
  {
   "cell_type": "code",
   "execution_count": 35,
   "metadata": {
    "collapsed": false
   },
   "outputs": [
    {
     "name": "stderr",
     "output_type": "stream",
     "text": [
      "/usr/local/lib/python2.7/site-packages/ipykernel/__main__.py:3: SettingWithCopyWarning: \n",
      "A value is trying to be set on a copy of a slice from a DataFrame.\n",
      "Try using .loc[row_indexer,col_indexer] = value instead\n",
      "\n",
      "See the caveats in the documentation: http://pandas.pydata.org/pandas-docs/stable/indexing.html#indexing-view-versus-copy\n",
      "  app.launch_new_instance()\n"
     ]
    }
   ],
   "source": [
    "e = pd.read_csv('/data/yulun/timeline/expenditure_timeline.txt', sep='\\t', header = None)\n",
    "exp = e[e[0].isin(set(uid2uuid.keys()))]\n",
    "exp[-1] = exp[0].map(lambda x: uid2uuid[x][0])\n",
    "exp_by_uuid = exp.groupby([-1])\n",
    "\n",
    "expenditure_dict = {}\n",
    "for each in exp_by_uuid.groups:\n",
    "    index_list = exp_by_uuid.groups[each]\n",
    "    data_frame = exp.loc[index_list]\n",
    "\n",
    "    reg = []\n",
    "    rec = []\n",
    "    pay = []\n",
    "    for row in data_frame.iterrows():\n",
    "        reg += string2list(row[1][1])\n",
    "        rec += string2list(row[1][2])\n",
    "        pay += string2list(row[1][3])\n",
    "    reg = pd.DataFrame(reg)\n",
    "    rec = pd.DataFrame(rec)\n",
    "    pay = pd.DataFrame(pay)\n",
    "\n",
    "\n",
    "    \"\"\"reg\"\"\"\n",
    "    reg = reg[reg[3]!='0']\n",
    "    try: # no reg means no rec or pay\n",
    "        #[0] #uid\n",
    "        temp = [len(index_list)]\n",
    "        #[1] #games\n",
    "        temp.append(len(reg[0]))\n",
    "        #[2] # unique games\n",
    "        temp.append(len(reg[1].unique()))\n",
    "        #[3] # unique cid\n",
    "        temp.append(len(reg[2].unique()))\n",
    "        #[4] # unique game_uid\n",
    "        temp.append(len(reg[4].unique()))\n",
    "        #[5] # unique ucid\n",
    "        temp.append(len(reg[5].unique()))\n",
    "\n",
    "        reg_time = reg[3].map(time_str2int)\n",
    "        #[6] max reg time\n",
    "        temp.append(max(reg_time))\n",
    "        #[7] min reg time\n",
    "        temp.append(min(reg_time))\n",
    "        #[8] reg time span\n",
    "        temp.append(max(reg_time) - min(reg_time))\n",
    "        #[9] reg time mean\n",
    "        temp.append(reg_time.mean())\n",
    "        #[10] reg time mid\n",
    "        temp.append(reg_time.quantile(0.5))\n",
    "        #[11] reg time std\n",
    "        temp.append(np.std(reg_time))\n",
    "    except:\n",
    "        continue\n",
    "\n",
    "    \"\"\"rec\"\"\"\n",
    "    rec = rec[rec[2]!='0']\n",
    "    if len(rec) == 0:\n",
    "        temp += [np.nan] * 12\n",
    "    else:\n",
    "        #[12] # rec\n",
    "        temp.append(len(rec[0]))\n",
    "        #[13] # unique games\n",
    "        temp.append(len(rec[0].unique()))\n",
    "        #[14] # unique types\n",
    "        temp.append(len(rec[1].unique()))\n",
    "        #[15] # unique cid\n",
    "        temp.append(len(rec[3].unique()))\n",
    "        #[16] # unique item\n",
    "        temp.append(len(rec[4].unique()))    \n",
    "        #[17] # unique appid\n",
    "        temp.append(len(rec[5].unique()))  \n",
    "        #[18] # unique pay_from\n",
    "        temp.append(len(rec[6].unique()))  \n",
    "\n",
    "        rec_time = rec[2].map(time_str2int)\n",
    "        #[19] max reg time\n",
    "        temp.append(max(rec_time))\n",
    "        #[20] min reg time\n",
    "        temp.append(min(rec_time))\n",
    "        #[21] reg time span\n",
    "        temp.append(max(rec_time) - min(rec_time))\n",
    "        #[22] reg time mean\n",
    "        temp.append(rec_time.mean())\n",
    "        #[23] reg time mid\n",
    "        temp.append(rec_time.quantile(0.5))\n",
    "        #[24] reg time std\n",
    "        temp.append(np.std(rec_time))\n",
    "\n",
    "    pay = pay[pay[2]!='0']\n",
    "    if len(pay) == 0:\n",
    "        temp += [np.nan] * 11\n",
    "    else:\n",
    "        #[25] # payments\n",
    "        temp.append(len(pay[0]))\n",
    "        #[26] # unique games\n",
    "        temp.append(len(pay[0].unique()))\n",
    "        #[27] # unique cid\n",
    "        temp.append(len(pay[1].unique()))\n",
    "        #[28] # unique appid\n",
    "        temp.append(len(pay[3].unique()))\n",
    "        #[29] # unique item\n",
    "        temp.append(len(pay[4].unique()))    \n",
    "        #[30] # unique porder\n",
    "        temp.append(len(pay[5].unique()))  \n",
    "\n",
    "\n",
    "        pay_time = pay[2].map(time_str2int)\n",
    "        #[31] max reg time\n",
    "        temp.append(max(pay_time))\n",
    "        #[32] min reg time\n",
    "        temp.append(min(pay_time))\n",
    "        #[33] reg time span\n",
    "        temp.append(max(pay_time) - min(pay_time))\n",
    "        #[34] reg time mean\n",
    "        temp.append(pay_time.mean())\n",
    "        #[35] reg time mid\n",
    "        temp.append(pay_time.quantile(0.5))\n",
    "        #[36] reg time std\n",
    "        temp.append(np.std(pay_time))\n",
    "\n",
    "    expenditure_dict[each] = temp"
   ]
  },
  {
   "cell_type": "code",
   "execution_count": 38,
   "metadata": {
    "collapsed": false
   },
   "outputs": [],
   "source": [
    "save_obj(expenditure_dict, 'expenditure_dict_3')"
   ]
  },
  {
   "cell_type": "code",
   "execution_count": null,
   "metadata": {
    "collapsed": false
   },
   "outputs": [],
   "source": []
  },
  {
   "cell_type": "code",
   "execution_count": null,
   "metadata": {
    "collapsed": true
   },
   "outputs": [],
   "source": []
  },
  {
   "cell_type": "markdown",
   "metadata": {
    "collapsed": false
   },
   "source": [
    "# Done preprocessing"
   ]
  },
  {
   "cell_type": "code",
   "execution_count": 2,
   "metadata": {
    "collapsed": true
   },
   "outputs": [],
   "source": [
    "whole_dict = load_obj('whole_dict_2')"
   ]
  },
  {
   "cell_type": "code",
   "execution_count": 3,
   "metadata": {
    "collapsed": true
   },
   "outputs": [],
   "source": [
    "exp_dict = load_obj('expenditure_dict_3')"
   ]
  },
  {
   "cell_type": "code",
   "execution_count": 4,
   "metadata": {
    "collapsed": true
   },
   "outputs": [],
   "source": [
    "user_dict = load_obj('userbase_dict_3')"
   ]
  },
  {
   "cell_type": "code",
   "execution_count": 5,
   "metadata": {
    "collapsed": true
   },
   "outputs": [],
   "source": [
    "labels = get_labels(whole_dict)"
   ]
  },
  {
   "cell_type": "code",
   "execution_count": 6,
   "metadata": {
    "collapsed": true
   },
   "outputs": [],
   "source": [
    "eventids = get_eventids('/data/yulun/timeline/timeline_event_gpapp.txt')"
   ]
  },
  {
   "cell_type": "code",
   "execution_count": 7,
   "metadata": {
    "collapsed": true
   },
   "outputs": [],
   "source": [
    "features = []\n",
    "num_handcraft_feature = 105\n",
    "for i in range(n_period - 2):\n",
    "    for uuid in whole_dict[i]:\n",
    "        e_len = len(eventids)\n",
    "\n",
    "        row = np.zeros(e_len + num_handcraft_feature)\n",
    "\n",
    "        # label\n",
    "        row[0] = labels[i][uuid]\n",
    "\n",
    "        times = []\n",
    "        times_diff = []\n",
    "        for each in whole_dict[i][uuid]:\n",
    "            eid = each[0]\n",
    "            ts = each[1]\n",
    "            idx = eventids.index(eid)\n",
    "            # [0] - [len(eventid)] event feature\n",
    "            row[idx + 1] += 1\n",
    "\n",
    "            times.append(ts)\n",
    "            times_diff.append(ts - (time_start + period*(i)))\n",
    "\n",
    "        # add handcraft features here\n",
    "        \"\"\"time features\"\"\"\n",
    "        # time\n",
    "        row[e_len + 1] = max(times)\n",
    "        row[e_len + 2] = min(times)\n",
    "        row[e_len + 3] = max(times) - min(times)\n",
    "        row[e_len + 4] = np.mean(times)\n",
    "        row[e_len + 5] = np.percentile(times, 50)\n",
    "        row[e_len + 6] = np.std(times)\n",
    "        # time_diff\n",
    "        row[e_len + 7] = max(times_diff)\n",
    "        row[e_len + 8] = min(times_diff)\n",
    "        row[e_len + 9] = np.mean(times_diff)\n",
    "        row[e_len + 10] = np.percentile(times_diff, 50)\n",
    "\n",
    "        # userbase integrated time features\n",
    "        try:\n",
    "            row[e_len + 11] = max(times) - user_dict[uuid][10]\n",
    "            row[e_len + 12] = max(times) - user_dict[uuid][11]\n",
    "            row[e_len + 13] = max(times) - user_dict[uuid][13]\n",
    "            row[e_len + 14] = max(times) - user_dict[uuid][14]\n",
    "            row[e_len + 15] = min(times) - user_dict[uuid][10]\n",
    "            row[e_len + 16] = min(times) - user_dict[uuid][11]\n",
    "            row[e_len + 17] = min(times) - user_dict[uuid][13]\n",
    "            row[e_len + 18] = min(times) - user_dict[uuid][14]\n",
    "            row[e_len + 19] = np.percentile(times, 50) - user_dict[uuid][10]\n",
    "            row[e_len + 20] = np.percentile(times, 50) - user_dict[uuid][11]\n",
    "            row[e_len + 21] = np.percentile(times, 50) - user_dict[uuid][13]\n",
    "            row[e_len + 22] = np.percentile(times, 50) - user_dict[uuid][14]\n",
    "            row[e_len + 23] = np.mean(times) - user_dict[uuid][10]\n",
    "            row[e_len + 24] = np.mean(times) - user_dict[uuid][11]\n",
    "            row[e_len + 25] = np.mean(times) - user_dict[uuid][13]\n",
    "            row[e_len + 26] = np.mean(times) - user_dict[uuid][14]\n",
    "            row[e_len + 27] = (time_start + period*(i)) - user_dict[uuid][10]\n",
    "            row[e_len + 28] = (time_start + period*(i)) - user_dict[uuid][11]\n",
    "            row[e_len + 29] = (time_start + period*(i)) - user_dict[uuid][13]\n",
    "            row[e_len + 30] = (time_start + period*(i)) - user_dict[uuid][14]\n",
    "        except:\n",
    "            row[e_len + 11 : e_len + 31] = np.nan\n",
    "\n",
    "        # expenditure integrated time features\n",
    "        try:\n",
    "            row[e_len + 31] = max(times) - exp_dict[uuid][6]\n",
    "            row[e_len + 32] = max(times) - exp_dict[uuid][7]\n",
    "            row[e_len + 33] = max(times) - exp_dict[uuid][9]\n",
    "            row[e_len + 34] = max(times) - exp_dict[uuid][10]\n",
    "            row[e_len + 35] = min(times) - exp_dict[uuid][6]\n",
    "            row[e_len + 36] = min(times) - exp_dict[uuid][7]\n",
    "            row[e_len + 37] = min(times) - exp_dict[uuid][9]\n",
    "            row[e_len + 38] = min(times) - exp_dict[uuid][10]\n",
    "            row[e_len + 39] = np.percentile(times, 50) - exp_dict[uuid][6]\n",
    "            row[e_len + 40] = np.percentile(times, 50) - exp_dict[uuid][7]\n",
    "            row[e_len + 41] = np.percentile(times, 50) - exp_dict[uuid][9]\n",
    "            row[e_len + 42] = np.percentile(times, 50) - exp_dict[uuid][10]\n",
    "            row[e_len + 43] = np.mean(times) - exp_dict[uuid][6]\n",
    "            row[e_len + 44] = np.mean(times) - exp_dict[uuid][7]\n",
    "            row[e_len + 45] = np.mean(times) - exp_dict[uuid][9]\n",
    "            row[e_len + 46] = np.mean(times) - exp_dict[uuid][10]\n",
    "            row[e_len + 47] = (time_start + period*(i)) - exp_dict[uuid][6]\n",
    "            row[e_len + 48] = (time_start + period*(i)) - exp_dict[uuid][7]\n",
    "            row[e_len + 49] = (time_start + period*(i)) - exp_dict[uuid][9]\n",
    "            row[e_len + 50] = (time_start + period*(i)) - exp_dict[uuid][10]\n",
    "        except:\n",
    "            row[e_len + 31 : e_len + 51] = np.nan\n",
    "\n",
    "        try:\n",
    "            row[e_len + 51] = max(times) - exp_dict[uuid][19]\n",
    "            row[e_len + 52] = max(times) - exp_dict[uuid][20]\n",
    "            row[e_len + 53] = max(times) - exp_dict[uuid][22]\n",
    "            row[e_len + 54] = max(times) - exp_dict[uuid][23]\n",
    "            row[e_len + 55] = min(times) - exp_dict[uuid][19]\n",
    "            row[e_len + 56] = min(times) - exp_dict[uuid][20]\n",
    "            row[e_len + 57] = min(times) - exp_dict[uuid][22]\n",
    "            row[e_len + 58] = min(times) - exp_dict[uuid][23]\n",
    "            row[e_len + 59] = np.percentile(times, 50) - exp_dict[uuid][19]\n",
    "            row[e_len + 60] = np.percentile(times, 50) - exp_dict[uuid][20]\n",
    "            row[e_len + 51] = np.percentile(times, 50) - exp_dict[uuid][22]\n",
    "            row[e_len + 62] = np.percentile(times, 50) - exp_dict[uuid][23]\n",
    "            row[e_len + 63] = np.mean(times) - exp_dict[uuid][19]\n",
    "            row[e_len + 64] = np.mean(times) - exp_dict[uuid][20]\n",
    "            row[e_len + 65] = np.mean(times) - exp_dict[uuid][22]\n",
    "            row[e_len + 66] = np.mean(times) - exp_dict[uuid][23]\n",
    "            row[e_len + 67] = (time_start + period*(i)) - exp_dict[uuid][19]\n",
    "            row[e_len + 68] = (time_start + period*(i)) - exp_dict[uuid][20]\n",
    "            row[e_len + 69] = (time_start + period*(i)) - exp_dict[uuid][22]\n",
    "            row[e_len + 70] = (time_start + period*(i)) - exp_dict[uuid][23]\n",
    "        except:\n",
    "            row[e_len + 51 : e_len + 71] = np.nan\n",
    "\n",
    "        try:\n",
    "            row[e_len + 71] = max(times) - exp_dict[uuid][31]\n",
    "            row[e_len + 72] = max(times) - exp_dict[uuid][32]\n",
    "            row[e_len + 73] = max(times) - exp_dict[uuid][34]\n",
    "            row[e_len + 74] = max(times) - exp_dict[uuid][35]\n",
    "            row[e_len + 75] = min(times) - exp_dict[uuid][31]\n",
    "            row[e_len + 76] = min(times) - exp_dict[uuid][32]\n",
    "            row[e_len + 77] = min(times) - exp_dict[uuid][34]\n",
    "            row[e_len + 78] = min(times) - exp_dict[uuid][35]\n",
    "            row[e_len + 79] = np.percentile(times, 50) - exp_dict[uuid][31]\n",
    "            row[e_len + 80] = np.percentile(times, 50) - exp_dict[uuid][32]\n",
    "            row[e_len + 81] = np.percentile(times, 50) - exp_dict[uuid][34]\n",
    "            row[e_len + 82] = np.percentile(times, 50) - exp_dict[uuid][35]\n",
    "            row[e_len + 83] = np.mean(times) - exp_dict[uuid][31]\n",
    "            row[e_len + 84] = np.mean(times) - exp_dict[uuid][32]\n",
    "            row[e_len + 85] = np.mean(times) - exp_dict[uuid][34]\n",
    "            row[e_len + 86] = np.mean(times) - exp_dict[uuid][35]\n",
    "            row[e_len + 87] = (time_start + period*(i)) - exp_dict[uuid][31]\n",
    "            row[e_len + 88] = (time_start + period*(i)) - exp_dict[uuid][32]\n",
    "            row[e_len + 89] = (time_start + period*(i)) - exp_dict[uuid][34]\n",
    "            row[e_len + 90] = (time_start + period*(i)) - exp_dict[uuid][35]\n",
    "        except:\n",
    "            row[e_len + 71 : e_len + 91] = np.nan\n",
    "\n",
    "        \"\"\"Event features\"\"\"\n",
    "        # [57+] #events\n",
    "        row[e_len + 91] = len(whole_dict[i][uuid])\n",
    "        # break into 2 bins\n",
    "        row[e_len + 92] = len(filter(lambda x: x[1] >= (time_start + period*(i)) and x[1] < (time_start + period*(i+0.5)), whole_dict[i][uuid]))\n",
    "        row[e_len + 93] = len(filter(lambda x: x[1] >= (time_start + period*(i+0.5)) and x[1] < (time_start + period*(i+1)), whole_dict[i][uuid]))\n",
    "        # break into 4 bins\n",
    "        row[e_len + 94] = len(filter(lambda x: x[1] >= (time_start + period*(i)) and x[1] < (time_start + period*(i+0.25)), whole_dict[i][uuid]))\n",
    "        row[e_len + 95] = len(filter(lambda x: x[1] >= (time_start + period*(i+0.25)) and x[1] < (time_start + period*(i+0.5)), whole_dict[i][uuid]))\n",
    "        row[e_len + 96] = len(filter(lambda x: x[1] >= (time_start + period*(i+0.5)) and x[1] < (time_start + period*(i+0.75)), whole_dict[i][uuid]))\n",
    "        row[e_len + 97] = len(filter(lambda x: x[1] >= (time_start + period*(i+0.75)) and x[1] < (time_start + period*(i+1)), whole_dict[i][uuid]))\n",
    "        # break into 7 bins\n",
    "        row[e_len + 98] = len(filter(lambda x: x[1] >= (time_start + period*(i)) and x[1] < (time_start + period*(i+1/7.0)), whole_dict[i][uuid]))\n",
    "        row[e_len + 99] = len(filter(lambda x: x[1] >= (time_start + period*(i+1/7.0)) and x[1] < (time_start + period*(i+2/7.0)), whole_dict[i][uuid]))\n",
    "        row[e_len + 100] = len(filter(lambda x: x[1] >= (time_start + period*(i+2/7.0)) and x[1] < (time_start + period*(i+3/7.0)), whole_dict[i][uuid]))\n",
    "        row[e_len + 101] = len(filter(lambda x: x[1] >= (time_start + period*(i+3/7.0)) and x[1] < (time_start + period*(i+4/7.0)), whole_dict[i][uuid]))\n",
    "        row[e_len + 102] = len(filter(lambda x: x[1] >= (time_start + period*(i+4/7.0)) and x[1] < (time_start + period*(i+5/7.0)), whole_dict[i][uuid]))\n",
    "        row[e_len + 103] = len(filter(lambda x: x[1] >= (time_start + period*(i+5/7.0)) and x[1] < (time_start + period*(i+6/7.0)), whole_dict[i][uuid]))\n",
    "        row[e_len + 104] = len(filter(lambda x: x[1] >= (time_start + period*(i+6/7.0)) and x[1] < (time_start + period*(i+1)), whole_dict[i][uuid]))\n",
    "\n",
    "        \"\"\"features.append(row)\"\"\"\n",
    "        features.append((uuid, row))"
   ]
  },
  {
   "cell_type": "code",
   "execution_count": null,
   "metadata": {
    "collapsed": true
   },
   "outputs": [],
   "source": []
  },
  {
   "cell_type": "code",
   "execution_count": 9,
   "metadata": {
    "collapsed": false
   },
   "outputs": [
    {
     "data": {
      "text/plain": [
       "37"
      ]
     },
     "execution_count": 9,
     "metadata": {},
     "output_type": "execute_result"
    }
   ],
   "source": [
    "len(exp_dict[exp_dict.keys()[0]])"
   ]
  },
  {
   "cell_type": "code",
   "execution_count": 10,
   "metadata": {
    "collapsed": true
   },
   "outputs": [],
   "source": [
    "    ret = []\n",
    "    for each in features:\n",
    "        temp = each[1].tolist()\n",
    "        if each[0] in user_dict:\n",
    "            temp += user_dict[each[0]]\n",
    "        else:\n",
    "            temp += ([np.nan]*145)\n",
    "        if each[0] in exp_dict:\n",
    "            temp += exp_dict[each[0]]\n",
    "        else:\n",
    "            temp += ([np.nan]*37)\n",
    "        ret.append(temp)"
   ]
  },
  {
   "cell_type": "code",
   "execution_count": 11,
   "metadata": {
    "collapsed": true
   },
   "outputs": [],
   "source": [
    "final = pd.DataFrame(ret)"
   ]
  },
  {
   "cell_type": "code",
   "execution_count": 12,
   "metadata": {
    "collapsed": true
   },
   "outputs": [],
   "source": [
    "save_obj(final, 'final_augment')"
   ]
  },
  {
   "cell_type": "code",
   "execution_count": null,
   "metadata": {
    "collapsed": true
   },
   "outputs": [],
   "source": []
  },
  {
   "cell_type": "code",
   "execution_count": null,
   "metadata": {
    "collapsed": true
   },
   "outputs": [],
   "source": []
  },
  {
   "cell_type": "code",
   "execution_count": null,
   "metadata": {
    "collapsed": false
   },
   "outputs": [],
   "source": []
  },
  {
   "cell_type": "code",
   "execution_count": 3,
   "metadata": {
    "collapsed": false
   },
   "outputs": [],
   "source": [
    "final = load_obj('final')"
   ]
  },
  {
   "cell_type": "code",
   "execution_count": 5,
   "metadata": {
    "collapsed": true
   },
   "outputs": [],
   "source": [
    "final[274] = final[274].map(lambda x: ['None', '0', '1', '2'].index(x) if x in ['None', '0', '1', '2'] else 0)\n",
    "final[276] = final[276].map(lambda x: [ '0', '102', '101'].index(x) if x in [ '0', '102', '101'] else 1)"
   ]
  },
  {
   "cell_type": "code",
   "execution_count": 12,
   "metadata": {
    "collapsed": false
   },
   "outputs": [
    {
     "data": {
      "text/html": [
       "<div>\n",
       "<table border=\"1\" class=\"dataframe\">\n",
       "  <thead>\n",
       "    <tr style=\"text-align: right;\">\n",
       "      <th></th>\n",
       "      <th>274</th>\n",
       "      <th>275</th>\n",
       "    </tr>\n",
       "  </thead>\n",
       "  <tbody>\n",
       "    <tr>\n",
       "      <th>0</th>\n",
       "      <td>NaN</td>\n",
       "      <td>NaN</td>\n",
       "    </tr>\n",
       "    <tr>\n",
       "      <th>1</th>\n",
       "      <td>NaN</td>\n",
       "      <td>NaN</td>\n",
       "    </tr>\n",
       "    <tr>\n",
       "      <th>2</th>\n",
       "      <td>NaN</td>\n",
       "      <td>NaN</td>\n",
       "    </tr>\n",
       "    <tr>\n",
       "      <th>3</th>\n",
       "      <td>NaN</td>\n",
       "      <td>NaN</td>\n",
       "    </tr>\n",
       "    <tr>\n",
       "      <th>4</th>\n",
       "      <td>None</td>\n",
       "      <td>1.0</td>\n",
       "    </tr>\n",
       "    <tr>\n",
       "      <th>5</th>\n",
       "      <td>NaN</td>\n",
       "      <td>NaN</td>\n",
       "    </tr>\n",
       "    <tr>\n",
       "      <th>6</th>\n",
       "      <td>NaN</td>\n",
       "      <td>NaN</td>\n",
       "    </tr>\n",
       "    <tr>\n",
       "      <th>7</th>\n",
       "      <td>NaN</td>\n",
       "      <td>NaN</td>\n",
       "    </tr>\n",
       "    <tr>\n",
       "      <th>8</th>\n",
       "      <td>None</td>\n",
       "      <td>1.0</td>\n",
       "    </tr>\n",
       "    <tr>\n",
       "      <th>9</th>\n",
       "      <td>NaN</td>\n",
       "      <td>NaN</td>\n",
       "    </tr>\n",
       "    <tr>\n",
       "      <th>10</th>\n",
       "      <td>NaN</td>\n",
       "      <td>NaN</td>\n",
       "    </tr>\n",
       "    <tr>\n",
       "      <th>11</th>\n",
       "      <td>NaN</td>\n",
       "      <td>NaN</td>\n",
       "    </tr>\n",
       "    <tr>\n",
       "      <th>12</th>\n",
       "      <td>NaN</td>\n",
       "      <td>NaN</td>\n",
       "    </tr>\n",
       "    <tr>\n",
       "      <th>13</th>\n",
       "      <td>NaN</td>\n",
       "      <td>NaN</td>\n",
       "    </tr>\n",
       "    <tr>\n",
       "      <th>14</th>\n",
       "      <td>NaN</td>\n",
       "      <td>NaN</td>\n",
       "    </tr>\n",
       "    <tr>\n",
       "      <th>15</th>\n",
       "      <td>NaN</td>\n",
       "      <td>NaN</td>\n",
       "    </tr>\n",
       "    <tr>\n",
       "      <th>16</th>\n",
       "      <td>NaN</td>\n",
       "      <td>NaN</td>\n",
       "    </tr>\n",
       "    <tr>\n",
       "      <th>17</th>\n",
       "      <td>NaN</td>\n",
       "      <td>NaN</td>\n",
       "    </tr>\n",
       "    <tr>\n",
       "      <th>18</th>\n",
       "      <td>NaN</td>\n",
       "      <td>NaN</td>\n",
       "    </tr>\n",
       "    <tr>\n",
       "      <th>19</th>\n",
       "      <td>NaN</td>\n",
       "      <td>NaN</td>\n",
       "    </tr>\n",
       "    <tr>\n",
       "      <th>20</th>\n",
       "      <td>NaN</td>\n",
       "      <td>NaN</td>\n",
       "    </tr>\n",
       "    <tr>\n",
       "      <th>21</th>\n",
       "      <td>NaN</td>\n",
       "      <td>NaN</td>\n",
       "    </tr>\n",
       "    <tr>\n",
       "      <th>22</th>\n",
       "      <td>NaN</td>\n",
       "      <td>NaN</td>\n",
       "    </tr>\n",
       "    <tr>\n",
       "      <th>23</th>\n",
       "      <td>NaN</td>\n",
       "      <td>NaN</td>\n",
       "    </tr>\n",
       "    <tr>\n",
       "      <th>24</th>\n",
       "      <td>NaN</td>\n",
       "      <td>NaN</td>\n",
       "    </tr>\n",
       "    <tr>\n",
       "      <th>25</th>\n",
       "      <td>NaN</td>\n",
       "      <td>NaN</td>\n",
       "    </tr>\n",
       "    <tr>\n",
       "      <th>26</th>\n",
       "      <td>NaN</td>\n",
       "      <td>NaN</td>\n",
       "    </tr>\n",
       "    <tr>\n",
       "      <th>27</th>\n",
       "      <td>None</td>\n",
       "      <td>1.0</td>\n",
       "    </tr>\n",
       "    <tr>\n",
       "      <th>28</th>\n",
       "      <td>None</td>\n",
       "      <td>1.0</td>\n",
       "    </tr>\n",
       "    <tr>\n",
       "      <th>29</th>\n",
       "      <td>NaN</td>\n",
       "      <td>NaN</td>\n",
       "    </tr>\n",
       "    <tr>\n",
       "      <th>...</th>\n",
       "      <td>...</td>\n",
       "      <td>...</td>\n",
       "    </tr>\n",
       "    <tr>\n",
       "      <th>127388</th>\n",
       "      <td>None</td>\n",
       "      <td>1.0</td>\n",
       "    </tr>\n",
       "    <tr>\n",
       "      <th>127389</th>\n",
       "      <td>None</td>\n",
       "      <td>1.0</td>\n",
       "    </tr>\n",
       "    <tr>\n",
       "      <th>127390</th>\n",
       "      <td>None</td>\n",
       "      <td>1.0</td>\n",
       "    </tr>\n",
       "    <tr>\n",
       "      <th>127391</th>\n",
       "      <td>None</td>\n",
       "      <td>1.0</td>\n",
       "    </tr>\n",
       "    <tr>\n",
       "      <th>127392</th>\n",
       "      <td>NaN</td>\n",
       "      <td>NaN</td>\n",
       "    </tr>\n",
       "    <tr>\n",
       "      <th>127393</th>\n",
       "      <td>NaN</td>\n",
       "      <td>NaN</td>\n",
       "    </tr>\n",
       "    <tr>\n",
       "      <th>127394</th>\n",
       "      <td>NaN</td>\n",
       "      <td>NaN</td>\n",
       "    </tr>\n",
       "    <tr>\n",
       "      <th>127395</th>\n",
       "      <td>None</td>\n",
       "      <td>1.0</td>\n",
       "    </tr>\n",
       "    <tr>\n",
       "      <th>127396</th>\n",
       "      <td>NaN</td>\n",
       "      <td>NaN</td>\n",
       "    </tr>\n",
       "    <tr>\n",
       "      <th>127397</th>\n",
       "      <td>NaN</td>\n",
       "      <td>NaN</td>\n",
       "    </tr>\n",
       "    <tr>\n",
       "      <th>127398</th>\n",
       "      <td>None</td>\n",
       "      <td>1.0</td>\n",
       "    </tr>\n",
       "    <tr>\n",
       "      <th>127399</th>\n",
       "      <td>None</td>\n",
       "      <td>1.0</td>\n",
       "    </tr>\n",
       "    <tr>\n",
       "      <th>127400</th>\n",
       "      <td>NaN</td>\n",
       "      <td>NaN</td>\n",
       "    </tr>\n",
       "    <tr>\n",
       "      <th>127401</th>\n",
       "      <td>None</td>\n",
       "      <td>2.0</td>\n",
       "    </tr>\n",
       "    <tr>\n",
       "      <th>127402</th>\n",
       "      <td>NaN</td>\n",
       "      <td>NaN</td>\n",
       "    </tr>\n",
       "    <tr>\n",
       "      <th>127403</th>\n",
       "      <td>NaN</td>\n",
       "      <td>NaN</td>\n",
       "    </tr>\n",
       "    <tr>\n",
       "      <th>127404</th>\n",
       "      <td>NaN</td>\n",
       "      <td>NaN</td>\n",
       "    </tr>\n",
       "    <tr>\n",
       "      <th>127405</th>\n",
       "      <td>None</td>\n",
       "      <td>1.0</td>\n",
       "    </tr>\n",
       "    <tr>\n",
       "      <th>127406</th>\n",
       "      <td>None</td>\n",
       "      <td>1.0</td>\n",
       "    </tr>\n",
       "    <tr>\n",
       "      <th>127407</th>\n",
       "      <td>None</td>\n",
       "      <td>1.0</td>\n",
       "    </tr>\n",
       "    <tr>\n",
       "      <th>127408</th>\n",
       "      <td>NaN</td>\n",
       "      <td>NaN</td>\n",
       "    </tr>\n",
       "    <tr>\n",
       "      <th>127409</th>\n",
       "      <td>None</td>\n",
       "      <td>1.0</td>\n",
       "    </tr>\n",
       "    <tr>\n",
       "      <th>127410</th>\n",
       "      <td>None</td>\n",
       "      <td>1.0</td>\n",
       "    </tr>\n",
       "    <tr>\n",
       "      <th>127411</th>\n",
       "      <td>None</td>\n",
       "      <td>1.0</td>\n",
       "    </tr>\n",
       "    <tr>\n",
       "      <th>127412</th>\n",
       "      <td>None</td>\n",
       "      <td>1.0</td>\n",
       "    </tr>\n",
       "    <tr>\n",
       "      <th>127413</th>\n",
       "      <td>None</td>\n",
       "      <td>2.0</td>\n",
       "    </tr>\n",
       "    <tr>\n",
       "      <th>127414</th>\n",
       "      <td>None</td>\n",
       "      <td>1.0</td>\n",
       "    </tr>\n",
       "    <tr>\n",
       "      <th>127415</th>\n",
       "      <td>NaN</td>\n",
       "      <td>NaN</td>\n",
       "    </tr>\n",
       "    <tr>\n",
       "      <th>127416</th>\n",
       "      <td>None</td>\n",
       "      <td>1.0</td>\n",
       "    </tr>\n",
       "    <tr>\n",
       "      <th>127417</th>\n",
       "      <td>NaN</td>\n",
       "      <td>NaN</td>\n",
       "    </tr>\n",
       "  </tbody>\n",
       "</table>\n",
       "<p>127418 rows × 2 columns</p>\n",
       "</div>"
      ],
      "text/plain": [
       "         274  275\n",
       "0        NaN  NaN\n",
       "1        NaN  NaN\n",
       "2        NaN  NaN\n",
       "3        NaN  NaN\n",
       "4       None  1.0\n",
       "5        NaN  NaN\n",
       "6        NaN  NaN\n",
       "7        NaN  NaN\n",
       "8       None  1.0\n",
       "9        NaN  NaN\n",
       "10       NaN  NaN\n",
       "11       NaN  NaN\n",
       "12       NaN  NaN\n",
       "13       NaN  NaN\n",
       "14       NaN  NaN\n",
       "15       NaN  NaN\n",
       "16       NaN  NaN\n",
       "17       NaN  NaN\n",
       "18       NaN  NaN\n",
       "19       NaN  NaN\n",
       "20       NaN  NaN\n",
       "21       NaN  NaN\n",
       "22       NaN  NaN\n",
       "23       NaN  NaN\n",
       "24       NaN  NaN\n",
       "25       NaN  NaN\n",
       "26       NaN  NaN\n",
       "27      None  1.0\n",
       "28      None  1.0\n",
       "29       NaN  NaN\n",
       "...      ...  ...\n",
       "127388  None  1.0\n",
       "127389  None  1.0\n",
       "127390  None  1.0\n",
       "127391  None  1.0\n",
       "127392   NaN  NaN\n",
       "127393   NaN  NaN\n",
       "127394   NaN  NaN\n",
       "127395  None  1.0\n",
       "127396   NaN  NaN\n",
       "127397   NaN  NaN\n",
       "127398  None  1.0\n",
       "127399  None  1.0\n",
       "127400   NaN  NaN\n",
       "127401  None  2.0\n",
       "127402   NaN  NaN\n",
       "127403   NaN  NaN\n",
       "127404   NaN  NaN\n",
       "127405  None  1.0\n",
       "127406  None  1.0\n",
       "127407  None  1.0\n",
       "127408   NaN  NaN\n",
       "127409  None  1.0\n",
       "127410  None  1.0\n",
       "127411  None  1.0\n",
       "127412  None  1.0\n",
       "127413  None  2.0\n",
       "127414  None  1.0\n",
       "127415   NaN  NaN\n",
       "127416  None  1.0\n",
       "127417   NaN  NaN\n",
       "\n",
       "[127418 rows x 2 columns]"
      ]
     },
     "execution_count": 12,
     "metadata": {},
     "output_type": "execute_result"
    }
   ],
   "source": [
    "final[range(274,276)]"
   ]
  },
  {
   "cell_type": "code",
   "execution_count": null,
   "metadata": {
    "collapsed": true
   },
   "outputs": [],
   "source": []
  },
  {
   "cell_type": "code",
   "execution_count": null,
   "metadata": {
    "collapsed": true
   },
   "outputs": [],
   "source": []
  },
  {
   "cell_type": "code",
   "execution_count": 6,
   "metadata": {
    "collapsed": true
   },
   "outputs": [],
   "source": [
    "indices = range(1, final.shape[1])\n",
    "\n",
    "data = final[indices]\n",
    "target = final[0]"
   ]
  },
  {
   "cell_type": "code",
   "execution_count": 7,
   "metadata": {
    "collapsed": false,
    "scrolled": true
   },
   "outputs": [
    {
     "data": {
      "text/plain": [
       "(127418, 447)"
      ]
     },
     "execution_count": 7,
     "metadata": {},
     "output_type": "execute_result"
    }
   ],
   "source": [
    "data.shape"
   ]
  },
  {
   "cell_type": "markdown",
   "metadata": {},
   "source": [
    "### Fill NaN with mean, and train model with full feature"
   ]
  },
  {
   "cell_type": "code",
   "execution_count": null,
   "metadata": {
    "collapsed": false
   },
   "outputs": [],
   "source": [
    "from sklearn.preprocessing import Imputer\n",
    "imputer = Imputer(strategy = \"median\")\n",
    "data = imputer.fit_transform(data)"
   ]
  },
  {
   "cell_type": "code",
   "execution_count": null,
   "metadata": {
    "collapsed": true
   },
   "outputs": [],
   "source": [
    "X_train, X_test, y_train, y_test = cross_validation.train_test_split(data, target, test_size=0.4, random_state=0)"
   ]
  },
  {
   "cell_type": "code",
   "execution_count": null,
   "metadata": {
    "collapsed": false
   },
   "outputs": [],
   "source": [
    "clf = GradientBoostingClassifier(learning_rate = 0.15, loss='exponential', n_estimators = 300, max_features=400).fit(X_train, y_train)\n",
    "y_pred = clf.predict(X_test)"
   ]
  },
  {
   "cell_type": "code",
   "execution_count": null,
   "metadata": {
    "collapsed": false
   },
   "outputs": [],
   "source": [
    "# Evaluation\n",
    "print \"Below are the accuracy, AUC, F1 score, precision, and recall: \"\n",
    "print clf.score(X_test, y_test)\n",
    "print roc_auc_score(y_test, y_pred)\n",
    "print f1_score(y_test, y_pred)\n",
    "print precision_score(y_test, y_pred)\n",
    "print recall_score(y_test, y_pred)\n",
    "\n",
    "print \"Confusion Matrix: \"\n",
    "cm = confusion_matrix(y_test, y_pred)\n",
    "print cm\n",
    "#false positive\n",
    "print 'false positive: ' + str(cm[0][1])\n",
    "#false negative\n",
    "print 'false negative: ' + str(cm[1][0])"
   ]
  },
  {
   "cell_type": "markdown",
   "metadata": {
    "collapsed": true
   },
   "source": [
    "### fill NaN with -999, and train with all features"
   ]
  },
  {
   "cell_type": "code",
   "execution_count": 12,
   "metadata": {
    "collapsed": true
   },
   "outputs": [],
   "source": [
    "# test \n",
    "final.fillna(value = -999, inplace = True)"
   ]
  },
  {
   "cell_type": "code",
   "execution_count": 14,
   "metadata": {
    "collapsed": false
   },
   "outputs": [],
   "source": [
    "X_train, X_test, y_train, y_test = cross_validation.train_test_split(data, target, test_size=0.4, random_state=0)\n",
    "clf = GradientBoostingClassifier(learning_rate = 0.15, loss='exponential', n_estimators = 300, max_features=400).fit(X_train, y_train)\n",
    "y_pred = clf.predict(X_test)"
   ]
  },
  {
   "cell_type": "code",
   "execution_count": 15,
   "metadata": {
    "collapsed": false
   },
   "outputs": [
    {
     "name": "stdout",
     "output_type": "stream",
     "text": [
      "Below are the accuracy, AUC, F1 score, precision, and recall: \n",
      "0.813981321614\n",
      "0.754097343395\n",
      "0.871323679103\n",
      "0.835872197485\n",
      "0.909915528091\n",
      "Confusion Matrix: \n",
      "[[ 9387  6303]\n",
      " [ 3178 32100]]\n",
      "false positive: 6303\n",
      "false negative: 3178\n"
     ]
    }
   ],
   "source": [
    "# Evaluation\n",
    "print \"Below are the accuracy, AUC, F1 score, precision, and recall: \"\n",
    "print clf.score(X_test, y_test)\n",
    "print roc_auc_score(y_test, y_pred)\n",
    "print f1_score(y_test, y_pred)\n",
    "print precision_score(y_test, y_pred)\n",
    "print recall_score(y_test, y_pred)\n",
    "\n",
    "print \"Confusion Matrix: \"\n",
    "cm = confusion_matrix(y_test, y_pred)\n",
    "print cm\n",
    "#false positive\n",
    "print 'false positive: ' + str(cm[0][1])\n",
    "#false negative\n",
    "print 'false negative: ' + str(cm[1][0])"
   ]
  },
  {
   "cell_type": "markdown",
   "metadata": {
    "collapsed": true
   },
   "source": [
    "### fill NaNs with 0, train the model"
   ]
  },
  {
   "cell_type": "code",
   "execution_count": 18,
   "metadata": {
    "collapsed": true
   },
   "outputs": [],
   "source": [
    "# test \n",
    "final.fillna(value = 0, inplace = True)"
   ]
  },
  {
   "cell_type": "code",
   "execution_count": 20,
   "metadata": {
    "collapsed": false
   },
   "outputs": [],
   "source": [
    "X_train, X_test, y_train, y_test = cross_validation.train_test_split(data, target, test_size=0.4, random_state=0)\n",
    "clf = GradientBoostingClassifier(learning_rate = 0.15, loss='exponential', n_estimators = 300, max_features=400).fit(X_train, y_train)\n",
    "y_pred = clf.predict(X_test)"
   ]
  },
  {
   "cell_type": "code",
   "execution_count": 21,
   "metadata": {
    "collapsed": false
   },
   "outputs": [
    {
     "name": "stdout",
     "output_type": "stream",
     "text": [
      "Below are the accuracy, AUC, F1 score, precision, and recall: \n",
      "0.814452205305\n",
      "0.754455193026\n",
      "0.871687719631\n",
      "0.835992192583\n",
      "0.910567492488\n",
      "Confusion Matrix: \n",
      "[[ 9388  6302]\n",
      " [ 3155 32123]]\n",
      "false positive: 6302\n",
      "false negative: 3155\n"
     ]
    }
   ],
   "source": [
    "# Evaluation\n",
    "print \"Below are the accuracy, AUC, F1 score, precision, and recall: \"\n",
    "print clf.score(X_test, y_test)\n",
    "print roc_auc_score(y_test, y_pred)\n",
    "print f1_score(y_test, y_pred)\n",
    "print precision_score(y_test, y_pred)\n",
    "print recall_score(y_test, y_pred)\n",
    "\n",
    "print \"Confusion Matrix: \"\n",
    "cm = confusion_matrix(y_test, y_pred)\n",
    "print cm\n",
    "#false positive\n",
    "print 'false positive: ' + str(cm[0][1])\n",
    "#false negative\n",
    "print 'false negative: ' + str(cm[1][0])"
   ]
  },
  {
   "cell_type": "markdown",
   "metadata": {},
   "source": [
    "### Only use event features which contain very few nulls"
   ]
  },
  {
   "cell_type": "code",
   "execution_count": 48,
   "metadata": {
    "collapsed": false
   },
   "outputs": [
    {
     "data": {
      "text/html": [
       "<div>\n",
       "<table border=\"1\" class=\"dataframe\">\n",
       "  <thead>\n",
       "    <tr style=\"text-align: right;\">\n",
       "      <th></th>\n",
       "      <th>0</th>\n",
       "      <th>1</th>\n",
       "      <th>2</th>\n",
       "      <th>3</th>\n",
       "      <th>4</th>\n",
       "      <th>5</th>\n",
       "      <th>6</th>\n",
       "      <th>7</th>\n",
       "      <th>8</th>\n",
       "      <th>9</th>\n",
       "      <th>...</th>\n",
       "      <th>293</th>\n",
       "      <th>294</th>\n",
       "      <th>295</th>\n",
       "      <th>296</th>\n",
       "      <th>297</th>\n",
       "      <th>298</th>\n",
       "      <th>299</th>\n",
       "      <th>300</th>\n",
       "      <th>301</th>\n",
       "      <th>302</th>\n",
       "    </tr>\n",
       "  </thead>\n",
       "  <tbody>\n",
       "    <tr>\n",
       "      <th>0</th>\n",
       "      <td>1.0</td>\n",
       "      <td>0.0</td>\n",
       "      <td>0.0</td>\n",
       "      <td>0.0</td>\n",
       "      <td>0.0</td>\n",
       "      <td>0.0</td>\n",
       "      <td>0.0</td>\n",
       "      <td>0.0</td>\n",
       "      <td>0.0</td>\n",
       "      <td>0.0</td>\n",
       "      <td>...</td>\n",
       "      <td>0.0</td>\n",
       "      <td>0.0</td>\n",
       "      <td>1.0</td>\n",
       "      <td>0.0</td>\n",
       "      <td>0.0</td>\n",
       "      <td>0.0</td>\n",
       "      <td>0.0</td>\n",
       "      <td>0.0</td>\n",
       "      <td>1.0</td>\n",
       "      <td>0.0</td>\n",
       "    </tr>\n",
       "    <tr>\n",
       "      <th>1</th>\n",
       "      <td>1.0</td>\n",
       "      <td>0.0</td>\n",
       "      <td>0.0</td>\n",
       "      <td>0.0</td>\n",
       "      <td>0.0</td>\n",
       "      <td>0.0</td>\n",
       "      <td>0.0</td>\n",
       "      <td>0.0</td>\n",
       "      <td>0.0</td>\n",
       "      <td>0.0</td>\n",
       "      <td>...</td>\n",
       "      <td>0.0</td>\n",
       "      <td>0.0</td>\n",
       "      <td>4.0</td>\n",
       "      <td>0.0</td>\n",
       "      <td>0.0</td>\n",
       "      <td>0.0</td>\n",
       "      <td>0.0</td>\n",
       "      <td>0.0</td>\n",
       "      <td>4.0</td>\n",
       "      <td>0.0</td>\n",
       "    </tr>\n",
       "    <tr>\n",
       "      <th>2</th>\n",
       "      <td>1.0</td>\n",
       "      <td>0.0</td>\n",
       "      <td>0.0</td>\n",
       "      <td>0.0</td>\n",
       "      <td>0.0</td>\n",
       "      <td>0.0</td>\n",
       "      <td>0.0</td>\n",
       "      <td>0.0</td>\n",
       "      <td>0.0</td>\n",
       "      <td>0.0</td>\n",
       "      <td>...</td>\n",
       "      <td>0.0</td>\n",
       "      <td>0.0</td>\n",
       "      <td>2.0</td>\n",
       "      <td>0.0</td>\n",
       "      <td>0.0</td>\n",
       "      <td>0.0</td>\n",
       "      <td>0.0</td>\n",
       "      <td>0.0</td>\n",
       "      <td>2.0</td>\n",
       "      <td>0.0</td>\n",
       "    </tr>\n",
       "    <tr>\n",
       "      <th>3</th>\n",
       "      <td>1.0</td>\n",
       "      <td>0.0</td>\n",
       "      <td>0.0</td>\n",
       "      <td>0.0</td>\n",
       "      <td>0.0</td>\n",
       "      <td>0.0</td>\n",
       "      <td>0.0</td>\n",
       "      <td>0.0</td>\n",
       "      <td>0.0</td>\n",
       "      <td>0.0</td>\n",
       "      <td>...</td>\n",
       "      <td>0.0</td>\n",
       "      <td>0.0</td>\n",
       "      <td>1.0</td>\n",
       "      <td>0.0</td>\n",
       "      <td>0.0</td>\n",
       "      <td>0.0</td>\n",
       "      <td>0.0</td>\n",
       "      <td>0.0</td>\n",
       "      <td>1.0</td>\n",
       "      <td>0.0</td>\n",
       "    </tr>\n",
       "    <tr>\n",
       "      <th>4</th>\n",
       "      <td>1.0</td>\n",
       "      <td>0.0</td>\n",
       "      <td>0.0</td>\n",
       "      <td>0.0</td>\n",
       "      <td>0.0</td>\n",
       "      <td>0.0</td>\n",
       "      <td>0.0</td>\n",
       "      <td>0.0</td>\n",
       "      <td>0.0</td>\n",
       "      <td>0.0</td>\n",
       "      <td>...</td>\n",
       "      <td>0.0</td>\n",
       "      <td>0.0</td>\n",
       "      <td>109.0</td>\n",
       "      <td>0.0</td>\n",
       "      <td>0.0</td>\n",
       "      <td>0.0</td>\n",
       "      <td>0.0</td>\n",
       "      <td>0.0</td>\n",
       "      <td>109.0</td>\n",
       "      <td>0.0</td>\n",
       "    </tr>\n",
       "  </tbody>\n",
       "</table>\n",
       "<p>5 rows × 303 columns</p>\n",
       "</div>"
      ],
      "text/plain": [
       "   0    1    2    3    4    5    6    7    8    9   ...   293  294    295  \\\n",
       "0  1.0  0.0  0.0  0.0  0.0  0.0  0.0  0.0  0.0  0.0 ...   0.0  0.0    1.0   \n",
       "1  1.0  0.0  0.0  0.0  0.0  0.0  0.0  0.0  0.0  0.0 ...   0.0  0.0    4.0   \n",
       "2  1.0  0.0  0.0  0.0  0.0  0.0  0.0  0.0  0.0  0.0 ...   0.0  0.0    2.0   \n",
       "3  1.0  0.0  0.0  0.0  0.0  0.0  0.0  0.0  0.0  0.0 ...   0.0  0.0    1.0   \n",
       "4  1.0  0.0  0.0  0.0  0.0  0.0  0.0  0.0  0.0  0.0 ...   0.0  0.0  109.0   \n",
       "\n",
       "   296  297  298  299  300    301  302  \n",
       "0  0.0  0.0  0.0  0.0  0.0    1.0  0.0  \n",
       "1  0.0  0.0  0.0  0.0  0.0    4.0  0.0  \n",
       "2  0.0  0.0  0.0  0.0  0.0    2.0  0.0  \n",
       "3  0.0  0.0  0.0  0.0  0.0    1.0  0.0  \n",
       "4  0.0  0.0  0.0  0.0  0.0  109.0  0.0  \n",
       "\n",
       "[5 rows x 303 columns]"
      ]
     },
     "execution_count": 48,
     "metadata": {},
     "output_type": "execute_result"
    }
   ],
   "source": [
    "final[range(303)].head()"
   ]
  },
  {
   "cell_type": "code",
   "execution_count": 5,
   "metadata": {
    "collapsed": true
   },
   "outputs": [],
   "source": [
    "indices = range(1, 303)\n",
    "\n",
    "data = final[indices]\n",
    "target = final[0]"
   ]
  },
  {
   "cell_type": "code",
   "execution_count": 9,
   "metadata": {
    "collapsed": false
   },
   "outputs": [],
   "source": [
    "X_train, X_test, y_train, y_test = cross_validation.train_test_split(data, target, test_size=0.4, random_state=0)\n",
    "clf = GradientBoostingClassifier(learning_rate = 0.15, loss='exponential', n_estimators = 300, max_features=250).fit(X_train, y_train)\n",
    "y_pred = clf.predict(X_test)"
   ]
  },
  {
   "cell_type": "code",
   "execution_count": 10,
   "metadata": {
    "collapsed": false
   },
   "outputs": [
    {
     "name": "stdout",
     "output_type": "stream",
     "text": [
      "Below are the accuracy, AUC, F1 score, precision, and recall: \n",
      "0.813843980537\n",
      "0.753998131422\n",
      "0.871216439992\n",
      "0.835842275237\n",
      "0.909717104144\n",
      "Confusion Matrix: \n",
      "[[ 9387  6303]\n",
      " [ 3185 32093]]\n",
      "false positive: 6303\n",
      "false negative: 3185\n"
     ]
    }
   ],
   "source": [
    "# Evaluation\n",
    "print \"Below are the accuracy, AUC, F1 score, precision, and recall: \"\n",
    "print clf.score(X_test, y_test)\n",
    "print roc_auc_score(y_test, y_pred)\n",
    "print f1_score(y_test, y_pred)\n",
    "print precision_score(y_test, y_pred)\n",
    "print recall_score(y_test, y_pred)\n",
    "\n",
    "print \"Confusion Matrix: \"\n",
    "cm = confusion_matrix(y_test, y_pred)\n",
    "print cm\n",
    "#false positive\n",
    "print 'false positive: ' + str(cm[0][1])\n",
    "#false negative\n",
    "print 'false negative: ' + str(cm[1][0])"
   ]
  },
  {
   "cell_type": "code",
   "execution_count": null,
   "metadata": {
    "collapsed": false
   },
   "outputs": [],
   "source": []
  },
  {
   "cell_type": "markdown",
   "metadata": {},
   "source": [
    "### Mean imputation + Feature selection (k = 400)"
   ]
  },
  {
   "cell_type": "code",
   "execution_count": 6,
   "metadata": {
    "collapsed": true
   },
   "outputs": [],
   "source": [
    "from sklearn.feature_selection import f_classif\n",
    "from sklearn.feature_selection import chi2\n",
    "from sklearn.feature_selection import SelectKBest"
   ]
  },
  {
   "cell_type": "code",
   "execution_count": 38,
   "metadata": {
    "collapsed": false
   },
   "outputs": [
    {
     "name": "stderr",
     "output_type": "stream",
     "text": [
      "/usr/local/lib/python2.7/site-packages/sklearn/feature_selection/univariate_selection.py:113: UserWarning: Features [259 322 323 324 325 326 328 338 356 383 397 443] are constant.\n",
      "  UserWarning)\n"
     ]
    }
   ],
   "source": [
    "score = f_classif(data, target)"
   ]
  },
  {
   "cell_type": "code",
   "execution_count": 7,
   "metadata": {
    "collapsed": false
   },
   "outputs": [
    {
     "name": "stderr",
     "output_type": "stream",
     "text": [
      "/usr/local/lib/python2.7/site-packages/sklearn/feature_selection/univariate_selection.py:113: UserWarning: Features [259 322 323 324 325 326 328 338 356 383 397 443] are constant.\n",
      "  UserWarning)\n"
     ]
    }
   ],
   "source": [
    "select = SelectKBest(f_classif, k = 400)\n",
    "data2 = select.fit_transform(data, target)\n",
    "X_train, X_test, y_train, y_test = cross_validation.train_test_split(data2, target, test_size=0.4, random_state=0)"
   ]
  },
  {
   "cell_type": "code",
   "execution_count": 40,
   "metadata": {
    "collapsed": true
   },
   "outputs": [],
   "source": [
    "clf = GradientBoostingClassifier(learning_rate = 0.15, loss='exponential', n_estimators = 300, max_features=250).fit(X_train, y_train)\n",
    "y_pred = clf.predict(X_test)"
   ]
  },
  {
   "cell_type": "code",
   "execution_count": 41,
   "metadata": {
    "collapsed": false
   },
   "outputs": [
    {
     "name": "stdout",
     "output_type": "stream",
     "text": [
      "Below are the accuracy, AUC, F1 score, precision, and recall: \n",
      "0.812725631769\n",
      "0.750943087358\n",
      "0.870788266031\n",
      "0.833389474775\n",
      "0.911701343614\n",
      "Confusion Matrix: \n",
      "[[ 9260  6430]\n",
      " [ 3115 32163]]\n",
      "false positive: 6430\n",
      "false negative: 3115\n"
     ]
    }
   ],
   "source": [
    "# Evaluation\n",
    "print \"Below are the accuracy, AUC, F1 score, precision, and recall: \"\n",
    "print clf.score(X_test, y_test)\n",
    "print roc_auc_score(y_test, y_pred)\n",
    "print f1_score(y_test, y_pred)\n",
    "print precision_score(y_test, y_pred)\n",
    "print recall_score(y_test, y_pred)\n",
    "\n",
    "print \"Confusion Matrix: \"\n",
    "cm = confusion_matrix(y_test, y_pred)\n",
    "print cm\n",
    "#false positive\n",
    "print 'false positive: ' + str(cm[0][1])\n",
    "#false negative\n",
    "print 'false negative: ' + str(cm[1][0])"
   ]
  },
  {
   "cell_type": "markdown",
   "metadata": {},
   "source": [
    "### Mean imputation + Feature selection (k = 300)"
   ]
  },
  {
   "cell_type": "code",
   "execution_count": 43,
   "metadata": {
    "collapsed": true
   },
   "outputs": [],
   "source": [
    "select = SelectKBest(f_classif, k = 300)\n",
    "data2 = select.fit_transform(data, target)\n",
    "X_train, X_test, y_train, y_test = cross_validation.train_test_split(data2, target, test_size=0.4, random_state=0)"
   ]
  },
  {
   "cell_type": "code",
   "execution_count": 44,
   "metadata": {
    "collapsed": true
   },
   "outputs": [],
   "source": [
    "clf = GradientBoostingClassifier(learning_rate = 0.15, loss='exponential', n_estimators = 300, max_features=250).fit(X_train, y_train)\n",
    "y_pred = clf.predict(X_test)"
   ]
  },
  {
   "cell_type": "code",
   "execution_count": 45,
   "metadata": {
    "collapsed": false
   },
   "outputs": [
    {
     "name": "stdout",
     "output_type": "stream",
     "text": [
      "Below are the accuracy, AUC, F1 score, precision, and recall: \n",
      "0.81329461623\n",
      "0.753742837867\n",
      "0.870759201412\n",
      "0.835862536504\n",
      "0.908696638131\n",
      "Confusion Matrix: \n",
      "[[ 9395  6295]\n",
      " [ 3221 32057]]\n",
      "false positive: 6295\n",
      "false negative: 3221\n"
     ]
    }
   ],
   "source": [
    "# Evaluation\n",
    "print \"Below are the accuracy, AUC, F1 score, precision, and recall: \"\n",
    "print clf.score(X_test, y_test)\n",
    "print roc_auc_score(y_test, y_pred)\n",
    "print f1_score(y_test, y_pred)\n",
    "print precision_score(y_test, y_pred)\n",
    "print recall_score(y_test, y_pred)\n",
    "\n",
    "print \"Confusion Matrix: \"\n",
    "cm = confusion_matrix(y_test, y_pred)\n",
    "print cm\n",
    "#false positive\n",
    "print 'false positive: ' + str(cm[0][1])\n",
    "#false negative\n",
    "print 'false negative: ' + str(cm[1][0])"
   ]
  },
  {
   "cell_type": "code",
   "execution_count": null,
   "metadata": {
    "collapsed": true
   },
   "outputs": [],
   "source": []
  },
  {
   "cell_type": "code",
   "execution_count": null,
   "metadata": {
    "collapsed": true
   },
   "outputs": [],
   "source": []
  },
  {
   "cell_type": "markdown",
   "metadata": {},
   "source": [
    "### Mean imputation + Feature selection (k = 200)"
   ]
  },
  {
   "cell_type": "code",
   "execution_count": 47,
   "metadata": {
    "collapsed": true
   },
   "outputs": [],
   "source": [
    "select = SelectKBest(f_classif, k = 200)\n",
    "data2 = select.fit_transform(data, target)\n",
    "X_train, X_test, y_train, y_test = cross_validation.train_test_split(data2, target, test_size=0.4, random_state=0)"
   ]
  },
  {
   "cell_type": "code",
   "execution_count": 48,
   "metadata": {
    "collapsed": true
   },
   "outputs": [],
   "source": [
    "clf = GradientBoostingClassifier(learning_rate = 0.15, loss='exponential', n_estimators = 300, max_features=200).fit(X_train, y_train)\n",
    "y_pred = clf.predict(X_test)"
   ]
  },
  {
   "cell_type": "code",
   "execution_count": 49,
   "metadata": {
    "collapsed": false
   },
   "outputs": [
    {
     "name": "stdout",
     "output_type": "stream",
     "text": [
      "Below are the accuracy, AUC, F1 score, precision, and recall: \n",
      "0.812509810077\n",
      "0.751158762969\n",
      "0.870546479179\n",
      "0.833705241308\n",
      "0.910794262713\n",
      "Confusion Matrix: \n",
      "[[ 9281  6409]\n",
      " [ 3147 32131]]\n",
      "false positive: 6409\n",
      "false negative: 3147\n"
     ]
    }
   ],
   "source": [
    "# Evaluation\n",
    "print \"Below are the accuracy, AUC, F1 score, precision, and recall: \"\n",
    "print clf.score(X_test, y_test)\n",
    "print roc_auc_score(y_test, y_pred)\n",
    "print f1_score(y_test, y_pred)\n",
    "print precision_score(y_test, y_pred)\n",
    "print recall_score(y_test, y_pred)\n",
    "\n",
    "print \"Confusion Matrix: \"\n",
    "cm = confusion_matrix(y_test, y_pred)\n",
    "print cm\n",
    "#false positive\n",
    "print 'false positive: ' + str(cm[0][1])\n",
    "#false negative\n",
    "print 'false negative: ' + str(cm[1][0])"
   ]
  },
  {
   "cell_type": "markdown",
   "metadata": {},
   "source": [
    "### Try other models: logistic"
   ]
  },
  {
   "cell_type": "code",
   "execution_count": 98,
   "metadata": {
    "collapsed": true
   },
   "outputs": [],
   "source": [
    "def eval_result():\n",
    "    # Evaluation\n",
    "    print \"Below are the accuracy, AUC, F1 score, precision, and recall: \"\n",
    "    print clf.score(X_test, y_test)\n",
    "    print roc_auc_score(y_test, y_pred)\n",
    "    print f1_score(y_test, y_pred)\n",
    "    print precision_score(y_test, y_pred)\n",
    "    print recall_score(y_test, y_pred)\n",
    "\n",
    "    print \"Confusion Matrix: \"\n",
    "    cm = confusion_matrix(y_test, y_pred)\n",
    "    print cm\n",
    "    #false positive\n",
    "    print 'false positive: ' + str(cm[0][1])\n",
    "    #false negative\n",
    "    print 'false negative: ' + str(cm[1][0])"
   ]
  },
  {
   "cell_type": "code",
   "execution_count": 8,
   "metadata": {
    "collapsed": true
   },
   "outputs": [],
   "source": [
    "from sklearn.linear_model import LogisticRegression, SGDClassifier"
   ]
  },
  {
   "cell_type": "code",
   "execution_count": 51,
   "metadata": {
    "collapsed": true
   },
   "outputs": [],
   "source": [
    "select = SelectKBest(f_classif, k = 300)\n",
    "data2 = select.fit_transform(data, target)\n",
    "X_train, X_test, y_train, y_test = cross_validation.train_test_split(data2, target, test_size=0.4, random_state=0)"
   ]
  },
  {
   "cell_type": "code",
   "execution_count": 15,
   "metadata": {
    "collapsed": true
   },
   "outputs": [],
   "source": [
    "clf = LogisticRegression().fit(X_train, y_train)\n",
    "y_pred = clf.predict(X_test)"
   ]
  },
  {
   "cell_type": "code",
   "execution_count": 16,
   "metadata": {
    "collapsed": false
   },
   "outputs": [
    {
     "name": "stdout",
     "output_type": "stream",
     "text": [
      "Below are the accuracy, AUC, F1 score, precision, and recall: \n",
      "0.742956364778\n",
      "0.625112636258\n",
      "0.833830113773\n",
      "0.754539402704\n",
      "0.931742162254\n",
      "Confusion Matrix: \n",
      "[[ 4997 10693]\n",
      " [ 2408 32870]]\n",
      "false positive: 10693\n",
      "false negative: 2408\n"
     ]
    }
   ],
   "source": [
    "eval_result()"
   ]
  },
  {
   "cell_type": "markdown",
   "metadata": {},
   "source": [
    "### SGD"
   ]
  },
  {
   "cell_type": "code",
   "execution_count": 23,
   "metadata": {
    "collapsed": true
   },
   "outputs": [],
   "source": [
    "clf = SGDClassifier().fit(X_train, y_train)\n",
    "y_pred = clf.predict(X_test)"
   ]
  },
  {
   "cell_type": "code",
   "execution_count": 24,
   "metadata": {
    "collapsed": false,
    "scrolled": true
   },
   "outputs": [
    {
     "name": "stdout",
     "output_type": "stream",
     "text": [
      "Below are the accuracy, AUC, F1 score, precision, and recall: \n",
      "0.692159786533\n",
      "0.5\n",
      "0.818078519584\n",
      "0.692159786533\n",
      "1.0\n",
      "Confusion Matrix: \n",
      "[[    0 15690]\n",
      " [    0 35278]]\n",
      "false positive: 15690\n",
      "false negative: 0\n"
     ]
    }
   ],
   "source": [
    "eval_result()"
   ]
  },
  {
   "cell_type": "markdown",
   "metadata": {},
   "source": [
    "### some ensemble methods"
   ]
  },
  {
   "cell_type": "code",
   "execution_count": 25,
   "metadata": {
    "collapsed": false
   },
   "outputs": [],
   "source": [
    "from sklearn.ensemble import AdaBoostClassifier, ExtraTreesClassifier, RandomForestClassifier"
   ]
  },
  {
   "cell_type": "code",
   "execution_count": 26,
   "metadata": {
    "collapsed": true
   },
   "outputs": [],
   "source": [
    "clf = AdaBoostClassifier().fit(X_train, y_train)\n",
    "y_pred = clf.predict(X_test)"
   ]
  },
  {
   "cell_type": "code",
   "execution_count": 27,
   "metadata": {
    "collapsed": false
   },
   "outputs": [
    {
     "name": "stdout",
     "output_type": "stream",
     "text": [
      "Below are the accuracy, AUC, F1 score, precision, and recall: \n",
      "0.793007377178\n",
      "0.724649269459\n",
      "0.857870345422\n",
      "0.817432605905\n",
      "0.902517149498\n",
      "Confusion Matrix: \n",
      "[[ 8579  7111]\n",
      " [ 3439 31839]]\n",
      "false positive: 7111\n",
      "false negative: 3439\n"
     ]
    }
   ],
   "source": [
    "eval_result()"
   ]
  },
  {
   "cell_type": "code",
   "execution_count": null,
   "metadata": {
    "collapsed": true
   },
   "outputs": [],
   "source": []
  },
  {
   "cell_type": "code",
   "execution_count": 28,
   "metadata": {
    "collapsed": true
   },
   "outputs": [],
   "source": [
    "clf = RandomForestClassifier().fit(X_train, y_train)\n",
    "y_pred = clf.predict(X_test)"
   ]
  },
  {
   "cell_type": "code",
   "execution_count": 29,
   "metadata": {
    "collapsed": false
   },
   "outputs": [
    {
     "name": "stdout",
     "output_type": "stream",
     "text": [
      "Below are the accuracy, AUC, F1 score, precision, and recall: \n",
      "0.773916967509\n",
      "0.731508044399\n",
      "0.837523441576\n",
      "0.833235137334\n",
      "0.841856114292\n",
      "Confusion Matrix: \n",
      "[[ 9746  5944]\n",
      " [ 5579 29699]]\n",
      "false positive: 5944\n",
      "false negative: 5579\n"
     ]
    }
   ],
   "source": [
    "eval_result()"
   ]
  },
  {
   "cell_type": "code",
   "execution_count": null,
   "metadata": {
    "collapsed": true
   },
   "outputs": [],
   "source": []
  },
  {
   "cell_type": "code",
   "execution_count": 30,
   "metadata": {
    "collapsed": true
   },
   "outputs": [],
   "source": [
    "clf = ExtraTreesClassifier().fit(X_train, y_train)\n",
    "y_pred = clf.predict(X_test)"
   ]
  },
  {
   "cell_type": "code",
   "execution_count": 31,
   "metadata": {
    "collapsed": false
   },
   "outputs": [
    {
     "name": "stdout",
     "output_type": "stream",
     "text": [
      "Below are the accuracy, AUC, F1 score, precision, and recall: \n",
      "0.757651859991\n",
      "0.715671130564\n",
      "0.824928423619\n",
      "0.824951808595\n",
      "0.824905039968\n",
      "Confusion Matrix: \n",
      "[[ 9515  6175]\n",
      " [ 6177 29101]]\n",
      "false positive: 6175\n",
      "false negative: 6177\n"
     ]
    }
   ],
   "source": [
    "eval_result()"
   ]
  },
  {
   "cell_type": "code",
   "execution_count": null,
   "metadata": {
    "collapsed": true
   },
   "outputs": [],
   "source": []
  },
  {
   "cell_type": "markdown",
   "metadata": {},
   "source": [
    "### SVMs"
   ]
  },
  {
   "cell_type": "code",
   "execution_count": 33,
   "metadata": {
    "collapsed": false
   },
   "outputs": [],
   "source": [
    "from sklearn.svm import SVC, LinearSVC"
   ]
  },
  {
   "cell_type": "code",
   "execution_count": 34,
   "metadata": {
    "collapsed": false
   },
   "outputs": [
    {
     "name": "stdout",
     "output_type": "stream",
     "text": [
      "Below are the accuracy, AUC, F1 score, precision, and recall: \n",
      "0.691728143149\n",
      "0.499705885233\n",
      "0.817772726218\n",
      "0.692034390704\n",
      "0.999348035603\n",
      "Confusion Matrix: \n",
      "[[    1 15689]\n",
      " [   23 35255]]\n",
      "false positive: 15689\n",
      "false negative: 23\n"
     ]
    }
   ],
   "source": [
    "clf = SVC().fit(X_train, y_train)\n",
    "y_pred = clf.predict(X_test)\n",
    "eval_result()"
   ]
  },
  {
   "cell_type": "code",
   "execution_count": null,
   "metadata": {
    "collapsed": true
   },
   "outputs": [],
   "source": []
  },
  {
   "cell_type": "code",
   "execution_count": 35,
   "metadata": {
    "collapsed": false
   },
   "outputs": [
    {
     "name": "stdout",
     "output_type": "stream",
     "text": [
      "Below are the accuracy, AUC, F1 score, precision, and recall: \n",
      "0.307840213467\n",
      "0.5\n",
      "0.0\n",
      "0.0\n",
      "0.0\n",
      "Confusion Matrix: \n",
      "[[15690     0]\n",
      " [35278     0]]\n",
      "false positive: 0\n",
      "false negative: 35278\n"
     ]
    }
   ],
   "source": [
    "clf = LinearSVC().fit(X_train, y_train)\n",
    "y_pred = clf.predict(X_test)\n",
    "eval_result()"
   ]
  },
  {
   "cell_type": "code",
   "execution_count": null,
   "metadata": {
    "collapsed": true
   },
   "outputs": [],
   "source": []
  },
  {
   "cell_type": "code",
   "execution_count": null,
   "metadata": {
    "collapsed": true
   },
   "outputs": [],
   "source": []
  },
  {
   "cell_type": "code",
   "execution_count": null,
   "metadata": {
    "collapsed": true
   },
   "outputs": [],
   "source": []
  },
  {
   "cell_type": "code",
   "execution_count": null,
   "metadata": {
    "collapsed": true
   },
   "outputs": [],
   "source": [
    "final"
   ]
  },
  {
   "cell_type": "code",
   "execution_count": 53,
   "metadata": {
    "collapsed": false
   },
   "outputs": [
    {
     "data": {
      "text/plain": [
       "1.0    20755\n",
       "0.0      142\n",
       "Name: 306, dtype: int64"
      ]
     },
     "execution_count": 53,
     "metadata": {},
     "output_type": "execute_result"
    }
   ],
   "source": [
    "final[final[0]==0][306].value_counts()"
   ]
  },
  {
   "cell_type": "code",
   "execution_count": 54,
   "metadata": {
    "collapsed": false
   },
   "outputs": [
    {
     "data": {
      "text/plain": [
       "18032"
      ]
     },
     "execution_count": 54,
     "metadata": {},
     "output_type": "execute_result"
    }
   ],
   "source": [
    "sum(final[final[0]==0][306].isnull())"
   ]
  },
  {
   "cell_type": "code",
   "execution_count": 49,
   "metadata": {
    "collapsed": false
   },
   "outputs": [
    {
     "data": {
      "text/plain": [
       "0.0     88040\n",
       "1.0       295\n",
       "2.0        75\n",
       "3.0        30\n",
       "5.0        12\n",
       "4.0        10\n",
       "7.0         7\n",
       "10.0        6\n",
       "6.0         4\n",
       "12.0        2\n",
       "9.0         2\n",
       "88.0        1\n",
       "69.0        1\n",
       "11.0        1\n",
       "18.0        1\n",
       "32.0        1\n",
       "8.0         1\n",
       "Name: 2, dtype: int64"
      ]
     },
     "execution_count": 49,
     "metadata": {},
     "output_type": "execute_result"
    }
   ],
   "source": [
    "final[final[0]==1][2].value_counts()"
   ]
  },
  {
   "cell_type": "code",
   "execution_count": 56,
   "metadata": {
    "collapsed": false
   },
   "outputs": [
    {
     "data": {
      "text/plain": [
       "53696"
      ]
     },
     "execution_count": 56,
     "metadata": {},
     "output_type": "execute_result"
    }
   ],
   "source": [
    "sum(final[final[0]==1][306].isnull())"
   ]
  },
  {
   "cell_type": "code",
   "execution_count": 59,
   "metadata": {
    "collapsed": false
   },
   "outputs": [],
   "source": [
    "churn_null_count = [sum(final[final[0]==1][i].isnull()) for i in range(final.shape[1])]"
   ]
  },
  {
   "cell_type": "code",
   "execution_count": 60,
   "metadata": {
    "collapsed": true
   },
   "outputs": [],
   "source": [
    "stay_null_count = [sum(final[final[0]==0][i].isnull()) for i in range(final.shape[1])]"
   ]
  },
  {
   "cell_type": "code",
   "execution_count": 69,
   "metadata": {
    "collapsed": false
   },
   "outputs": [],
   "source": [
    "churn_idx = [i for i, e in enumerate(churn_null_count) if e == 0]"
   ]
  },
  {
   "cell_type": "code",
   "execution_count": 68,
   "metadata": {
    "collapsed": false
   },
   "outputs": [],
   "source": [
    "stay_idx = [i for i, e in enumerate(stay_null_count) if e == 0]"
   ]
  },
  {
   "cell_type": "code",
   "execution_count": 91,
   "metadata": {
    "collapsed": false
   },
   "outputs": [],
   "source": [
    "for i, e in enumerate(churn_idx):\n",
    "    if stay_idx[i] != e:\n",
    "        print i"
   ]
  },
  {
   "cell_type": "code",
   "execution_count": 92,
   "metadata": {
    "collapsed": false
   },
   "outputs": [
    {
     "data": {
      "text/plain": [
       "[0,\n",
       " 1,\n",
       " 2,\n",
       " 3,\n",
       " 4,\n",
       " 5,\n",
       " 6,\n",
       " 7,\n",
       " 8,\n",
       " 9,\n",
       " 10,\n",
       " 11,\n",
       " 12,\n",
       " 13,\n",
       " 14,\n",
       " 15,\n",
       " 16,\n",
       " 17,\n",
       " 18,\n",
       " 19,\n",
       " 20,\n",
       " 21,\n",
       " 22,\n",
       " 23,\n",
       " 24,\n",
       " 25,\n",
       " 26,\n",
       " 27,\n",
       " 28,\n",
       " 29,\n",
       " 30,\n",
       " 31,\n",
       " 32,\n",
       " 33,\n",
       " 34,\n",
       " 35,\n",
       " 36,\n",
       " 37,\n",
       " 38,\n",
       " 39,\n",
       " 40,\n",
       " 41,\n",
       " 42,\n",
       " 43,\n",
       " 44,\n",
       " 45,\n",
       " 46,\n",
       " 47,\n",
       " 48,\n",
       " 49,\n",
       " 50,\n",
       " 51,\n",
       " 52,\n",
       " 53,\n",
       " 54,\n",
       " 55,\n",
       " 56,\n",
       " 57,\n",
       " 58,\n",
       " 59,\n",
       " 60,\n",
       " 61,\n",
       " 62,\n",
       " 63,\n",
       " 64,\n",
       " 65,\n",
       " 66,\n",
       " 67,\n",
       " 68,\n",
       " 69,\n",
       " 70,\n",
       " 71,\n",
       " 72,\n",
       " 73,\n",
       " 74,\n",
       " 75,\n",
       " 76,\n",
       " 77,\n",
       " 78,\n",
       " 79,\n",
       " 80,\n",
       " 81,\n",
       " 82,\n",
       " 83,\n",
       " 84,\n",
       " 85,\n",
       " 86,\n",
       " 87,\n",
       " 88,\n",
       " 89,\n",
       " 90,\n",
       " 91,\n",
       " 92,\n",
       " 93,\n",
       " 94,\n",
       " 95,\n",
       " 96,\n",
       " 97,\n",
       " 98,\n",
       " 99,\n",
       " 100,\n",
       " 101,\n",
       " 102,\n",
       " 103,\n",
       " 104,\n",
       " 105,\n",
       " 106,\n",
       " 107,\n",
       " 108,\n",
       " 109,\n",
       " 110,\n",
       " 111,\n",
       " 112,\n",
       " 113,\n",
       " 114,\n",
       " 115,\n",
       " 116,\n",
       " 117,\n",
       " 118,\n",
       " 119,\n",
       " 120,\n",
       " 121,\n",
       " 122,\n",
       " 123,\n",
       " 124,\n",
       " 125,\n",
       " 126,\n",
       " 127,\n",
       " 128,\n",
       " 129,\n",
       " 130,\n",
       " 131,\n",
       " 132,\n",
       " 133,\n",
       " 134,\n",
       " 135,\n",
       " 136,\n",
       " 137,\n",
       " 138,\n",
       " 139,\n",
       " 140,\n",
       " 141,\n",
       " 142,\n",
       " 143,\n",
       " 144,\n",
       " 145,\n",
       " 146,\n",
       " 147,\n",
       " 148,\n",
       " 149,\n",
       " 150,\n",
       " 151,\n",
       " 152,\n",
       " 153,\n",
       " 154,\n",
       " 155,\n",
       " 156,\n",
       " 157,\n",
       " 158,\n",
       " 159,\n",
       " 160,\n",
       " 161,\n",
       " 162,\n",
       " 163,\n",
       " 164,\n",
       " 165,\n",
       " 166,\n",
       " 167,\n",
       " 168,\n",
       " 169,\n",
       " 170,\n",
       " 171,\n",
       " 172,\n",
       " 173,\n",
       " 174,\n",
       " 175,\n",
       " 176,\n",
       " 177,\n",
       " 178,\n",
       " 179,\n",
       " 180,\n",
       " 181,\n",
       " 182,\n",
       " 183,\n",
       " 184,\n",
       " 185,\n",
       " 186,\n",
       " 187,\n",
       " 188,\n",
       " 189,\n",
       " 190,\n",
       " 191,\n",
       " 192,\n",
       " 193,\n",
       " 194,\n",
       " 195,\n",
       " 196,\n",
       " 197,\n",
       " 198,\n",
       " 199,\n",
       " 200,\n",
       " 201,\n",
       " 202,\n",
       " 203,\n",
       " 204,\n",
       " 205,\n",
       " 206,\n",
       " 207,\n",
       " 208,\n",
       " 209,\n",
       " 290,\n",
       " 291,\n",
       " 292,\n",
       " 293,\n",
       " 294,\n",
       " 295,\n",
       " 296,\n",
       " 297,\n",
       " 298,\n",
       " 299,\n",
       " 300,\n",
       " 301,\n",
       " 302,\n",
       " 303,\n",
       " 308,\n",
       " 310]"
      ]
     },
     "execution_count": 92,
     "metadata": {},
     "output_type": "execute_result"
    }
   ],
   "source": [
    "churn_idx"
   ]
  },
  {
   "cell_type": "code",
   "execution_count": null,
   "metadata": {
    "collapsed": false
   },
   "outputs": [],
   "source": []
  },
  {
   "cell_type": "code",
   "execution_count": null,
   "metadata": {
    "collapsed": true
   },
   "outputs": [],
   "source": []
  },
  {
   "cell_type": "code",
   "execution_count": 74,
   "metadata": {
    "collapsed": true
   },
   "outputs": [],
   "source": [
    "uuids_gpsdk = load_obj('mar_uuids')"
   ]
  },
  {
   "cell_type": "code",
   "execution_count": 76,
   "metadata": {
    "collapsed": false
   },
   "outputs": [
    {
     "data": {
      "text/plain": [
       "555579"
      ]
     },
     "execution_count": 76,
     "metadata": {},
     "output_type": "execute_result"
    }
   ],
   "source": [
    "len(uuids_gpsdk)"
   ]
  },
  {
   "cell_type": "code",
   "execution_count": 83,
   "metadata": {
    "collapsed": false
   },
   "outputs": [],
   "source": [
    "uuid_in_userbase = u[1].unique()"
   ]
  },
  {
   "cell_type": "code",
   "execution_count": 88,
   "metadata": {
    "collapsed": false
   },
   "outputs": [],
   "source": [
    "count = 0\n",
    "uuid_in_userbase = set(uuid_in_userbase)\n",
    "for each in uuids_gpsdk:\n",
    "    if each in uuid_in_userbase:\n",
    "        count += 1"
   ]
  },
  {
   "cell_type": "code",
   "execution_count": 89,
   "metadata": {
    "collapsed": false
   },
   "outputs": [
    {
     "data": {
      "text/plain": [
       "329627"
      ]
     },
     "execution_count": 89,
     "metadata": {},
     "output_type": "execute_result"
    }
   ],
   "source": [
    "count"
   ]
  },
  {
   "cell_type": "code",
   "execution_count": 87,
   "metadata": {
    "collapsed": false
   },
   "outputs": [
    {
     "data": {
      "text/plain": [
       "110334"
      ]
     },
     "execution_count": 87,
     "metadata": {},
     "output_type": "execute_result"
    }
   ],
   "source": [
    "len(uuid_list)"
   ]
  },
  {
   "cell_type": "markdown",
   "metadata": {},
   "source": [
    "### Only use features that do not contain NaN values"
   ]
  },
  {
   "cell_type": "code",
   "execution_count": 93,
   "metadata": {
    "collapsed": true
   },
   "outputs": [],
   "source": [
    "data = final[churn_idx]\n",
    "del data[0]\n",
    "target = final[0]"
   ]
  },
  {
   "cell_type": "code",
   "execution_count": 94,
   "metadata": {
    "collapsed": true
   },
   "outputs": [],
   "source": [
    "X_train, X_test, y_train, y_test = cross_validation.train_test_split(data, target, test_size=0.4, random_state=0)"
   ]
  },
  {
   "cell_type": "code",
   "execution_count": 97,
   "metadata": {
    "collapsed": false
   },
   "outputs": [],
   "source": [
    "clf = GradientBoostingClassifier(learning_rate = 0.15, loss='exponential', n_estimators = 300, max_features=200).fit(X_train, y_train)\n",
    "y_pred = clf.predict(X_test)"
   ]
  },
  {
   "cell_type": "code",
   "execution_count": 99,
   "metadata": {
    "collapsed": false
   },
   "outputs": [
    {
     "name": "stdout",
     "output_type": "stream",
     "text": [
      "Below are the accuracy, AUC, F1 score, precision, and recall: \n",
      "0.810155391618\n",
      "0.747759334209\n",
      "0.869048585736\n",
      "0.831529058324\n",
      "0.910113952038\n",
      "Confusion Matrix: \n",
      "[[ 9185  6505]\n",
      " [ 3171 32107]]\n",
      "false positive: 6505\n",
      "false negative: 3171\n"
     ]
    }
   ],
   "source": [
    "eval_result()"
   ]
  },
  {
   "cell_type": "markdown",
   "metadata": {},
   "source": [
    "### remove data points that contain nulls"
   ]
  },
  {
   "cell_type": "code",
   "execution_count": 125,
   "metadata": {
    "collapsed": false
   },
   "outputs": [],
   "source": [
    "row_idx = final[485].notnull()"
   ]
  },
  {
   "cell_type": "code",
   "execution_count": 126,
   "metadata": {
    "collapsed": true
   },
   "outputs": [],
   "source": [
    "data = final.loc[row_idx]"
   ]
  },
  {
   "cell_type": "code",
   "execution_count": 127,
   "metadata": {
    "collapsed": false
   },
   "outputs": [],
   "source": [
    "data = data[range(1, 486)]"
   ]
  },
  {
   "cell_type": "code",
   "execution_count": 128,
   "metadata": {
    "collapsed": true
   },
   "outputs": [],
   "source": [
    "target = final.loc[row_idx][0]"
   ]
  },
  {
   "cell_type": "code",
   "execution_count": 129,
   "metadata": {
    "collapsed": false
   },
   "outputs": [],
   "source": [
    "X_train, X_test, y_train, y_test = cross_validation.train_test_split(data, target, test_size=0.4, random_state=0)"
   ]
  },
  {
   "cell_type": "code",
   "execution_count": 130,
   "metadata": {
    "collapsed": false
   },
   "outputs": [],
   "source": [
    "clf = GradientBoostingClassifier(learning_rate = 0.15, loss='exponential', n_estimators = 300, max_features=400).fit(X_train, y_train)\n",
    "y_pred = clf.predict(X_test)"
   ]
  },
  {
   "cell_type": "code",
   "execution_count": 133,
   "metadata": {
    "collapsed": false
   },
   "outputs": [
    {
     "name": "stdout",
     "output_type": "stream",
     "text": [
      "Below are the accuracy, AUC, F1 score, precision, and recall: \n",
      "0.748764175632\n",
      "0.74856214686\n",
      "0.755032605614\n",
      "0.752259887006\n",
      "0.757825839499\n",
      "Confusion Matrix: \n",
      "[[2487  877]\n",
      " [ 851 2663]]\n",
      "false positive: 877\n",
      "false negative: 851\n"
     ]
    }
   ],
   "source": [
    "eval_result()"
   ]
  },
  {
   "cell_type": "code",
   "execution_count": 131,
   "metadata": {
    "collapsed": false
   },
   "outputs": [
    {
     "data": {
      "text/plain": [
       "(17193, 485)"
      ]
     },
     "execution_count": 131,
     "metadata": {},
     "output_type": "execute_result"
    }
   ],
   "source": [
    "data.shape"
   ]
  },
  {
   "cell_type": "code",
   "execution_count": null,
   "metadata": {
    "collapsed": false
   },
   "outputs": [],
   "source": []
  },
  {
   "cell_type": "code",
   "execution_count": null,
   "metadata": {
    "collapsed": true
   },
   "outputs": [],
   "source": []
  },
  {
   "cell_type": "code",
   "execution_count": null,
   "metadata": {
    "collapsed": true
   },
   "outputs": [],
   "source": []
  },
  {
   "cell_type": "code",
   "execution_count": null,
   "metadata": {
    "collapsed": true
   },
   "outputs": [],
   "source": []
  },
  {
   "cell_type": "code",
   "execution_count": null,
   "metadata": {
    "collapsed": true
   },
   "outputs": [],
   "source": []
  },
  {
   "cell_type": "code",
   "execution_count": 14,
   "metadata": {
    "collapsed": true
   },
   "outputs": [],
   "source": [
    "from sklearn.grid_search import RandomizedSearchCV, GridSearchCV"
   ]
  },
  {
   "cell_type": "code",
   "execution_count": 12,
   "metadata": {
    "collapsed": true
   },
   "outputs": [],
   "source": [
    "from time import time\n",
    "from operator import itemgetter\n",
    "def report(grid_scores, n_top=3):\n",
    "    top_scores = sorted(grid_scores, key=itemgetter(1), reverse=True)[:n_top]\n",
    "    for i, score in enumerate(top_scores):\n",
    "        print \"Model with rank: {0}\".format(i + 1)\n",
    "        print \"Mean validation score: {0:.3f} (std: {1:.3f})\".format(\n",
    "              score.mean_validation_score,\n",
    "              np.std(score.cv_validation_scores))\n",
    "        print \"Parameters: {0}\".format(score.parameters)"
   ]
  },
  {
   "cell_type": "code",
   "execution_count": 8,
   "metadata": {
    "collapsed": true
   },
   "outputs": [],
   "source": [
    "from sklearn.feature_selection import f_classif\n",
    "from sklearn.feature_selection import chi2\n",
    "from sklearn.feature_selection import SelectKBest"
   ]
  },
  {
   "cell_type": "code",
   "execution_count": 9,
   "metadata": {
    "collapsed": false
   },
   "outputs": [
    {
     "name": "stderr",
     "output_type": "stream",
     "text": [
      "/usr/local/lib/python2.7/site-packages/sklearn/feature_selection/univariate_selection.py:113: UserWarning: Features [259 322 323 324 325 326 328 338 356 383 397 443] are constant.\n",
      "  UserWarning)\n"
     ]
    }
   ],
   "source": [
    "select = SelectKBest(f_classif, k = 400)\n",
    "data2 = select.fit_transform(data, target)\n",
    "X_train, X_test, y_train, y_test = cross_validation.train_test_split(data2, target, test_size=0.4, random_state=0)"
   ]
  },
  {
   "cell_type": "code",
   "execution_count": 10,
   "metadata": {
    "collapsed": true
   },
   "outputs": [],
   "source": [
    "param_grid = { 'loss': ['exponential'],\n",
    "               'learning_rate':[0.1, 0.2],\n",
    "               'n_estimators':[100, 300, 500],\n",
    "               'max_depth':[3, 7],\n",
    "               'max_features':[20, 200, 400],\n",
    "               'random_state':[0],\n",
    "             }"
   ]
  },
  {
   "cell_type": "code",
   "execution_count": 15,
   "metadata": {
    "collapsed": false
   },
   "outputs": [
    {
     "name": "stdout",
     "output_type": "stream",
     "text": [
      "63820.8574979\n",
      "Model with rank: 1\n",
      "Mean validation score: 0.610 (std: 0.177)\n",
      "Parameters: {'loss': 'exponential', 'learning_rate': 0.1, 'n_estimators': 100, 'random_state': 0, 'max_features': 200, 'max_depth': 3}\n",
      "Model with rank: 2\n",
      "Mean validation score: 0.606 (std: 0.174)\n",
      "Parameters: {'loss': 'exponential', 'learning_rate': 0.2, 'n_estimators': 100, 'random_state': 0, 'max_features': 400, 'max_depth': 3}\n",
      "Model with rank: 3\n",
      "Mean validation score: 0.605 (std: 0.173)\n",
      "Parameters: {'loss': 'exponential', 'learning_rate': 0.1, 'n_estimators': 100, 'random_state': 0, 'max_features': 20, 'max_depth': 3}\n"
     ]
    }
   ],
   "source": [
    "start = time()\n",
    "clf = GradientBoostingClassifier()\n",
    "grid_search = RandomizedSearchCV(clf, param_distributions=param_grid, n_iter=20)\n",
    "grid_search.fit(data2, target)\n",
    "print time()-start\n",
    "report(grid_search.grid_scores_)"
   ]
  },
  {
   "cell_type": "code",
   "execution_count": null,
   "metadata": {
    "collapsed": true
   },
   "outputs": [],
   "source": []
  },
  {
   "cell_type": "code",
   "execution_count": null,
   "metadata": {
    "collapsed": true
   },
   "outputs": [],
   "source": []
  },
  {
   "cell_type": "code",
   "execution_count": null,
   "metadata": {
    "collapsed": true
   },
   "outputs": [],
   "source": []
  },
  {
   "cell_type": "code",
   "execution_count": null,
   "metadata": {
    "collapsed": true
   },
   "outputs": [],
   "source": []
  }
 ],
 "metadata": {
  "kernelspec": {
   "display_name": "Python 2",
   "language": "python",
   "name": "python2"
  },
  "language_info": {
   "codemirror_mode": {
    "name": "ipython",
    "version": 2
   },
   "file_extension": ".py",
   "mimetype": "text/x-python",
   "name": "python",
   "nbconvert_exporter": "python",
   "pygments_lexer": "ipython2",
   "version": "2.7.11"
  }
 },
 "nbformat": 4,
 "nbformat_minor": 0
}
