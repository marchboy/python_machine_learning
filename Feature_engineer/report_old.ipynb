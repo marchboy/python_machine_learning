{
 "cells": [
  {
   "cell_type": "markdown",
   "metadata": {},
   "source": [
    "# 基于baseline数据集的用户流失预测调研报告"
   ]
  },
  {
   "cell_type": "markdown",
   "metadata": {},
   "source": [
    "## 1. 背景介绍\n",
    "用户留存分析是客户关系管理(CRM)中最基本的组成部分，了解用户忠诚度也是游戏商业运营的一个重要工作。通过对于用户在下一时间段的流失的可能性估计，我们可以对用户进行提前干预，从而更好的挽留住用户，或者说最大限度的延长用户的产品使用时间，减少用户流失量，获得更大的收益。[调查研究](https://thekinigroup.com/customer-churn-rate/)表明，获得一个新用户的所花费的成本是保留一个现有用户所花成本的5-25倍，并且用户留存提高5%可以产生25-95%的收益增加。再由于互联网相关产品容易出现爆炸性用户增长，继而形成winner takes all的情景，很多互联网行业会投入大笔资金抢占市场和用户（比如Uber和滴滴）。因此，用户流失预测是任何手机游戏企业以及其他互联网相关产品企业都需要进行的重要调研。\n",
    "\n",
    "用户流失预测可以指代两个概念：1.用机器学习方法去预测用户流失的可能性。2.用时间序列以及回归分析去估计未来一批用户的流失率。本篇报告是利用baseline数据集进行前者实验，也就是通过建模预测用户在未来一段时间内流失的可能性。\n",
    "\n",
    "本篇报告会以该用户流失预测调研项目的详细过程和结果，分别从数据集，问题定义，特征抽取，模型建造对比，模型测评，今后研究工作，以及总结这几个方面进行介绍。"
   ]
  },
  {
   "cell_type": "markdown",
   "metadata": {},
   "source": [
    "## 2. 数据集描述\n",
    "本篇报告所用到的数据集是baseline项目所产生的2016年1-3月所产生的baseline(timeline)用户基本信息，用户消费信息，以及用户行为操作信息。改数据集的详细信息可见项目文档。\n",
    "\n",
    "让我们先看一下所用数据集的数据样例："
   ]
  },
  {
   "cell_type": "code",
   "execution_count": 3,
   "metadata": {
    "collapsed": true
   },
   "outputs": [],
   "source": [
    "from feature_extractor import *"
   ]
  },
  {
   "cell_type": "code",
   "execution_count": 4,
   "metadata": {
    "collapsed": true
   },
   "outputs": [],
   "source": [
    "%matplotlib inline"
   ]
  },
  {
   "cell_type": "markdown",
   "metadata": {},
   "source": [
    "#### userbase 数据："
   ]
  },
  {
   "cell_type": "code",
   "execution_count": 2,
   "metadata": {
    "collapsed": false,
    "scrolled": true
   },
   "outputs": [
    {
     "name": "stderr",
     "output_type": "stream",
     "text": [
      "/usr/local/lib/python2.7/site-packages/IPython/core/interactiveshell.py:2825: DtypeWarning: Columns (3,6,7,8) have mixed types. Specify dtype option on import or set low_memory=False.\n",
      "  if self.run_code(code, result):\n",
      "/usr/local/lib/python2.7/site-packages/IPython/core/interactiveshell.py:2825: DtypeWarning: Columns (6,7,8) have mixed types. Specify dtype option on import or set low_memory=False.\n",
      "  if self.run_code(code, result):\n"
     ]
    }
   ],
   "source": [
    "userbase = get_userbase('/data/yulun/timeline/')"
   ]
  },
  {
   "cell_type": "code",
   "execution_count": 4,
   "metadata": {
    "collapsed": false
   },
   "outputs": [
    {
     "data": {
      "text/html": [
       "<div>\n",
       "<table border=\"1\" class=\"dataframe\">\n",
       "  <thead>\n",
       "    <tr style=\"text-align: right;\">\n",
       "      <th></th>\n",
       "      <th>0</th>\n",
       "      <th>1</th>\n",
       "      <th>2</th>\n",
       "      <th>3</th>\n",
       "      <th>4</th>\n",
       "      <th>5</th>\n",
       "      <th>6</th>\n",
       "      <th>7</th>\n",
       "      <th>8</th>\n",
       "      <th>9</th>\n",
       "      <th>10</th>\n",
       "      <th>11</th>\n",
       "      <th>12</th>\n",
       "      <th>13</th>\n",
       "      <th>14</th>\n",
       "      <th>15</th>\n",
       "      <th>16</th>\n",
       "      <th>17</th>\n",
       "      <th>18</th>\n",
       "    </tr>\n",
       "  </thead>\n",
       "  <tbody>\n",
       "    <tr>\n",
       "      <th>0</th>\n",
       "      <td>cc9e7e5a785249bf1c4851c8e99f3c12</td>\n",
       "      <td>505c4018294c097167f16fd97e5ec71c</td>\n",
       "      <td>222.66.154.211</td>\n",
       "      <td>NaN</td>\n",
       "      <td>None</td>\n",
       "      <td>None</td>\n",
       "      <td>102</td>\n",
       "      <td>0</td>\n",
       "      <td>1433</td>\n",
       "      <td>2016-01-04 16:56:25</td>\n",
       "      <td>[]</td>\n",
       "      <td>gp3658880</td>\n",
       "      <td>1.0</td>\n",
       "      <td>1.0</td>\n",
       "      <td>1.0</td>\n",
       "      <td>1.0</td>\n",
       "      <td>1.0</td>\n",
       "      <td>0.0</td>\n",
       "      <td>1.0</td>\n",
       "    </tr>\n",
       "    <tr>\n",
       "      <th>1</th>\n",
       "      <td>c98cb261ca217c8742644de2e804da17</td>\n",
       "      <td>6835f917ada02b5305d9ccd2c9e9fe00</td>\n",
       "      <td>113.25.103.146</td>\n",
       "      <td>NaN</td>\n",
       "      <td>喜形于色的刀刀客</td>\n",
       "      <td>None</td>\n",
       "      <td>102</td>\n",
       "      <td>0</td>\n",
       "      <td>9831</td>\n",
       "      <td>2016-03-02 00:43:16</td>\n",
       "      <td>[]</td>\n",
       "      <td>qcosfymofte</td>\n",
       "      <td>1.0</td>\n",
       "      <td>1.0</td>\n",
       "      <td>1.0</td>\n",
       "      <td>1.0</td>\n",
       "      <td>1.0</td>\n",
       "      <td>0.0</td>\n",
       "      <td>1.0</td>\n",
       "    </tr>\n",
       "    <tr>\n",
       "      <th>2</th>\n",
       "      <td>ff895ebb528ee0630634ecc4af5f94dc</td>\n",
       "      <td>cfcd208495d565ef66e7dff9f98764da</td>\n",
       "      <td>223.104.14.62</td>\n",
       "      <td>NaN</td>\n",
       "      <td>兔兔图陌陌</td>\n",
       "      <td>None</td>\n",
       "      <td>102</td>\n",
       "      <td>0</td>\n",
       "      <td>100</td>\n",
       "      <td>2016-03-02 00:43:14</td>\n",
       "      <td>[]</td>\n",
       "      <td>None</td>\n",
       "      <td>1.0</td>\n",
       "      <td>1.0</td>\n",
       "      <td>1.0</td>\n",
       "      <td>1.0</td>\n",
       "      <td>1.0</td>\n",
       "      <td>0.0</td>\n",
       "      <td>1.0</td>\n",
       "    </tr>\n",
       "    <tr>\n",
       "      <th>3</th>\n",
       "      <td>df045daec3dd39fde07ca14f37fba87c</td>\n",
       "      <td>334ab2e1b49cc26f0fb28f4d10372716</td>\n",
       "      <td>59.35.79.40</td>\n",
       "      <td>NaN</td>\n",
       "      <td>喜形于色的担担面</td>\n",
       "      <td>None</td>\n",
       "      <td>101</td>\n",
       "      <td>0</td>\n",
       "      <td>1208</td>\n",
       "      <td>2016-03-02 00:43:12</td>\n",
       "      <td>[]</td>\n",
       "      <td>ccyyxx7461</td>\n",
       "      <td>1.0</td>\n",
       "      <td>1.0</td>\n",
       "      <td>1.0</td>\n",
       "      <td>1.0</td>\n",
       "      <td>1.0</td>\n",
       "      <td>0.0</td>\n",
       "      <td>1.0</td>\n",
       "    </tr>\n",
       "    <tr>\n",
       "      <th>4</th>\n",
       "      <td>e4fd60bbc255cd12daeb5c4f308a2357</td>\n",
       "      <td>6c0fa3ac767d5e0de84ce1f0f1a33e76</td>\n",
       "      <td>59.35.79.40</td>\n",
       "      <td>NaN</td>\n",
       "      <td>喜形于色的担担手</td>\n",
       "      <td>None</td>\n",
       "      <td>101</td>\n",
       "      <td>0</td>\n",
       "      <td>1208</td>\n",
       "      <td>2016-03-02 00:43:12</td>\n",
       "      <td>[]</td>\n",
       "      <td>ccyyxx7460</td>\n",
       "      <td>1.0</td>\n",
       "      <td>1.0</td>\n",
       "      <td>1.0</td>\n",
       "      <td>1.0</td>\n",
       "      <td>1.0</td>\n",
       "      <td>0.0</td>\n",
       "      <td>1.0</td>\n",
       "    </tr>\n",
       "  </tbody>\n",
       "</table>\n",
       "</div>"
      ],
      "text/plain": [
       "                                 0                                 1   \\\n",
       "0  cc9e7e5a785249bf1c4851c8e99f3c12  505c4018294c097167f16fd97e5ec71c   \n",
       "1  c98cb261ca217c8742644de2e804da17  6835f917ada02b5305d9ccd2c9e9fe00   \n",
       "2  ff895ebb528ee0630634ecc4af5f94dc  cfcd208495d565ef66e7dff9f98764da   \n",
       "3  df045daec3dd39fde07ca14f37fba87c  334ab2e1b49cc26f0fb28f4d10372716   \n",
       "4  e4fd60bbc255cd12daeb5c4f308a2357  6c0fa3ac767d5e0de84ce1f0f1a33e76   \n",
       "\n",
       "               2    3         4     5    6  7     8                    9   10  \\\n",
       "0  222.66.154.211  NaN      None  None  102  0  1433  2016-01-04 16:56:25  []   \n",
       "1  113.25.103.146  NaN  喜形于色的刀刀客  None  102  0  9831  2016-03-02 00:43:16  []   \n",
       "2   223.104.14.62  NaN     兔兔图陌陌  None  102  0   100  2016-03-02 00:43:14  []   \n",
       "3     59.35.79.40  NaN  喜形于色的担担面  None  101  0  1208  2016-03-02 00:43:12  []   \n",
       "4     59.35.79.40  NaN  喜形于色的担担手  None  101  0  1208  2016-03-02 00:43:12  []   \n",
       "\n",
       "            11   12   13   14   15   16   17   18  \n",
       "0    gp3658880  1.0  1.0  1.0  1.0  1.0  0.0  1.0  \n",
       "1  qcosfymofte  1.0  1.0  1.0  1.0  1.0  0.0  1.0  \n",
       "2         None  1.0  1.0  1.0  1.0  1.0  0.0  1.0  \n",
       "3   ccyyxx7461  1.0  1.0  1.0  1.0  1.0  0.0  1.0  \n",
       "4   ccyyxx7460  1.0  1.0  1.0  1.0  1.0  0.0  1.0  "
      ]
     },
     "execution_count": 4,
     "metadata": {},
     "output_type": "execute_result"
    }
   ],
   "source": [
    "userbase.head()"
   ]
  },
  {
   "cell_type": "markdown",
   "metadata": {},
   "source": [
    "#### expenditure 数据："
   ]
  },
  {
   "cell_type": "code",
   "execution_count": 8,
   "metadata": {
    "collapsed": true
   },
   "outputs": [],
   "source": [
    "expenditure = pd.read_csv('/data/yulun/timeline/expenditure_timeline.txt', sep='\\t', header = None)"
   ]
  },
  {
   "cell_type": "code",
   "execution_count": 9,
   "metadata": {
    "collapsed": false
   },
   "outputs": [
    {
     "data": {
      "text/html": [
       "<div>\n",
       "<table border=\"1\" class=\"dataframe\">\n",
       "  <thead>\n",
       "    <tr style=\"text-align: right;\">\n",
       "      <th></th>\n",
       "      <th>0</th>\n",
       "      <th>1</th>\n",
       "      <th>2</th>\n",
       "      <th>3</th>\n",
       "    </tr>\n",
       "  </thead>\n",
       "  <tbody>\n",
       "    <tr>\n",
       "      <th>0</th>\n",
       "      <td>cc9e7e5a785249bf1c4851c8e99f3c12</td>\n",
       "      <td>[梦幻西游-2,101794,1433,2016-01-04 16:56:25,180132...</td>\n",
       "      <td>[0,0,0,0,0,0,0]</td>\n",
       "      <td>[0,0,0,0,0,0]</td>\n",
       "    </tr>\n",
       "    <tr>\n",
       "      <th>1</th>\n",
       "      <td>c98cb261ca217c8742644de2e804da17</td>\n",
       "      <td>[cos大乱斗,101203,9831,2016-03-02 00:43:16,I6FNA3...</td>\n",
       "      <td>[0,0,0,0,0,0,0]</td>\n",
       "      <td>[0,0,0,0,0,0]</td>\n",
       "    </tr>\n",
       "    <tr>\n",
       "      <th>2</th>\n",
       "      <td>ff895ebb528ee0630634ecc4af5f94dc</td>\n",
       "      <td>[0,0,0,0,0,0]</td>\n",
       "      <td>[0,0,0,0,0,0,0]</td>\n",
       "      <td>[0,0,0,0,0,0]</td>\n",
       "    </tr>\n",
       "    <tr>\n",
       "      <th>3</th>\n",
       "      <td>df045daec3dd39fde07ca14f37fba87c</td>\n",
       "      <td>[全民奇迹,101421,1208,2016-03-02 00:43:12,61H6YOK2...</td>\n",
       "      <td>[0,0,0,0,0,0,0]</td>\n",
       "      <td>[0,0,0,0,0,0]</td>\n",
       "    </tr>\n",
       "    <tr>\n",
       "      <th>4</th>\n",
       "      <td>e4fd60bbc255cd12daeb5c4f308a2357</td>\n",
       "      <td>[全民奇迹,101421,1208,2016-03-02 00:43:12,61F7KKQ6...</td>\n",
       "      <td>[0,0,0,0,0,0,0]</td>\n",
       "      <td>[0,0,0,0,0,0]</td>\n",
       "    </tr>\n",
       "  </tbody>\n",
       "</table>\n",
       "</div>"
      ],
      "text/plain": [
       "                                  0  \\\n",
       "0  cc9e7e5a785249bf1c4851c8e99f3c12   \n",
       "1  c98cb261ca217c8742644de2e804da17   \n",
       "2  ff895ebb528ee0630634ecc4af5f94dc   \n",
       "3  df045daec3dd39fde07ca14f37fba87c   \n",
       "4  e4fd60bbc255cd12daeb5c4f308a2357   \n",
       "\n",
       "                                                   1                2  \\\n",
       "0  [梦幻西游-2,101794,1433,2016-01-04 16:56:25,180132...  [0,0,0,0,0,0,0]   \n",
       "1  [cos大乱斗,101203,9831,2016-03-02 00:43:16,I6FNA3...  [0,0,0,0,0,0,0]   \n",
       "2                                      [0,0,0,0,0,0]  [0,0,0,0,0,0,0]   \n",
       "3  [全民奇迹,101421,1208,2016-03-02 00:43:12,61H6YOK2...  [0,0,0,0,0,0,0]   \n",
       "4  [全民奇迹,101421,1208,2016-03-02 00:43:12,61F7KKQ6...  [0,0,0,0,0,0,0]   \n",
       "\n",
       "               3  \n",
       "0  [0,0,0,0,0,0]  \n",
       "1  [0,0,0,0,0,0]  \n",
       "2  [0,0,0,0,0,0]  \n",
       "3  [0,0,0,0,0,0]  \n",
       "4  [0,0,0,0,0,0]  "
      ]
     },
     "execution_count": 9,
     "metadata": {},
     "output_type": "execute_result"
    }
   ],
   "source": [
    "expenditure.head()"
   ]
  },
  {
   "cell_type": "markdown",
   "metadata": {},
   "source": [
    "#### event 数据（Note: 在此我们暂时用的是gpapp的event数据）："
   ]
  },
  {
   "cell_type": "code",
   "execution_count": 12,
   "metadata": {
    "collapsed": false
   },
   "outputs": [],
   "source": [
    "event = pd.read_csv('/data/yulun/timeline/timeline_event_gpapp.txt', sep='\\t', header = None)"
   ]
  },
  {
   "cell_type": "code",
   "execution_count": 13,
   "metadata": {
    "collapsed": false
   },
   "outputs": [
    {
     "data": {
      "text/html": [
       "<div>\n",
       "<table border=\"1\" class=\"dataframe\">\n",
       "  <thead>\n",
       "    <tr style=\"text-align: right;\">\n",
       "      <th></th>\n",
       "      <th>0</th>\n",
       "      <th>1</th>\n",
       "      <th>2</th>\n",
       "    </tr>\n",
       "  </thead>\n",
       "  <tbody>\n",
       "    <tr>\n",
       "      <th>0</th>\n",
       "      <td>3cda6297f411446046cc5af3959a84be</td>\n",
       "      <td>1000</td>\n",
       "      <td>1442991632</td>\n",
       "    </tr>\n",
       "    <tr>\n",
       "      <th>1</th>\n",
       "      <td>3cda6297f411446046cc5af3959a84be</td>\n",
       "      <td>1004</td>\n",
       "      <td>1442991661</td>\n",
       "    </tr>\n",
       "    <tr>\n",
       "      <th>2</th>\n",
       "      <td>3cda6297f411446046cc5af3959a84be</td>\n",
       "      <td>1000</td>\n",
       "      <td>1442991632</td>\n",
       "    </tr>\n",
       "    <tr>\n",
       "      <th>3</th>\n",
       "      <td>3cda6297f411446046cc5af3959a84be</td>\n",
       "      <td>1004</td>\n",
       "      <td>1442991661</td>\n",
       "    </tr>\n",
       "    <tr>\n",
       "      <th>4</th>\n",
       "      <td>3cda6297f411446046cc5af3959a84be</td>\n",
       "      <td>1000</td>\n",
       "      <td>1442991632</td>\n",
       "    </tr>\n",
       "  </tbody>\n",
       "</table>\n",
       "</div>"
      ],
      "text/plain": [
       "                                  0     1           2\n",
       "0  3cda6297f411446046cc5af3959a84be  1000  1442991632\n",
       "1  3cda6297f411446046cc5af3959a84be  1004  1442991661\n",
       "2  3cda6297f411446046cc5af3959a84be  1000  1442991632\n",
       "3  3cda6297f411446046cc5af3959a84be  1004  1442991661\n",
       "4  3cda6297f411446046cc5af3959a84be  1000  1442991632"
      ]
     },
     "execution_count": 13,
     "metadata": {},
     "output_type": "execute_result"
    }
   ],
   "source": [
    "event.head()"
   ]
  },
  {
   "cell_type": "markdown",
   "metadata": {},
   "source": [
    "#### 其中，对于event数据我们可以观察一下event时间戳的histogram："
   ]
  },
  {
   "cell_type": "code",
   "execution_count": 17,
   "metadata": {
    "collapsed": false
   },
   "outputs": [
    {
     "data": {
      "text/plain": [
       "<matplotlib.axes._subplots.AxesSubplot at 0x7fe9b4ecedd0>"
      ]
     },
     "execution_count": 17,
     "metadata": {},
     "output_type": "execute_result"
    },
    {
     "data": {
      "image/png": "[encoded data removed]",
      "text/plain": [
       "<matplotlib.figure.Figure at 0x7fe9b4ece610>"
      ]
     },
     "metadata": {},
     "output_type": "display_data"
    }
   ],
   "source": [
    "event[2].hist()"
   ]
  },
  {
   "cell_type": "markdown",
   "metadata": {},
   "source": [
    "显然，数据集中有脏数据，让我们把调研时间外的event排除掉："
   ]
  },
  {
   "cell_type": "code",
   "execution_count": 18,
   "metadata": {
    "collapsed": false
   },
   "outputs": [
    {
     "data": {
      "text/plain": [
       "<matplotlib.axes._subplots.AxesSubplot at 0x7fe9b4ea0050>"
      ]
     },
     "execution_count": 18,
     "metadata": {},
     "output_type": "execute_result"
    },
    {
     "data": {
      "image/png": "[encoded data removed]",
      "text/plain": [
       "<matplotlib.figure.Figure at 0x7fe9b4f80e90>"
      ]
     },
     "metadata": {},
     "output_type": "display_data"
    }
   ],
   "source": [
    "event = event[event[2] >= time_start]\n",
    "event = event[event[2] <= time_end]\n",
    "event[2].hist()"
   ]
  },
  {
   "cell_type": "markdown",
   "metadata": {},
   "source": [
    "Better, 大致能看出二月三月的用户活动量比一月大很多，再让我们再看看每个用户（基于uuid）的留存/活跃时间状况："
   ]
  },
  {
   "cell_type": "code",
   "execution_count": 19,
   "metadata": {
    "collapsed": true
   },
   "outputs": [],
   "source": [
    "duration = {}\n",
    "g = event.groupby([0])\n",
    "for each in g.groups:\n",
    "    idx = g.groups[each]\n",
    "    duration[each] = max(event.loc[idx][2]) - min(event.loc[idx][2])\n",
    "dur = pd.DataFrame(duration.values())"
   ]
  },
  {
   "cell_type": "code",
   "execution_count": 20,
   "metadata": {
    "collapsed": false
   },
   "outputs": [
    {
     "data": {
      "text/plain": [
       "array([[<matplotlib.axes._subplots.AxesSubplot object at 0x7fe9b47a3d90>]], dtype=object)"
      ]
     },
     "execution_count": 20,
     "metadata": {},
     "output_type": "execute_result"
    },
    {
     "data": {
      "image/png": "[encoded data removed]",
      "text/plain": [
       "<matplotlib.figure.Figure at 0x7fe9b47ad9d0>"
      ]
     },
     "metadata": {},
     "output_type": "display_data"
    }
   ],
   "source": [
    "dur.hist()"
   ]
  },
  {
   "cell_type": "markdown",
   "metadata": {},
   "source": [
    "可以看出绝大部分用户的活跃时间都很短，让我们缩进看一下活跃时间小于等于一月，一周, 一天的用户分布："
   ]
  },
  {
   "cell_type": "code",
   "execution_count": 22,
   "metadata": {
    "collapsed": false
   },
   "outputs": [
    {
     "data": {
      "text/plain": [
       "array([[<matplotlib.axes._subplots.AxesSubplot object at 0x7fe9b31c9e10>]], dtype=object)"
      ]
     },
     "execution_count": 22,
     "metadata": {},
     "output_type": "execute_result"
    },
    {
     "data": {
      "image/png": "[encoded data removed]",
      "text/plain": [
       "<matplotlib.figure.Figure at 0x7fe9b31102d0>"
      ]
     },
     "metadata": {},
     "output_type": "display_data"
    }
   ],
   "source": [
    "dur_month = pd.DataFrame(filter(lambda x: x <= 2592000,duration.values()))\n",
    "dur_month.hist()"
   ]
  },
  {
   "cell_type": "code",
   "execution_count": 23,
   "metadata": {
    "collapsed": false
   },
   "outputs": [
    {
     "data": {
      "text/plain": [
       "array([[<matplotlib.axes._subplots.AxesSubplot object at 0x7fe9b322bcd0>]], dtype=object)"
      ]
     },
     "execution_count": 23,
     "metadata": {},
     "output_type": "execute_result"
    },
    {
     "data": {
      "image/png": "[encoded data removed]",
      "text/plain": [
       "<matplotlib.figure.Figure at 0x7fe9b2fffb10>"
      ]
     },
     "metadata": {},
     "output_type": "display_data"
    }
   ],
   "source": [
    "dur_week = pd.DataFrame(filter(lambda x: x <= 604800,duration.values()))\n",
    "dur_week.hist()"
   ]
  },
  {
   "cell_type": "code",
   "execution_count": 24,
   "metadata": {
    "collapsed": false
   },
   "outputs": [
    {
     "data": {
      "text/plain": [
       "array([[<matplotlib.axes._subplots.AxesSubplot object at 0x7fe9b2fd8050>]], dtype=object)"
      ]
     },
     "execution_count": 24,
     "metadata": {},
     "output_type": "execute_result"
    },
    {
     "data": {
      "image/png": "[encoded data removed]",
      "text/plain": [
       "<matplotlib.figure.Figure at 0x7fe9b324f410>"
      ]
     },
     "metadata": {},
     "output_type": "display_data"
    }
   ],
   "source": [
    "dur_day = pd.DataFrame(filter(lambda x: x <= 86400,duration.values()))\n",
    "dur_day.hist()"
   ]
  },
  {
   "cell_type": "markdown",
   "metadata": {},
   "source": [
    "##### 可以发现绝大部分(大约60%)的用户活跃时间小于一天！\n",
    "那我们看看活跃时间大于一周，一天的用户个数分布"
   ]
  },
  {
   "cell_type": "code",
   "execution_count": 26,
   "metadata": {
    "collapsed": false
   },
   "outputs": [
    {
     "data": {
      "text/plain": [
       "array([[<matplotlib.axes._subplots.AxesSubplot object at 0x7fe9b2c4e510>]], dtype=object)"
      ]
     },
     "execution_count": 26,
     "metadata": {},
     "output_type": "execute_result"
    },
    {
     "data": {
      "image/png": "[encoded data removed]",
      "text/plain": [
       "<matplotlib.figure.Figure at 0x7fe9b2c78350>"
      ]
     },
     "metadata": {},
     "output_type": "display_data"
    }
   ],
   "source": [
    "dur_week = pd.DataFrame(filter(lambda x: x >= 604800,duration.values()))\n",
    "dur_week.hist()"
   ]
  },
  {
   "cell_type": "code",
   "execution_count": 29,
   "metadata": {
    "collapsed": false
   },
   "outputs": [
    {
     "data": {
      "text/plain": [
       "array([[<matplotlib.axes._subplots.AxesSubplot object at 0x7fe9b2f25650>]], dtype=object)"
      ]
     },
     "execution_count": 29,
     "metadata": {},
     "output_type": "execute_result"
    },
    {
     "data": {
      "image/png": "[encoded data removed]",
      "text/plain": [
       "<matplotlib.figure.Figure at 0x7fe9b2a512d0>"
      ]
     },
     "metadata": {},
     "output_type": "display_data"
    }
   ],
   "source": [
    "dur_day = pd.DataFrame(filter(lambda x: x >= 86400,duration.values()))\n",
    "dur_day.hist()"
   ]
  },
  {
   "cell_type": "markdown",
   "metadata": {},
   "source": [
    "可以发现大于一周的留存用户个数分布曲线更趋于平缓，因此，**决定将提取特征的window设为七天**。"
   ]
  },
  {
   "cell_type": "markdown",
   "metadata": {},
   "source": [
    "## 3. 问题定义\n",
    "因为uid与uuid相互关联对应逻辑只能将50%的uid对应上uuid（详见公司uid与uuid对应逻辑文档），而event数据只记录uuid的行为，若将uuid对应成uid，将有很多event数据的uuid无法对应上uid而变为废数据，因此我们所定义用户是基于uuid而不是uid。\n",
    "\n",
    "同样的，userbase的用户画像数据和expenditure的用户消费数据只能当做辅助信息，只能给部分uuid提供特征。\n",
    "\n",
    "**定义用户流失： 只要用户在大于一个时间段内（我们规定是7天）没有event记录，则视为该用户流失。**\n",
    "\n",
    "**定义预测问题：给定一个用户uuid，和一个时间界限，我们想通过timeline的用户历史数据得到的特征去预测时间界限之后七天内该用户是否流失（有没有event行为记录）。**\n",
    "\n",
    "下图可以表示我们的流失定义以及问题定义：\n",
    "<img src=\"p1.png\" style=\"width: 600px;\"/>\n",
    "\n",
    "因此，基于baseline数据的用户流失预测基本可以分为以下几个步骤：\n",
    "* 将baseline的数据groupby到每个用户\n",
    "* 选择不同的时间界限，并在界限之后的7天时间段去观察该用户是否流失\n",
    "* 用上一步时间界限之前的时间段内的数据提取特征\n",
    "* 训练模型，cross-validate, evaluate, etc.\n",
    "\n",
    "本篇报告后半部分均基于这几个步骤给实验结果和分析。"
   ]
  },
  {
   "cell_type": "markdown",
   "metadata": {},
   "source": [
    "## 4. 特征抽取\n",
    "\n",
    "#### 4.1 Group by User\n",
    "baseline的数据groupby到每个用户十分简单，需注意的是expenditure消费数据需先找到uid到uuid的对应，再与event中的uuid进行匹配。\n",
    "\n",
    "#### 4.2 Time Boundary\n",
    "选择时间界限则更加tricky。若我们只选择一个时间界限，则每个用户只能作为一个数据点；但如果我们选择多个时间界限，部分用户可以产生更多的留存数据点供于模型训练；示例如图：\n",
    "\n",
    "<img src=\"p2.png\" style=\"width: 600px;\"/>\n",
    "\n",
    "在该示例图中我们可得出，User 1, User 2, User 4 是boundary 1的留存用户，给予标签0；User 1, User 3是boundary 2的留存用户，给予标签0，User 4是boundary 2的流失用户，给予标签1.\n",
    "\n",
    "需要注意的是，在最后一个time boundary之后的数据点应排除于训练和测试集，因为我们无法知道这些数据点的标签。（无法知道boundary之后改用户是否有event产生）\n",
    "\n",
    "#### 4.3 Feature Extraction\n",
    "以七天作为我们的特征提取时间段，通过userbase、expenditure、以及event数据，我们可以抽取485个特征，以下是特征的介绍：\n",
    "\n",
    "**4.3.1 Event Feature:**\n",
    "\n",
    "| Column Index  | Feature Description  |\n",
    "| ------------- | -------------------- |\n",
    "| 1 - 199       | Number of event log based on different event ID   |\n",
    "| 200 - 205     | Time statistics: max, min, range, mean, median, standard deviation             |\n",
    "| 206 - 209     | Time difference statistics: max, min, mean, percentage             |\n",
    "| 210 - 229     | Time statistics of event time - userbase register time (5 * 4)          |\n",
    "| 230 - 249     | Time statistics of event time - time statistics of expenditure registeration time (5 * 4)    |\n",
    "| 250 - 269     | Time statistics of event time - time statistics of expenditure recharge time (5 * 4)           |\n",
    "| 270 - 289     | Time statistics of event time - time statistics of expenditure payment time (5 * 4)          |\n",
    "| 290           | Number of event log based on different time windows: 7 days          |\n",
    "| 291 - 292     | Number of event log based on different time windows: 3.5 * 2 days           |\n",
    "| 293 - 296     | Number of event log based on different time windows: 1.75 * 4 days           |\n",
    "| 297 - 303     | Number of event log based on different time windows: 1 * 7 days           |\n",
    "\n",
    "**4.3.3 Userbase Feature:**\n",
    "\n",
    "| Column Index  | Feature Description  |\n",
    "| ------------- | -------------------- |\n",
    "| 304           | number of uids       |\n",
    "| 305           | number of reg_ips       |\n",
    "| 306           | dummy: has signature or not       |\n",
    "| 307           | dummy: has nickname or not       |\n",
    "| 308           | sex majority       |\n",
    "| 309           | sex unique count       |\n",
    "| 310           | platform majority       |\n",
    "| 311           | platform unique count       |\n",
    "| 312           | ucid majority       |\n",
    "| 313           | ucid unique count       |\n",
    "| 314 - 319     | register time statistics: max, min, range, mean, median, standard deviation         |\n",
    "| 320           | number of groups       |\n",
    "| 321           | dummy: has group or not       |\n",
    "| 322           | dummy: has name or not       |\n",
    "| 323           | dummy: has realname or not       |\n",
    "| 324           | dummy: has address or not       |\n",
    "| 325           | dummy: has qq or not       |\n",
    "| 326           | dummy: has email or not       |\n",
    "| 327           | dummy: has contact or not       |\n",
    "| 328           | dummy: has idn or not       |\n",
    "| 329           | dummy: has pic_path or not       |\n",
    "| 330 - 448     | dummy: has some particular group or not based on different groups       |\n",
    "\n",
    "\n",
    "**4.3.2 Expenditure Feature:**\n",
    "\n",
    "| Column Index  | Feature Description  |\n",
    "| ------------- | -------------------- |\n",
    "| 449           | number of uid (register)       |\n",
    "| 450           | number of games (register)       |\n",
    "| 451           | number of unique games (register)       |\n",
    "| 452           | number of unique cids (register)       |\n",
    "| 453           | number of unique game_uids (register)       |\n",
    "| 454           | number of unique ucids (register)       |\n",
    "| 455 - 460     | register time statistics: max, min, range, mean, median, standard deviation         |\n",
    "| 461           | number of recharges (recharge)       |\n",
    "| 462           | number of unique games (recharge)        |\n",
    "| 463           | number of unique types (recharge)       |\n",
    "| 464           | number of unique cids (recharge)       |\n",
    "| 465           | number of unique items (recharge)       |\n",
    "| 466           | number of unique appids (recharge)       |\n",
    "| 467           | number of unique pay_froms (recharge)       |\n",
    "| 468 - 473     | recharge time statistics: max, min, range, mean, median, standard deviation         |\n",
    "| 474           | number of payments (payments)       |\n",
    "| 475           | number of unique games (payments)        |\n",
    "| 476           | number of unique cids (payments)       |\n",
    "| 477           | number of unique appids (payments)       |\n",
    "| 478           | number of unique items (payments)       |\n",
    "| 479           | number of unique porders (payments)      |\n",
    "| 480 - 485     | payment time statistics: max, min, range, mean, median, standard deviation         |\n",
    "\n",
    "\n",
    "提取出的特征如下："
   ]
  },
  {
   "cell_type": "code",
   "execution_count": 5,
   "metadata": {
    "collapsed": true
   },
   "outputs": [],
   "source": [
    "final = load_obj('final_augment')"
   ]
  },
  {
   "cell_type": "code",
   "execution_count": 6,
   "metadata": {
    "collapsed": true
   },
   "outputs": [],
   "source": [
    "final[308] = final[308].map(lambda x: ['None', '0', '1', '2'].index(x) if x in ['None', '0', '1', '2'] else 0)\n",
    "final[310] = final[310].map(lambda x: [ '0', '102', '101'].index(x) if x in [ '0', '102', '101'] else 1)"
   ]
  },
  {
   "cell_type": "code",
   "execution_count": 7,
   "metadata": {
    "collapsed": true
   },
   "outputs": [],
   "source": [
    "indices = range(1, final.shape[1])\n",
    "\n",
    "data = final[indices]\n",
    "target = final[0]"
   ]
  },
  {
   "cell_type": "code",
   "execution_count": 9,
   "metadata": {
    "collapsed": false
   },
   "outputs": [
    {
     "data": {
      "text/html": [
       "<div>\n",
       "<table border=\"1\" class=\"dataframe\">\n",
       "  <thead>\n",
       "    <tr style=\"text-align: right;\">\n",
       "      <th></th>\n",
       "      <th>1</th>\n",
       "      <th>2</th>\n",
       "      <th>3</th>\n",
       "      <th>4</th>\n",
       "      <th>5</th>\n",
       "      <th>6</th>\n",
       "      <th>7</th>\n",
       "      <th>8</th>\n",
       "      <th>9</th>\n",
       "      <th>10</th>\n",
       "      <th>...</th>\n",
       "      <th>476</th>\n",
       "      <th>477</th>\n",
       "      <th>478</th>\n",
       "      <th>479</th>\n",
       "      <th>480</th>\n",
       "      <th>481</th>\n",
       "      <th>482</th>\n",
       "      <th>483</th>\n",
       "      <th>484</th>\n",
       "      <th>485</th>\n",
       "    </tr>\n",
       "  </thead>\n",
       "  <tbody>\n",
       "    <tr>\n",
       "      <th>0</th>\n",
       "      <td>0.0</td>\n",
       "      <td>0.0</td>\n",
       "      <td>0.0</td>\n",
       "      <td>0.0</td>\n",
       "      <td>0.0</td>\n",
       "      <td>0.0</td>\n",
       "      <td>0.0</td>\n",
       "      <td>0.0</td>\n",
       "      <td>0.0</td>\n",
       "      <td>0.0</td>\n",
       "      <td>...</td>\n",
       "      <td>NaN</td>\n",
       "      <td>NaN</td>\n",
       "      <td>NaN</td>\n",
       "      <td>NaN</td>\n",
       "      <td>NaN</td>\n",
       "      <td>NaN</td>\n",
       "      <td>NaN</td>\n",
       "      <td>NaN</td>\n",
       "      <td>NaN</td>\n",
       "      <td>NaN</td>\n",
       "    </tr>\n",
       "    <tr>\n",
       "      <th>1</th>\n",
       "      <td>0.0</td>\n",
       "      <td>0.0</td>\n",
       "      <td>0.0</td>\n",
       "      <td>0.0</td>\n",
       "      <td>0.0</td>\n",
       "      <td>0.0</td>\n",
       "      <td>0.0</td>\n",
       "      <td>0.0</td>\n",
       "      <td>0.0</td>\n",
       "      <td>0.0</td>\n",
       "      <td>...</td>\n",
       "      <td>NaN</td>\n",
       "      <td>NaN</td>\n",
       "      <td>NaN</td>\n",
       "      <td>NaN</td>\n",
       "      <td>NaN</td>\n",
       "      <td>NaN</td>\n",
       "      <td>NaN</td>\n",
       "      <td>NaN</td>\n",
       "      <td>NaN</td>\n",
       "      <td>NaN</td>\n",
       "    </tr>\n",
       "    <tr>\n",
       "      <th>2</th>\n",
       "      <td>0.0</td>\n",
       "      <td>0.0</td>\n",
       "      <td>0.0</td>\n",
       "      <td>0.0</td>\n",
       "      <td>0.0</td>\n",
       "      <td>0.0</td>\n",
       "      <td>0.0</td>\n",
       "      <td>0.0</td>\n",
       "      <td>0.0</td>\n",
       "      <td>0.0</td>\n",
       "      <td>...</td>\n",
       "      <td>NaN</td>\n",
       "      <td>NaN</td>\n",
       "      <td>NaN</td>\n",
       "      <td>NaN</td>\n",
       "      <td>NaN</td>\n",
       "      <td>NaN</td>\n",
       "      <td>NaN</td>\n",
       "      <td>NaN</td>\n",
       "      <td>NaN</td>\n",
       "      <td>NaN</td>\n",
       "    </tr>\n",
       "    <tr>\n",
       "      <th>3</th>\n",
       "      <td>0.0</td>\n",
       "      <td>0.0</td>\n",
       "      <td>0.0</td>\n",
       "      <td>0.0</td>\n",
       "      <td>0.0</td>\n",
       "      <td>0.0</td>\n",
       "      <td>0.0</td>\n",
       "      <td>0.0</td>\n",
       "      <td>0.0</td>\n",
       "      <td>0.0</td>\n",
       "      <td>...</td>\n",
       "      <td>NaN</td>\n",
       "      <td>NaN</td>\n",
       "      <td>NaN</td>\n",
       "      <td>NaN</td>\n",
       "      <td>NaN</td>\n",
       "      <td>NaN</td>\n",
       "      <td>NaN</td>\n",
       "      <td>NaN</td>\n",
       "      <td>NaN</td>\n",
       "      <td>NaN</td>\n",
       "    </tr>\n",
       "    <tr>\n",
       "      <th>4</th>\n",
       "      <td>0.0</td>\n",
       "      <td>0.0</td>\n",
       "      <td>0.0</td>\n",
       "      <td>0.0</td>\n",
       "      <td>0.0</td>\n",
       "      <td>0.0</td>\n",
       "      <td>0.0</td>\n",
       "      <td>0.0</td>\n",
       "      <td>0.0</td>\n",
       "      <td>3.0</td>\n",
       "      <td>...</td>\n",
       "      <td>NaN</td>\n",
       "      <td>NaN</td>\n",
       "      <td>NaN</td>\n",
       "      <td>NaN</td>\n",
       "      <td>NaN</td>\n",
       "      <td>NaN</td>\n",
       "      <td>NaN</td>\n",
       "      <td>NaN</td>\n",
       "      <td>NaN</td>\n",
       "      <td>NaN</td>\n",
       "    </tr>\n",
       "  </tbody>\n",
       "</table>\n",
       "<p>5 rows × 485 columns</p>\n",
       "</div>"
      ],
      "text/plain": [
       "   1    2    3    4    5    6    7    8    9    10  ...   476  477  478  479  \\\n",
       "0  0.0  0.0  0.0  0.0  0.0  0.0  0.0  0.0  0.0  0.0 ...   NaN  NaN  NaN  NaN   \n",
       "1  0.0  0.0  0.0  0.0  0.0  0.0  0.0  0.0  0.0  0.0 ...   NaN  NaN  NaN  NaN   \n",
       "2  0.0  0.0  0.0  0.0  0.0  0.0  0.0  0.0  0.0  0.0 ...   NaN  NaN  NaN  NaN   \n",
       "3  0.0  0.0  0.0  0.0  0.0  0.0  0.0  0.0  0.0  0.0 ...   NaN  NaN  NaN  NaN   \n",
       "4  0.0  0.0  0.0  0.0  0.0  0.0  0.0  0.0  0.0  3.0 ...   NaN  NaN  NaN  NaN   \n",
       "\n",
       "   480  481  482  483  484  485  \n",
       "0  NaN  NaN  NaN  NaN  NaN  NaN  \n",
       "1  NaN  NaN  NaN  NaN  NaN  NaN  \n",
       "2  NaN  NaN  NaN  NaN  NaN  NaN  \n",
       "3  NaN  NaN  NaN  NaN  NaN  NaN  \n",
       "4  NaN  NaN  NaN  NaN  NaN  NaN  \n",
       "\n",
       "[5 rows x 485 columns]"
      ]
     },
     "execution_count": 9,
     "metadata": {},
     "output_type": "execute_result"
    }
   ],
   "source": [
    "data.head()"
   ]
  },
  {
   "cell_type": "markdown",
   "metadata": {},
   "source": [
    "可以看出的是，后面一部分特征存在的NaN值比较多，原因如上文所介绍的一样，uid与uuid对应匹配是不完全的。event uuids只能对应一部分userbase uuids和一小部分expenditure uids。在此展示一下匹配数据点的占比："
   ]
  },
  {
   "cell_type": "code",
   "execution_count": 15,
   "metadata": {
    "collapsed": false
   },
   "outputs": [
    {
     "data": {
      "text/plain": [
       "0.43706540677141376"
      ]
     },
     "execution_count": 15,
     "metadata": {},
     "output_type": "execute_result"
    }
   ],
   "source": [
    "sum(data[448].notnull())/float(data.shape[0])"
   ]
  },
  {
   "cell_type": "code",
   "execution_count": 16,
   "metadata": {
    "collapsed": false
   },
   "outputs": [
    {
     "data": {
      "text/plain": [
       "0.14469698158815866"
      ]
     },
     "execution_count": 16,
     "metadata": {},
     "output_type": "execute_result"
    }
   ],
   "source": [
    "sum(data[479].notnull())/float(data.shape[0])"
   ]
  },
  {
   "cell_type": "markdown",
   "metadata": {},
   "source": [
    "可见只有43.7%的数据点能匹配得到userbase特征，14.5%的数据点能匹配到expenditure特征。缺少匹配的数据点比较多这让特征工程和建模十分困难。\n",
    "\n",
    "初步猜测有可能gpapp数据与userbase和expenditure匹配不太好，尝试了gpsdk数据的匹配。结果是userbase也只能匹配60%不到。因为gpsdk event的数据量太大，因此还是以gpapp在做后续试验。\n",
    "\n",
    "再而猜测因为设置多个界限导致有可能放大了部分匹配不到userbase和expenditure的数据点。重新剔除重复数据后匹配数据占比仍然很低。"
   ]
  },
  {
   "cell_type": "code",
   "execution_count": null,
   "metadata": {
    "collapsed": true
   },
   "outputs": [],
   "source": []
  },
  {
   "cell_type": "code",
   "execution_count": null,
   "metadata": {
    "collapsed": true
   },
   "outputs": [],
   "source": []
  },
  {
   "cell_type": "code",
   "execution_count": null,
   "metadata": {
    "collapsed": true
   },
   "outputs": [],
   "source": []
  },
  {
   "cell_type": "code",
   "execution_count": null,
   "metadata": {
    "collapsed": true
   },
   "outputs": [],
   "source": []
  },
  {
   "cell_type": "code",
   "execution_count": null,
   "metadata": {
    "collapsed": true
   },
   "outputs": [],
   "source": []
  },
  {
   "cell_type": "code",
   "execution_count": null,
   "metadata": {
    "collapsed": true
   },
   "outputs": [],
   "source": []
  },
  {
   "cell_type": "markdown",
   "metadata": {},
   "source": []
  },
  {
   "cell_type": "markdown",
   "metadata": {},
   "source": []
  },
  {
   "cell_type": "code",
   "execution_count": 6,
   "metadata": {
    "collapsed": false
   },
   "outputs": [
    {
     "name": "stdout",
     "output_type": "stream",
     "text": [
      "Once deleted, variables cannot be recovered. Proceed (y/[n])? y\n"
     ]
    }
   ],
   "source": [
    "%reset"
   ]
  },
  {
   "cell_type": "code",
   "execution_count": null,
   "metadata": {
    "collapsed": true
   },
   "outputs": [],
   "source": []
  }
 ],
 "metadata": {
  "kernelspec": {
   "display_name": "Python 2",
   "language": "python",
   "name": "python2"
  },
  "language_info": {
   "codemirror_mode": {
    "name": "ipython",
    "version": 2
   },
   "file_extension": ".py",
   "mimetype": "text/x-python",
   "name": "python",
   "nbconvert_exporter": "python",
   "pygments_lexer": "ipython2",
   "version": "2.7.11"
  }
 },
 "nbformat": 4,
 "nbformat_minor": 0
}
