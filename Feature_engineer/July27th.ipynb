{
 "cells": [
  {
   "cell_type": "code",
   "execution_count": 1,
   "metadata": {
    "collapsed": true
   },
   "outputs": [],
   "source": [
    "import pandas as pd\n",
    "import time\n",
    "import math\n",
    "import numpy as np\n",
    "\n",
    "from sklearn.ensemble import GradientBoostingClassifier\n",
    "from sklearn import cross_validation\n",
    "from sklearn.metrics import roc_auc_score\n",
    "from sklearn.metrics import precision_score, recall_score, f1_score\n",
    "from sklearn.metrics import confusion_matrix\n",
    "\n",
    "import pickle\n",
    "import sys\n",
    "\n",
    "\"\"\"\n",
    "Some global parameters to be tuned here.\n",
    "\"\"\"\n",
    "date_range = (\"2016-01-01T00:00:00\", \"2016-03-31T23:59:59\")\n",
    "\n",
    "time_start = int(time.mktime(time.strptime(date_range[0], '%Y-%m-%dT%H:%M:%S')))\n",
    "time_end = int(time.mktime(time.strptime(date_range[1], '%Y-%m-%dT%H:%M:%S')))\n",
    "\n",
    "# TODO: def foo()\n",
    "# 7 days as a period\n",
    "period = 604800.0\n",
    "n_period = int(math.ceil((time_end - time_start)/(period)))\n",
    "\n",
    "\n",
    "\n",
    "def save_obj(obj, name):\n",
    "    with open( name + '.pkl', 'wb') as f:\n",
    "        pickle.dump(obj, f, pickle.HIGHEST_PROTOCOL)\n",
    "\n",
    "def load_obj(name):\n",
    "    with open( name + '.pkl', 'rb') as f:\n",
    "        return pickle.load(f)\n",
    "\n",
    "def time_str2int(in_time):\n",
    "    return int(time.mktime(time.strptime(in_time, '%Y-%m-%d %H:%M:%S'))) \n",
    "\n",
    "def string2list(in_str):\n",
    "    ret = in_str.split('],[')\n",
    "    temp = []\n",
    "    for each in ret:\n",
    "        temp.append(each.strip('[').strip(']').split(','))\n",
    "    return temp\n",
    "    #return pd.DataFrame(temp)\n",
    "\n",
    "def get_uuids(filename):\n",
    "    # Get logs within the time range\n",
    "    t = pd.read_csv(filename, sep='\\t', header = None)\n",
    "    t1 = t[t[2] >= time_start]\n",
    "    data_all = t1[t1[2] <= time_end]\n",
    "\n",
    "    grouped_by_uuid = data_all.groupby([0])\n",
    "    uuids = grouped_by_uuid.groups.keys()\n",
    "\n",
    "    return uuids\n",
    "\n",
    "# def get_uids(userbase_dataframe, uuid_list):\n",
    "#     # TODO\n",
    "#     u_by_uuid = userbase_dataframe[userbase_dataframe[1].isin(set(uuid_list))]\n",
    "#     u_by_uuid = u_by_uuid[u_by_uuid[1]!= 'cfcd208495d565ef66e7dff9f98764da']\n",
    "#     return u_by_uuid[0].unique()\n",
    "\n",
    "def get_eventids(filename):\n",
    "    # Get logs within the time range\n",
    "    t = pd.read_csv(filename, sep='\\t', header = None)\n",
    "    t1 = t[t[2] >= time_start]\n",
    "    data_all = t1[t1[2] <= time_end]\n",
    "\n",
    "    grouped_by_eventid = data_all.groupby([1])\n",
    "    eventids = grouped_by_eventid.groups.keys()\n",
    "    return eventids\n",
    "\n",
    "def get_uuid2uid(userbase_dataframe, uuid_list):\n",
    "    # TODO\n",
    "    u_by_uuid = userbase_dataframe[userbase_dataframe[1].isin(set(uuid_list))]\n",
    "    u_by_uuid = u_by_uuid[u_by_uuid[1]!= 'cfcd208495d565ef66e7dff9f98764da']\n",
    "    uuid2uid = {}\n",
    "    for each in u_by_uuid.iterrows():\n",
    "        if each[1][1] not in uuid2uid:\n",
    "            uuid2uid[each[1][1]] = []\n",
    "        uuid2uid[each[1][1]].append(each[1][0])\n",
    "    return uuid2uid\n",
    "\n",
    "def get_uid2uuid(userbase_dataframe, uuid_list):\n",
    "    u_by_uuid = userbase_dataframe[userbase_dataframe[1].isin(set(uuid_list))]\n",
    "    u_by_uuid = u_by_uuid[u_by_uuid[1]!= 'cfcd208495d565ef66e7dff9f98764da']\n",
    "    uid2uuid = {}\n",
    "    for each in u_by_uuid.iterrows():\n",
    "        if each[1][0] not in uid2uuid:\n",
    "            uid2uuid[each[1][0]] = []\n",
    "        uid2uuid[each[1][0]].append(each[1][1])\n",
    "    return uid2uuid\n",
    "\n",
    "def feature_expenditure(filename, userbase_dataframe, uuid_list):\n",
    "\n",
    "    uid2uuid = get_uid2uuid(userbase_dataframe, uuid_list)\n",
    "    for each in uid2uuid:\n",
    "        if len(uid2uuid[each]) > 1:\n",
    "            print \"Found one-to-many uid to uuid relationship, but I ignored it for simplicity.\"\n",
    "\n",
    "    e = pd.read_csv(filename, sep='\\t', header = None)\n",
    "    exp = e[e[0].isin(set(uid2uuid.keys()))]\n",
    "    exp[-1] = exp[0].map(lambda x: uid2uuid[x][0])\n",
    "    exp_by_uuid = exp.groupby([-1])\n",
    "\n",
    "    expenditure_dict = {}\n",
    "    for each in exp_by_uuid.groups:\n",
    "        index_list = exp_by_uuid.groups[each]\n",
    "        data_frame = exp.loc[index_list]\n",
    "        \n",
    "        reg = []\n",
    "        rec = []\n",
    "        pay = []\n",
    "        for row in data_frame.iterrows():\n",
    "            reg += string2list(row[1][1])\n",
    "            rec += string2list(row[1][2])\n",
    "            pay += string2list(row[1][3])\n",
    "        reg = pd.DataFrame(reg)\n",
    "        rec = pd.DataFrame(rec)\n",
    "        pay = pd.DataFrame(pay)\n",
    "        \n",
    "        \n",
    "        \"\"\"reg\"\"\"\n",
    "        reg = reg[reg[3]!='0']\n",
    "        try: # no reg means no rec or pay\n",
    "            #[0] #uid\n",
    "            temp = [len(index_list)]\n",
    "            #[1] #games\n",
    "            temp.append(len(reg[0]))\n",
    "            #[2] # unique games\n",
    "            temp.append(len(reg[1].unique()))\n",
    "            #[3] # unique cid\n",
    "            temp.append(len(reg[2].unique()))\n",
    "            #[4] # unique game_uid\n",
    "            temp.append(len(reg[4].unique()))\n",
    "            #[5] # unique ucid\n",
    "            temp.append(len(reg[5].unique()))\n",
    "\n",
    "            reg_time = reg[3].map(time_str2int)\n",
    "            #[6] max reg time\n",
    "            temp.append(max(reg_time))\n",
    "            #[7] min reg time\n",
    "            temp.append(min(reg_time))\n",
    "            #[8] reg time span\n",
    "            temp.append(max(reg_time) - min(reg_time))\n",
    "            #[9] reg time mean\n",
    "            temp.append(reg_time.quantile(0.5))\n",
    "            #[10] reg time std\n",
    "            temp.append(np.std(reg_time))\n",
    "        except:\n",
    "            continue\n",
    "        \n",
    "        \"\"\"rec\"\"\"\n",
    "        rec = rec[rec[2]!='0']\n",
    "        if len(rec) == 0:\n",
    "            temp += [np.nan] * 12\n",
    "        else:\n",
    "            #[11] # rec\n",
    "            temp.append(len(rec[0]))\n",
    "            #[12] # unique games\n",
    "            temp.append(len(rec[0].unique()))\n",
    "            #[13] # unique types\n",
    "            temp.append(len(rec[1].unique()))\n",
    "            #[14] # unique cid\n",
    "            temp.append(len(rec[3].unique()))\n",
    "            #[15] # unique item\n",
    "            temp.append(len(rec[4].unique()))    \n",
    "            #[16] # unique appid\n",
    "            temp.append(len(rec[5].unique()))  \n",
    "            #[17] # unique pay_from\n",
    "            temp.append(len(rec[6].unique()))  \n",
    "\n",
    "            rec_time = rec[2].map(time_str2int)\n",
    "            #[18] max reg time\n",
    "            temp.append(max(rec_time))\n",
    "            #[19] min reg time\n",
    "            temp.append(min(rec_time))\n",
    "            #[20] reg time span\n",
    "            temp.append(max(rec_time) - min(rec_time))\n",
    "            #[21] reg time mean\n",
    "            temp.append(rec_time.quantile(0.5))\n",
    "            #[22] reg time std\n",
    "            temp.append(np.std(rec_time))\n",
    "        \n",
    "        pay = pay[pay[2]!='0']\n",
    "        if len(pay) == 0:\n",
    "            temp += [np.nan] * 11\n",
    "        else:\n",
    "            #[23] # payments\n",
    "            temp.append(len(pay[0]))\n",
    "            #[24] # unique games\n",
    "            temp.append(len(pay[0].unique()))\n",
    "            #[25] # unique cid\n",
    "            temp.append(len(pay[1].unique()))\n",
    "            #[26] # unique appid\n",
    "            temp.append(len(pay[3].unique()))\n",
    "            #[27] # unique item\n",
    "            temp.append(len(pay[4].unique()))    \n",
    "            #[28] # unique porder\n",
    "            temp.append(len(pay[5].unique()))  \n",
    "\n",
    "\n",
    "            pay_time = pay[2].map(time_str2int)\n",
    "            #[29] max reg time\n",
    "            temp.append(max(pay_time))\n",
    "            #[30] min reg time\n",
    "            temp.append(min(pay_time))\n",
    "            #[31] reg time span\n",
    "            temp.append(max(pay_time) - min(pay_time))\n",
    "            #[32] reg time mean\n",
    "            temp.append(pay_time.quantile(0.5))\n",
    "            #[33] reg time std\n",
    "            temp.append(np.std(pay_time))\n",
    "        \n",
    "        expenditure_dict[each] = temp\n",
    "\n",
    "    return expenditure_dict  \n",
    "\n",
    "def feature_expenditure_old(filename, uid_list):\n",
    "    \"\"\"\n",
    "    Input: filename-- expenditure_timeline\n",
    "           uid_list-- uids to be extracted from expenditure_timeline\n",
    "\n",
    "    Output: a dictionary of (uuid, feature) pairs\n",
    "\n",
    "    TODO: check possible repetitions of features\n",
    "    \"\"\"\n",
    "    e = pd.read_csv(filename, sep='\\t', header = None)\n",
    "    exp = e[e[0].isin(set(uid_list))]\n",
    "\n",
    "    exp_dict = {}\n",
    "    for row in exp.iterrows():\n",
    "        uid = row[1][0]\n",
    "        \n",
    "        reg_df = string2list(row[1][1])\n",
    "        rec_df = string2list(row[1][2])\n",
    "        pay_df = string2list(row[1][3])\n",
    "        \n",
    "        temp = np.zeros(21)\n",
    "\n",
    "        # reg\n",
    "        if reg_df[3].any() == '0':\n",
    "            temp[0:6] = np.nan\n",
    "        else:\n",
    "            temp[0] = reg_df[1].nunique()\n",
    "            temp[1] = reg_df[2].nunique()\n",
    "            temp[2] = max(reg_df[3].map(time_str2int))\n",
    "            temp[3] = min(reg_df[3].map(time_str2int))\n",
    "            temp[4] = temp[2] - temp[3]\n",
    "            temp[5] = reg_df[5].nunique()\n",
    "\n",
    "        \n",
    "        # pay\n",
    "        if pay_df[2].any() == '0':\n",
    "            temp[6:13] = np.nan\n",
    "        else:\n",
    "            temp[6] = pay_df[0].nunique()\n",
    "            temp[7] = pay_df[1].nunique()\n",
    "            temp[8] = max(pay_df[2].map(time_str2int))\n",
    "            temp[9] = min(pay_df[2].map(time_str2int))\n",
    "            temp[10] = temp[8] - temp[9]\n",
    "            temp[11] = pay_df[4].nunique()\n",
    "            temp[12] = pay_df[5].nunique()\n",
    "\n",
    "        \n",
    "        # rec\n",
    "        if rec_df[2].any() == '0':\n",
    "            temp[13:21] = np.nan\n",
    "        else:\n",
    "            temp[13] = rec_df[0].nunique()\n",
    "            temp[14] = rec_df[1].nunique()\n",
    "            temp[15] = max(rec_df[2].map(time_str2int))\n",
    "            temp[16] = min(rec_df[2].map(time_str2int))\n",
    "            temp[17] = temp[15] - temp[16]\n",
    "            temp[18] = rec_df[3].nunique()\n",
    "            temp[19] = rec_df[4].nunique()\n",
    "            temp[20] = rec_df[6].nunique()\n",
    "\n",
    "        exp_dict[uid] = temp\n",
    "\n",
    "    return exp_dict\n",
    "\n",
    "def cleaning_filter(input_element, filter_list, replacement):\n",
    "    if input_element not in filter_list:\n",
    "        return replacement\n",
    "    return input_element\n",
    "\n",
    "def ucid_cleaner(input_element):\n",
    "    try:\n",
    "        ret = eval(input_element)\n",
    "    except:\n",
    "        ret = []\n",
    "    if type(ret) is list:\n",
    "        return ret\n",
    "    elif type(ret) is dict:\n",
    "        return map(lambda x: int(x), ret.values())\n",
    "    elif type(ret) is int:\n",
    "        return [ret]\n",
    "    else:\n",
    "        print \"Error in ucid_cleaner\"\n",
    "\n",
    "\n",
    "def feature_userbase(userbase_dataframe, uuid_list):\n",
    "    \"\"\"\n",
    "    Input: userbase_dataframe-- stacked userbases by pandas.read_csv()\n",
    "           uuid_list-- -- uuids to be extracted from userbase\n",
    "\n",
    "    Output: a dictionary of (uuid, feature) pairs\n",
    "    \"\"\"\n",
    "\n",
    "    u_by_uuid = userbase_dataframe[userbase_dataframe[1].isin(set(uuid_list))]\n",
    "    # remove empty uuids: 'cfcd208495d565ef66e7dff9f98764da' \n",
    "    u_by_uuid = u_by_uuid[u_by_uuid[1] != 'cfcd208495d565ef66e7dff9f98764da']\n",
    "    # remove NaNs\n",
    "    u_by_uuid.drop(u_by_uuid[u_by_uuid[9].isnull()].index, inplace=True)\n",
    "\n",
    "    \"\"\"Some data cleaning\"\"\"\n",
    "    # clean sex\n",
    "    value_counts = u_by_uuid[5].value_counts()\n",
    "    u_by_uuid[5] = u_by_uuid[5].map(lambda x: cleaning_filter(x, value_counts.index[:4], value_counts.index[0]))\n",
    "\n",
    "    # clean platform\n",
    "    u_by_uuid[6] = u_by_uuid[6].map(lambda x: str(x))\n",
    "    value_counts = u_by_uuid[6].value_counts()\n",
    "    u_by_uuid[6] = u_by_uuid[6].map(lambda x: cleaning_filter(x, value_counts.index[:3], '0'))\n",
    "\n",
    "    # clean status\n",
    "    u_by_uuid[7] = u_by_uuid[7].map(lambda x: str(x))\n",
    "    u_by_uuid[7] = u_by_uuid[7].map(lambda x: cleaning_filter(x, ['0'], '1'))\n",
    "\n",
    "    # clean ucid\n",
    "    u_by_uuid[8] = u_by_uuid[8].map(lambda x: str(x))\n",
    "\n",
    "    \"\"\"some processing about ucid\"\"\"\n",
    "    # clean ucid\n",
    "    u_by_uuid[10] = u_by_uuid[10].map(ucid_cleaner)\n",
    "    ucids = []\n",
    "    for each in u_by_uuid[10]:\n",
    "        ucids += each\n",
    "    dictinct_ucids = list(set(ucids))\n",
    "\n",
    "    # Begin feature engineering\n",
    "    grouped_by_u = u_by_uuid.groupby([1])\n",
    "    \n",
    "    userbase_dict = {}\n",
    "    for each in grouped_by_u.groups:\n",
    "        \n",
    "        index_list = grouped_by_u.groups[each]\n",
    "        data_frame = u_by_uuid.loc[index_list]\n",
    "        \n",
    "        try:\n",
    "            #[0] uid\n",
    "            temp = [len(index_list)]\n",
    "\n",
    "            #[1] reg_ip\n",
    "            temp.append(data_frame[2].nunique())\n",
    "\n",
    "            #[2] has signature or not\n",
    "            if sum(data_frame[3].isnull()) > 0:\n",
    "                temp.append(1)\n",
    "            else:\n",
    "                temp.append(0)\n",
    "\n",
    "            #[3] has nickname or not\n",
    "            #nn = data_frame['4'].map(lambda x: x == 'None')\n",
    "            if sum(data_frame[4].map(lambda x: x == 'None')) > 0:\n",
    "                temp.append(1)\n",
    "            else:\n",
    "                temp.append(0)\n",
    "\n",
    "            #[4] sex majority -- One-Hot needed\n",
    "            temp.append(str(data_frame[5].value_counts().index[0]))\n",
    "            #[5] sex unique count\n",
    "            temp.append(data_frame[5].nunique())\n",
    "\n",
    "            #[6] platform majority -- One-Hot needed\n",
    "            temp.append(str(data_frame[6].value_counts().index[0]))\n",
    "            #[7] platform unique count\n",
    "            temp.append(data_frame[6].nunique())\n",
    "\n",
    "            #[8] ucid majority -- One-hot\n",
    "            temp.append(str(data_frame[8].value_counts().index[0]))\n",
    "            #[9] ucid unique count\n",
    "            temp.append(data_frame[8].nunique())\n",
    "\n",
    "            #reg time stuff\n",
    "            reg_time = data_frame[9].map(time_str2int)\n",
    "            #[10] reg time max\n",
    "            temp.append(max(reg_time))\n",
    "            #[11] reg time min\n",
    "            temp.append(min(reg_time))\n",
    "            #[12] reg time span\n",
    "            temp.append(max(reg_time) - min(reg_time))\n",
    "            #[13] reg time mean\n",
    "            temp.append(reg_time.quantile(0.5))\n",
    "            #[14] reg time std\n",
    "            temp.append(np.std(reg_time))\n",
    "\n",
    "\n",
    "            #[15] group: number of groups\n",
    "            temp.append( sum(data_frame[10].map(lambda x: len(x))) )\n",
    "            #[16] group: dummy\n",
    "            temp.append(int(temp[len(temp)-1] > 0))\n",
    "\n",
    "            \"\"\"TODO: a huge feature line of ucid down in the bottom\"\"\"\n",
    "\n",
    "            #[18] name\n",
    "            if sum(data_frame[11].map(lambda x: x != 'None')) > 0:\n",
    "                temp.append(1)\n",
    "            else:\n",
    "                temp.append(0)\n",
    "\n",
    "            #[19-25] dummy\n",
    "            for i in range(12, 19):\n",
    "                temp.append(int(sum(data_frame[i]) > 0))\n",
    "\n",
    "            \"\"\"the huge line promised above\"\"\"\n",
    "            ucid_feature = [0] * len(dictinct_ucids)\n",
    "            for i, e in enumerate(dictinct_ucids):\n",
    "                if e in data_frame[10]:\n",
    "                    ucid_feature[i] += 1\n",
    "\n",
    "            temp += ucid_feature\n",
    "\n",
    "            userbase_dict[each] = temp\n",
    "\n",
    "        except:\n",
    "            e = sys.exc_info()[0]\n",
    "            print data_frame\n",
    "            print e\n",
    "            break\n",
    "\n",
    "    return userbase_dict"
   ]
  },
  {
   "cell_type": "code",
   "execution_count": 2,
   "metadata": {
    "collapsed": false
   },
   "outputs": [],
   "source": [
    "def feature_event(filename):\n",
    "\n",
    "    # Get logs within the time range\n",
    "    t = pd.read_csv(filename, sep='\\t', header = None)\n",
    "    t1 = t[t[2] >= time_start]\n",
    "    data_all = t1[t1[2] <= time_end]\n",
    "\n",
    "    # binning whole logs in periods as a big dict()\n",
    "    whole_dict = {i : {} for i in range(n_period)}\n",
    "    # for each log\n",
    "    for log in data_all.iterrows():\n",
    "        # find its binned period\n",
    "        idx = int(math.floor((log[1][2] - time_start)/period))\n",
    "\n",
    "        if log[1][0] not in whole_dict[idx]:\n",
    "            whole_dict[idx][log[1][0]] = []\n",
    "\n",
    "        # append uuid, event id, and timestamp to the list\n",
    "        whole_dict[idx][log[1][0]].append((log[1][1], log[1][2]))\n",
    "\n",
    "    return whole_dict"
   ]
  },
  {
   "cell_type": "code",
   "execution_count": null,
   "metadata": {
    "collapsed": true
   },
   "outputs": [],
   "source": [
    "def feature_event_2(filename):\n",
    "\n",
    "    # Get logs within the time range\n",
    "    t = pd.read_csv(filename, sep='\\t', header = None)\n",
    "    t1 = t[t[2] >= time_start]\n",
    "    data_all = t1[t1[2] <= time_end]\n",
    "\n",
    "    # binning whole logs in periods as a big dict()\n",
    "    whole_dict = {i : {} for i in range(n_period)}\n",
    "    # for each log\n",
    "    for log in data_all.iterrows():\n",
    "        # find its binned period\n",
    "        idx = int(math.floor((log[1][2] - time_start)/period))\n",
    "\n",
    "        if log[1][0] not in whole_dict[idx]:\n",
    "            whole_dict[idx][log[1][0]] = []\n",
    "\n",
    "        # append uuid, event id, and timestamp to the list\n",
    "        whole_dict[idx][log[1][0]].append((log[1][1], log[1][2]))\n",
    "\n",
    "    return whole_dict"
   ]
  },
  {
   "cell_type": "code",
   "execution_count": null,
   "metadata": {
    "collapsed": true
   },
   "outputs": [],
   "source": []
  },
  {
   "cell_type": "code",
   "execution_count": null,
   "metadata": {
    "collapsed": true
   },
   "outputs": [],
   "source": []
  },
  {
   "cell_type": "code",
   "execution_count": null,
   "metadata": {
    "collapsed": true
   },
   "outputs": [],
   "source": []
  },
  {
   "cell_type": "code",
   "execution_count": 2,
   "metadata": {
    "collapsed": true
   },
   "outputs": [],
   "source": [
    "t = pd.read_csv('/data/yulun/timeline/timeline_event_gpapp.txt', sep='\\t', header = None)\n",
    "t1 = t[t[2] >= time_start]\n",
    "data_all = t1[t1[2] <= time_end]"
   ]
  },
  {
   "cell_type": "code",
   "execution_count": 4,
   "metadata": {
    "collapsed": false,
    "scrolled": true
   },
   "outputs": [
    {
     "data": {
      "text/html": [
       "<div>\n",
       "<table border=\"1\" class=\"dataframe\">\n",
       "  <thead>\n",
       "    <tr style=\"text-align: right;\">\n",
       "      <th></th>\n",
       "      <th>0</th>\n",
       "      <th>1</th>\n",
       "      <th>2</th>\n",
       "    </tr>\n",
       "  </thead>\n",
       "  <tbody>\n",
       "    <tr>\n",
       "      <th>6</th>\n",
       "      <td>641ddc183e4af1108919effa9c15c6a1</td>\n",
       "      <td>1000</td>\n",
       "      <td>1453446734</td>\n",
       "    </tr>\n",
       "    <tr>\n",
       "      <th>7</th>\n",
       "      <td>641ddc183e4af1108919effa9c15c6a1</td>\n",
       "      <td>1000</td>\n",
       "      <td>1453446734</td>\n",
       "    </tr>\n",
       "    <tr>\n",
       "      <th>8</th>\n",
       "      <td>641ddc183e4af1108919effa9c15c6a1</td>\n",
       "      <td>1000</td>\n",
       "      <td>1453447188</td>\n",
       "    </tr>\n",
       "    <tr>\n",
       "      <th>9</th>\n",
       "      <td>641ddc183e4af1108919effa9c15c6a1</td>\n",
       "      <td>1202</td>\n",
       "      <td>1453447186</td>\n",
       "    </tr>\n",
       "    <tr>\n",
       "      <th>10</th>\n",
       "      <td>641ddc183e4af1108919effa9c15c6a1</td>\n",
       "      <td>1200</td>\n",
       "      <td>1453447188</td>\n",
       "    </tr>\n",
       "  </tbody>\n",
       "</table>\n",
       "</div>"
      ],
      "text/plain": [
       "                                   0     1           2\n",
       "6   641ddc183e4af1108919effa9c15c6a1  1000  1453446734\n",
       "7   641ddc183e4af1108919effa9c15c6a1  1000  1453446734\n",
       "8   641ddc183e4af1108919effa9c15c6a1  1000  1453447188\n",
       "9   641ddc183e4af1108919effa9c15c6a1  1202  1453447186\n",
       "10  641ddc183e4af1108919effa9c15c6a1  1200  1453447188"
      ]
     },
     "execution_count": 4,
     "metadata": {},
     "output_type": "execute_result"
    }
   ],
   "source": [
    "data_all.head()"
   ]
  },
  {
   "cell_type": "code",
   "execution_count": 6,
   "metadata": {
    "collapsed": false
   },
   "outputs": [],
   "source": [
    "data_all_grouped = data_all.groupby([0])"
   ]
  },
  {
   "cell_type": "code",
   "execution_count": 18,
   "metadata": {
    "collapsed": false
   },
   "outputs": [],
   "source": [
    "whole_dict_3 = {0:{}, 1:{}}\n",
    "# for each in data_all_grouped.groups:\n",
    "#     temp = data_all.loc[data_all_grouped.groups[each]]\n",
    "boundary = time_end - period\n",
    "#    temp = temp.filter(lambda x: x[2] > (boundary-period))\n",
    "#   temp[2].filter(lambda x: x > (boundary-period))\n",
    "for log in data_all.iterrows():\n",
    "    if log[1][0] not in whole_dict_3[0]:\n",
    "        whole_dict_3[0][log[1][0]] = []\n",
    "    if log[1][0] not in whole_dict_3[1]:\n",
    "        whole_dict_3[1][log[1][0]] = []\n",
    "    if log[1][2] > boundary:\n",
    "        whole_dict_3[1][log[1][0]].append((log[1][1], log[1][2]))\n",
    "    else:\n",
    "        whole_dict_3[0][log[1][0]].append((log[1][1], log[1][2]))\n"
   ]
  },
  {
   "cell_type": "code",
   "execution_count": null,
   "metadata": {
    "collapsed": false
   },
   "outputs": [],
   "source": []
  },
  {
   "cell_type": "code",
   "execution_count": null,
   "metadata": {
    "collapsed": true
   },
   "outputs": [],
   "source": []
  },
  {
   "cell_type": "code",
   "execution_count": null,
   "metadata": {
    "collapsed": true
   },
   "outputs": [],
   "source": []
  },
  {
   "cell_type": "code",
   "execution_count": 30,
   "metadata": {
    "collapsed": false
   },
   "outputs": [],
   "source": [
    "grouped = data_all.groupby([0])"
   ]
  },
  {
   "cell_type": "code",
   "execution_count": 39,
   "metadata": {
    "collapsed": false
   },
   "outputs": [],
   "source": [
    "duration = {}\n",
    "for each in grouped.groups:\n",
    "    idx = grouped.groups[each]\n",
    "    duration[each] = max(data_all.loc[idx][2]) - min(data_all.loc[idx][2])"
   ]
  },
  {
   "cell_type": "markdown",
   "metadata": {},
   "source": [
    "### log中每个uuid的活跃时间长度分布"
   ]
  },
  {
   "cell_type": "code",
   "execution_count": 40,
   "metadata": {
    "collapsed": true
   },
   "outputs": [],
   "source": [
    "dur = pd.DataFrame(duration.values())"
   ]
  },
  {
   "cell_type": "code",
   "execution_count": 42,
   "metadata": {
    "collapsed": true
   },
   "outputs": [],
   "source": [
    "%matplotlib inline"
   ]
  },
  {
   "cell_type": "code",
   "execution_count": 43,
   "metadata": {
    "collapsed": false,
    "scrolled": true
   },
   "outputs": [
    {
     "data": {
      "text/plain": [
       "array([[<matplotlib.axes._subplots.AxesSubplot object at 0x7fd9fd04fbd0>]], dtype=object)"
      ]
     },
     "execution_count": 43,
     "metadata": {},
     "output_type": "execute_result"
    },
    {
     "data": {
      "image/png": "[encoded data removed]",
      "text/plain": [
       "<matplotlib.figure.Figure at 0x7fd9fd04f350>"
      ]
     },
     "metadata": {},
     "output_type": "display_data"
    }
   ],
   "source": [
    "dur.hist()"
   ]
  },
  {
   "cell_type": "markdown",
   "metadata": {},
   "source": [
    "#### 活跃时间小于一天的分布"
   ]
  },
  {
   "cell_type": "code",
   "execution_count": 75,
   "metadata": {
    "collapsed": false
   },
   "outputs": [],
   "source": [
    "dur_zoom = pd.DataFrame(filter(lambda x: x>=0 and x<86400,duration.values()))"
   ]
  },
  {
   "cell_type": "code",
   "execution_count": 76,
   "metadata": {
    "collapsed": false,
    "scrolled": true
   },
   "outputs": [
    {
     "data": {
      "text/plain": [
       "array([[<matplotlib.axes._subplots.AxesSubplot object at 0x7fd9fc345dd0>]], dtype=object)"
      ]
     },
     "execution_count": 76,
     "metadata": {},
     "output_type": "execute_result"
    },
    {
     "data": {
      "image/png": "[encoded data removed]",
      "text/plain": [
       "<matplotlib.figure.Figure at 0x7fd9fc281b90>"
      ]
     },
     "metadata": {},
     "output_type": "display_data"
    }
   ],
   "source": [
    "dur_zoom.hist()"
   ]
  },
  {
   "cell_type": "markdown",
   "metadata": {},
   "source": [
    "#### 活跃时间大于一天的分布"
   ]
  },
  {
   "cell_type": "code",
   "execution_count": 77,
   "metadata": {
    "collapsed": true
   },
   "outputs": [],
   "source": [
    "dur_zoom = pd.DataFrame(filter(lambda x: x>=86400,duration.values()))"
   ]
  },
  {
   "cell_type": "code",
   "execution_count": 78,
   "metadata": {
    "collapsed": false,
    "scrolled": true
   },
   "outputs": [
    {
     "data": {
      "text/plain": [
       "array([[<matplotlib.axes._subplots.AxesSubplot object at 0x7fd9fc160910>]], dtype=object)"
      ]
     },
     "execution_count": 78,
     "metadata": {},
     "output_type": "execute_result"
    },
    {
     "data": {
      "image/png": "[encoded data removed]",
      "text/plain": [
       "<matplotlib.figure.Figure at 0x7fd9fc121b50>"
      ]
     },
     "metadata": {},
     "output_type": "display_data"
    }
   ],
   "source": [
    "dur_zoom.hist()"
   ]
  },
  {
   "cell_type": "markdown",
   "metadata": {},
   "source": [
    "#### 活跃时间大于三天的分布"
   ]
  },
  {
   "cell_type": "code",
   "execution_count": 81,
   "metadata": {
    "collapsed": true
   },
   "outputs": [],
   "source": [
    "dur_zoom = pd.DataFrame(filter(lambda x: x>=86400*3,duration.values()))"
   ]
  },
  {
   "cell_type": "code",
   "execution_count": 82,
   "metadata": {
    "collapsed": false
   },
   "outputs": [
    {
     "data": {
      "text/plain": [
       "array([[<matplotlib.axes._subplots.AxesSubplot object at 0x7fd9fbfdf490>]], dtype=object)"
      ]
     },
     "execution_count": 82,
     "metadata": {},
     "output_type": "execute_result"
    },
    {
     "data": {
      "image/png": "[encoded data removed]",
      "text/plain": [
       "<matplotlib.figure.Figure at 0x7fd9fbf6aa50>"
      ]
     },
     "metadata": {},
     "output_type": "display_data"
    }
   ],
   "source": [
    "dur_zoom.hist()"
   ]
  },
  {
   "cell_type": "markdown",
   "metadata": {},
   "source": [
    "#### 活跃时间大于七天的分布"
   ]
  },
  {
   "cell_type": "code",
   "execution_count": 79,
   "metadata": {
    "collapsed": true
   },
   "outputs": [],
   "source": [
    "dur_zoom = pd.DataFrame(filter(lambda x: x>=86400*7,duration.values()))"
   ]
  },
  {
   "cell_type": "code",
   "execution_count": 80,
   "metadata": {
    "collapsed": false,
    "scrolled": true
   },
   "outputs": [
    {
     "data": {
      "text/plain": [
       "array([[<matplotlib.axes._subplots.AxesSubplot object at 0x7fd9fc06ca90>]], dtype=object)"
      ]
     },
     "execution_count": 80,
     "metadata": {},
     "output_type": "execute_result"
    },
    {
     "data": {
      "image/png": "[encoded data removed]",
      "text/plain": [
       "<matplotlib.figure.Figure at 0x7fd9fc021790>"
      ]
     },
     "metadata": {},
     "output_type": "display_data"
    }
   ],
   "source": [
    "dur_zoom.hist()"
   ]
  },
  {
   "cell_type": "markdown",
   "metadata": {},
   "source": [
    "#### 活跃时间大于十四天的分布"
   ]
  },
  {
   "cell_type": "code",
   "execution_count": 87,
   "metadata": {
    "collapsed": true
   },
   "outputs": [],
   "source": [
    "dur_zoom = pd.DataFrame(filter(lambda x: x>=86400*14,duration.values()))"
   ]
  },
  {
   "cell_type": "code",
   "execution_count": 88,
   "metadata": {
    "collapsed": false
   },
   "outputs": [
    {
     "data": {
      "text/plain": [
       "array([[<matplotlib.axes._subplots.AxesSubplot object at 0x7fd9f17b7e90>]], dtype=object)"
      ]
     },
     "execution_count": 88,
     "metadata": {},
     "output_type": "execute_result"
    },
    {
     "data": {
      "image/png": "[encoded data removed]",
      "text/plain": [
       "<matplotlib.figure.Figure at 0x7fd9f16f3410>"
      ]
     },
     "metadata": {},
     "output_type": "display_data"
    }
   ],
   "source": [
    "dur_zoom.hist()"
   ]
  },
  {
   "cell_type": "markdown",
   "metadata": {},
   "source": [
    "#### 活跃时间大于三十天的分布"
   ]
  },
  {
   "cell_type": "code",
   "execution_count": 84,
   "metadata": {
    "collapsed": true
   },
   "outputs": [],
   "source": [
    "dur_zoom = pd.DataFrame(filter(lambda x: x>=86400*30,duration.values()))"
   ]
  },
  {
   "cell_type": "code",
   "execution_count": 85,
   "metadata": {
    "collapsed": false
   },
   "outputs": [
    {
     "data": {
      "text/plain": [
       "array([[<matplotlib.axes._subplots.AxesSubplot object at 0x7fd9fc021710>]], dtype=object)"
      ]
     },
     "execution_count": 85,
     "metadata": {},
     "output_type": "execute_result"
    },
    {
     "data": {
      "image/png": "[encoded data removed]",
      "text/plain": [
       "<matplotlib.figure.Figure at 0x7fd9f1855d50>"
      ]
     },
     "metadata": {},
     "output_type": "display_data"
    }
   ],
   "source": [
    "dur_zoom.hist()"
   ]
  },
  {
   "cell_type": "code",
   "execution_count": null,
   "metadata": {
    "collapsed": true
   },
   "outputs": [],
   "source": []
  },
  {
   "cell_type": "code",
   "execution_count": null,
   "metadata": {
    "collapsed": true
   },
   "outputs": [],
   "source": []
  },
  {
   "cell_type": "code",
   "execution_count": null,
   "metadata": {
    "collapsed": true
   },
   "outputs": [],
   "source": []
  },
  {
   "cell_type": "code",
   "execution_count": 39,
   "metadata": {
    "collapsed": false
   },
   "outputs": [],
   "source": [
    "for each in whole_dict_3[0].keys():\n",
    "    if len(whole_dict_3[0][each])<1:\n",
    "        del whole_dict_3[0][each]"
   ]
  },
  {
   "cell_type": "code",
   "execution_count": 40,
   "metadata": {
    "collapsed": false,
    "scrolled": true
   },
   "outputs": [
    {
     "data": {
      "text/plain": [
       "98999"
      ]
     },
     "execution_count": 40,
     "metadata": {},
     "output_type": "execute_result"
    }
   ],
   "source": [
    "len(whole_dict_3[0])"
   ]
  },
  {
   "cell_type": "code",
   "execution_count": 37,
   "metadata": {
    "collapsed": false
   },
   "outputs": [],
   "source": [
    "for each in whole_dict_3[0].keys():\n",
    "    boundary = max(map(lambda x: x[1], whole_dict_3[0][each])) - period\n",
    "    whole_dict_3[0][each] = filter(lambda x: x[1] >= boundary, whole_dict_3[0][each])"
   ]
  },
  {
   "cell_type": "code",
   "execution_count": 43,
   "metadata": {
    "collapsed": true
   },
   "outputs": [],
   "source": [
    "whole_dict_3_normalized = {0:{}, 1:{}}\n",
    "for each in whole_dict_3[0].keys():\n",
    "    boundary = max(map(lambda x: x[1], whole_dict_3[0][each]))\n",
    "    whole_dict_3_normalized[0][each] = map(lambda x: x[1]-boundary, whole_dict_3[0][each])"
   ]
  },
  {
   "cell_type": "code",
   "execution_count": 70,
   "metadata": {
    "collapsed": false
   },
   "outputs": [],
   "source": [
    "save_obj(whole_dict_3, 'whole_dict_3')"
   ]
  },
  {
   "cell_type": "code",
   "execution_count": 71,
   "metadata": {
    "collapsed": true
   },
   "outputs": [],
   "source": [
    "save_obj(whole_dict_3_normalized, 'whole_dict_3_normalized')"
   ]
  },
  {
   "cell_type": "code",
   "execution_count": null,
   "metadata": {
    "collapsed": true
   },
   "outputs": [],
   "source": []
  },
  {
   "cell_type": "code",
   "execution_count": null,
   "metadata": {
    "collapsed": true
   },
   "outputs": [],
   "source": []
  },
  {
   "cell_type": "code",
   "execution_count": null,
   "metadata": {
    "collapsed": true
   },
   "outputs": [],
   "source": []
  },
  {
   "cell_type": "code",
   "execution_count": null,
   "metadata": {
    "collapsed": true
   },
   "outputs": [],
   "source": []
  },
  {
   "cell_type": "code",
   "execution_count": 5,
   "metadata": {
    "collapsed": false
   },
   "outputs": [],
   "source": [
    "labels = {0:{}, 1:{}}\n",
    "#for each period\n",
    "\n",
    "for uuid in whole_dict[0]:\n",
    "    # check if the uuid appears in the next period, if yes-> stay; no-> churn\n",
    "    if uuid in whole_dict[1]:\n",
    "        labels[0][uuid] = 0\n",
    "    else:\n",
    "        labels[0][uuid] = 1"
   ]
  },
  {
   "cell_type": "code",
   "execution_count": 6,
   "metadata": {
    "collapsed": false,
    "scrolled": false
   },
   "outputs": [
    {
     "data": {
      "text/plain": [
       "89564"
      ]
     },
     "execution_count": 6,
     "metadata": {},
     "output_type": "execute_result"
    }
   ],
   "source": [
    "sum(labels[0].values())"
   ]
  },
  {
   "cell_type": "code",
   "execution_count": null,
   "metadata": {
    "collapsed": true
   },
   "outputs": [],
   "source": []
  },
  {
   "cell_type": "code",
   "execution_count": null,
   "metadata": {
    "collapsed": true
   },
   "outputs": [],
   "source": []
  },
  {
   "cell_type": "code",
   "execution_count": 2,
   "metadata": {
    "collapsed": true
   },
   "outputs": [],
   "source": [
    "whole_dict = load_obj('whole_dict_3')"
   ]
  },
  {
   "cell_type": "code",
   "execution_count": null,
   "metadata": {
    "collapsed": true
   },
   "outputs": [],
   "source": []
  },
  {
   "cell_type": "code",
   "execution_count": 7,
   "metadata": {
    "collapsed": false
   },
   "outputs": [],
   "source": [
    "features = []\n",
    "num_handcraft_feature = 71\n",
    "i = 0\n",
    "for uuid in whole_dict[i]:\n",
    "    row = np.zeros(len(eventids) + num_handcraft_feature)\n",
    "\n",
    "    # label\n",
    "    row[0] = labels[i][uuid]\n",
    "\n",
    "    times = []\n",
    "    for each in whole_dict[i][uuid]:\n",
    "        eid = each[0]\n",
    "        ts = each[1]\n",
    "        idx = eventids.index(eid)\n",
    "        # [0] - [len(eventid)] event feature\n",
    "        row[idx + 1] += 1\n",
    "        times.append(ts)\n",
    "\n",
    "    # add handcraft features here\n",
    "    \"\"\"time features\"\"\"\n",
    "    row[len(eventids) + 1] = max(times)\n",
    "    row[len(eventids) + 2] = min(times)\n",
    "    row[len(eventids) + 3] = max(times) - min(times)\n",
    "    row[len(eventids) + 4] = np.percentile(times, 50)\n",
    "    row[len(eventids) + 5] = np.std(times)\n",
    "    # idle span and more\n",
    "    row[len(eventids) + 6] = (time_start + period*(i+1)) - max(times)\n",
    "    row[len(eventids) + 7] = min(times) - (time_start + period*(i))\n",
    "    row[len(eventids) + 8] = (time_start + period*(i+1)) - np.percentile(times, 50)\n",
    "\n",
    "    # userbase integrated time features\n",
    "    try:\n",
    "        row[len(eventids) +  9] = max(times) - user_dict[uuid][10]\n",
    "        row[len(eventids) + 10] = max(times) - user_dict[uuid][11]\n",
    "        row[len(eventids) + 11] = max(times) - user_dict[uuid][13]\n",
    "        row[len(eventids) + 12] = min(times) - user_dict[uuid][10]\n",
    "        row[len(eventids) + 13] = min(times) - user_dict[uuid][11]\n",
    "        row[len(eventids) + 14] = min(times) - user_dict[uuid][13]\n",
    "        row[len(eventids) + 15] = np.percentile(times, 50) - user_dict[uuid][10]\n",
    "        row[len(eventids) + 16] = np.percentile(times, 50) - user_dict[uuid][11]\n",
    "        row[len(eventids) + 17] = np.percentile(times, 50) - user_dict[uuid][13]\n",
    "        row[len(eventids) + 18] = (time_start + period*(i+1)) - user_dict[uuid][10]\n",
    "        row[len(eventids) + 19] = (time_start + period*(i+1)) - user_dict[uuid][13]\n",
    "        row[len(eventids) + 20] = (time_start + period*(i)) - user_dict[uuid][11]\n",
    "    except:\n",
    "        row[len(eventids) + 9 : len(eventids) + 21] = np.nan\n",
    "\n",
    "    # expenditure integrated time features\n",
    "    try:\n",
    "        row[len(eventids) + 21] = max(times) - exp_dict[uuid][6]\n",
    "        row[len(eventids) + 22] = max(times) - exp_dict[uuid][7]\n",
    "        row[len(eventids) + 23] = max(times) - exp_dict[uuid][9]\n",
    "        row[len(eventids) + 24] = min(times) - exp_dict[uuid][6]\n",
    "        row[len(eventids) + 25] = min(times) - exp_dict[uuid][7]\n",
    "        row[len(eventids) + 26] = min(times) - exp_dict[uuid][9]\n",
    "        row[len(eventids) + 27] = np.percentile(times, 50) - user_dict[uuid][6]\n",
    "        row[len(eventids) + 28] = np.percentile(times, 50) - user_dict[uuid][7]\n",
    "        row[len(eventids) + 29] = np.percentile(times, 50) - user_dict[uuid][9]\n",
    "        row[len(eventids) + 30] = (time_start + period*(i+1)) - user_dict[uuid][6]\n",
    "        row[len(eventids) + 31] = (time_start + period*(i+1)) - user_dict[uuid][9]\n",
    "        row[len(eventids) + 32] = (time_start + period*(i)) - user_dict[uuid][7]\n",
    "    except:\n",
    "        row[len(eventids) + 21 : len(eventids) + 33] = np.nan\n",
    "\n",
    "    try:\n",
    "        row[len(eventids) + 33] = max(times) - exp_dict[uuid][18]\n",
    "        row[len(eventids) + 34] = max(times) - exp_dict[uuid][19]\n",
    "        row[len(eventids) + 35] = max(times) - exp_dict[uuid][21]\n",
    "        row[len(eventids) + 36] = max(times) - exp_dict[uuid][18]\n",
    "        row[len(eventids) + 37] = max(times) - exp_dict[uuid][19]\n",
    "        row[len(eventids) + 38] = max(times) - exp_dict[uuid][21]\n",
    "        row[len(eventids) + 39] = np.percentile(times, 50) - user_dict[uuid][18]\n",
    "        row[len(eventids) + 40] = np.percentile(times, 50) - user_dict[uuid][19]\n",
    "        row[len(eventids) + 41] = np.percentile(times, 50) - user_dict[uuid][21]\n",
    "        row[len(eventids) + 42] = (time_start + period*(i+1)) - user_dict[uuid][18]\n",
    "        row[len(eventids) + 43] = (time_start + period*(i+1)) - user_dict[uuid][21]\n",
    "        row[len(eventids) + 44] = (time_start + period*(i)) - user_dict[uuid][19]\n",
    "    except:\n",
    "        row[len(eventids) + 33 : len(eventids) + 45] = np.nan\n",
    "\n",
    "    try:\n",
    "        row[len(eventids) + 45] = max(times) - exp_dict[uuid][29]\n",
    "        row[len(eventids) + 46] = max(times) - exp_dict[uuid][30]\n",
    "        row[len(eventids) + 47] = max(times) - exp_dict[uuid][32]\n",
    "        row[len(eventids) + 48] = max(times) - exp_dict[uuid][29]\n",
    "        row[len(eventids) + 49] = max(times) - exp_dict[uuid][30]\n",
    "        row[len(eventids) + 50] = max(times) - exp_dict[uuid][32]\n",
    "        row[len(eventids) + 51] = np.percentile(times, 50) - user_dict[uuid][29]\n",
    "        row[len(eventids) + 52] = np.percentile(times, 50) - user_dict[uuid][30]\n",
    "        row[len(eventids) + 53] = np.percentile(times, 50) - user_dict[uuid][32]\n",
    "        row[len(eventids) + 54] = (time_start + period*(i+1)) - user_dict[uuid][29]\n",
    "        row[len(eventids) + 55] = (time_start + period*(i+1)) - user_dict[uuid][32]\n",
    "        row[len(eventids) + 56] = (time_start + period*(i)) - user_dict[uuid][30]\n",
    "    except:\n",
    "        row[len(eventids) + 45 : len(eventids) + 57] = np.nan\n",
    "\n",
    "    \"\"\"Event features\"\"\"\n",
    "    # [57+] #events\n",
    "    row[len(eventids) + 57] = len(whole_dict[i][uuid])\n",
    "    # break into 2 bins\n",
    "    row[len(eventids) + 58] = len(filter(lambda x: x[1] >= (time_start + period*(i)) and x[1] < (time_start + period*(i+0.5)), whole_dict[i][uuid]))\n",
    "    row[len(eventids) + 59] = len(filter(lambda x: x[1] >= (time_start + period*(i+0.5)) and x[1] < (time_start + period*(i+1)), whole_dict[i][uuid]))\n",
    "    # break into 4 bins\n",
    "    row[len(eventids) + 60] = len(filter(lambda x: x[1] >= (time_start + period*(i)) and x[1] < (time_start + period*(i+0.25)), whole_dict[i][uuid]))\n",
    "    row[len(eventids) + 61] = len(filter(lambda x: x[1] >= (time_start + period*(i+0.25)) and x[1] < (time_start + period*(i+0.5)), whole_dict[i][uuid]))\n",
    "    row[len(eventids) + 62] = len(filter(lambda x: x[1] >= (time_start + period*(i+0.5)) and x[1] < (time_start + period*(i+0.75)), whole_dict[i][uuid]))\n",
    "    row[len(eventids) + 63] = len(filter(lambda x: x[1] >= (time_start + period*(i+0.75)) and x[1] < (time_start + period*(i+1)), whole_dict[i][uuid]))\n",
    "    # break into 7 bins\n",
    "    row[len(eventids) + 64] = len(filter(lambda x: x[1] >= (time_start + period*(i)) and x[1] < (time_start + period*(i+1/7.0)), whole_dict[i][uuid]))\n",
    "    row[len(eventids) + 65] = len(filter(lambda x: x[1] >= (time_start + period*(i+1/7.0)) and x[1] < (time_start + period*(i+2/7.0)), whole_dict[i][uuid]))\n",
    "    row[len(eventids) + 66] = len(filter(lambda x: x[1] >= (time_start + period*(i+2/7.0)) and x[1] < (time_start + period*(i+3/7.0)), whole_dict[i][uuid]))\n",
    "    row[len(eventids) + 67] = len(filter(lambda x: x[1] >= (time_start + period*(i+3/7.0)) and x[1] < (time_start + period*(i+4/7.0)), whole_dict[i][uuid]))\n",
    "    row[len(eventids) + 68] = len(filter(lambda x: x[1] >= (time_start + period*(i+4/7.0)) and x[1] < (time_start + period*(i+5/7.0)), whole_dict[i][uuid]))\n",
    "    row[len(eventids) + 69] = len(filter(lambda x: x[1] >= (time_start + period*(i+5/7.0)) and x[1] < (time_start + period*(i+6/7.0)), whole_dict[i][uuid]))\n",
    "    row[len(eventids) + 70] = len(filter(lambda x: x[1] >= (time_start + period*(i+6/7.0)) and x[1] < (time_start + period*(i+1)), whole_dict[i][uuid]))\n",
    "\n",
    "    \"\"\"features.append(row)\"\"\"\n",
    "    features.append((uuid, row))"
   ]
  },
  {
   "cell_type": "code",
   "execution_count": null,
   "metadata": {
    "collapsed": true
   },
   "outputs": [],
   "source": []
  },
  {
   "cell_type": "code",
   "execution_count": null,
   "metadata": {
    "collapsed": true
   },
   "outputs": [],
   "source": []
  },
  {
   "cell_type": "code",
   "execution_count": null,
   "metadata": {
    "collapsed": true
   },
   "outputs": [],
   "source": []
  },
  {
   "cell_type": "code",
   "execution_count": null,
   "metadata": {
    "collapsed": true
   },
   "outputs": [],
   "source": []
  },
  {
   "cell_type": "code",
   "execution_count": null,
   "metadata": {
    "collapsed": true
   },
   "outputs": [],
   "source": []
  },
  {
   "cell_type": "code",
   "execution_count": null,
   "metadata": {
    "collapsed": true
   },
   "outputs": [],
   "source": []
  },
  {
   "cell_type": "code",
   "execution_count": 2,
   "metadata": {
    "collapsed": true
   },
   "outputs": [],
   "source": [
    "whole_dict = load_obj('whole_dict_2')"
   ]
  },
  {
   "cell_type": "code",
   "execution_count": 3,
   "metadata": {
    "collapsed": true
   },
   "outputs": [],
   "source": [
    "exp_dict = load_obj('expenditure_dict_2')"
   ]
  },
  {
   "cell_type": "code",
   "execution_count": 4,
   "metadata": {
    "collapsed": false
   },
   "outputs": [],
   "source": [
    "user_dict = load_obj('userbase_dict_2')"
   ]
  },
  {
   "cell_type": "code",
   "execution_count": 57,
   "metadata": {
    "collapsed": false
   },
   "outputs": [
    {
     "data": {
      "text/plain": [
       "[0, 1, 2, 3, 4, 5, 6, 7, 8, 9, 10, 11]"
      ]
     },
     "execution_count": 57,
     "metadata": {},
     "output_type": "execute_result"
    }
   ],
   "source": [
    "range(n_period - 1)"
   ]
  },
  {
   "cell_type": "code",
   "execution_count": 5,
   "metadata": {
    "collapsed": true
   },
   "outputs": [],
   "source": [
    "def get_labels(whole_dict):\n",
    "\n",
    "    # creating labels for churn = 1, stay = 0\n",
    "    labels = {i : {} for i in range(n_period)}\n",
    "    #for each period\n",
    "    for i in range(n_period - 1):\n",
    "        # for each uuid\n",
    "        for uuid in whole_dict[i]:\n",
    "            # check if the uuid appears in the next period, if yes-> stay; no-> churn\n",
    "            if uuid in whole_dict[i + 1]:\n",
    "                labels[i][uuid] = 0\n",
    "            else:\n",
    "                labels[i][uuid] = 1\n",
    "\n",
    "    return labels"
   ]
  },
  {
   "cell_type": "code",
   "execution_count": 6,
   "metadata": {
    "collapsed": false
   },
   "outputs": [],
   "source": [
    "labels = get_labels(whole_dict)"
   ]
  },
  {
   "cell_type": "code",
   "execution_count": 7,
   "metadata": {
    "collapsed": false
   },
   "outputs": [],
   "source": [
    "eventids = get_eventids('/data/yulun/timeline/timeline_event_gpapp.txt')"
   ]
  },
  {
   "cell_type": "code",
   "execution_count": 62,
   "metadata": {
    "collapsed": false,
    "scrolled": true
   },
   "outputs": [
    {
     "data": {
      "text/plain": [
       "199"
      ]
     },
     "execution_count": 62,
     "metadata": {},
     "output_type": "execute_result"
    }
   ],
   "source": [
    "len(eventids)"
   ]
  },
  {
   "cell_type": "code",
   "execution_count": 131,
   "metadata": {
    "collapsed": false
   },
   "outputs": [
    {
     "data": {
      "text/plain": [
       "13"
      ]
     },
     "execution_count": 131,
     "metadata": {},
     "output_type": "execute_result"
    }
   ],
   "source": [
    "len(whole_dict)"
   ]
  },
  {
   "cell_type": "code",
   "execution_count": null,
   "metadata": {
    "collapsed": true
   },
   "outputs": [],
   "source": []
  },
  {
   "cell_type": "code",
   "execution_count": 48,
   "metadata": {
    "collapsed": false
   },
   "outputs": [
    {
     "ename": "KeyError",
     "evalue": "'56f5d9f4dd4b4323b0e041149e36a5c2'",
     "output_type": "error",
     "traceback": [
      "\u001b[1;31m---------------------------------------------------------------------------\u001b[0m",
      "\u001b[1;31mKeyError\u001b[0m                                  Traceback (most recent call last)",
      "\u001b[1;32m<ipython-input-48-74efb999443b>\u001b[0m in \u001b[0;36m<module>\u001b[1;34m()\u001b[0m\n\u001b[0;32m      6\u001b[0m \u001b[1;33m\u001b[0m\u001b[0m\n\u001b[0;32m      7\u001b[0m         \u001b[1;31m# label\u001b[0m\u001b[1;33m\u001b[0m\u001b[1;33m\u001b[0m\u001b[0m\n\u001b[1;32m----> 8\u001b[1;33m         \u001b[0mrow\u001b[0m\u001b[1;33m[\u001b[0m\u001b[1;36m0\u001b[0m\u001b[1;33m]\u001b[0m \u001b[1;33m=\u001b[0m \u001b[0mlabels\u001b[0m\u001b[1;33m[\u001b[0m\u001b[0mi\u001b[0m\u001b[1;33m]\u001b[0m\u001b[1;33m[\u001b[0m\u001b[0muuid\u001b[0m\u001b[1;33m]\u001b[0m\u001b[1;33m\u001b[0m\u001b[0m\n\u001b[0m\u001b[0;32m      9\u001b[0m \u001b[1;33m\u001b[0m\u001b[0m\n\u001b[0;32m     10\u001b[0m         \u001b[0mtimes\u001b[0m \u001b[1;33m=\u001b[0m \u001b[1;33m[\u001b[0m\u001b[1;33m]\u001b[0m\u001b[1;33m\u001b[0m\u001b[0m\n",
      "\u001b[1;31mKeyError\u001b[0m: '56f5d9f4dd4b4323b0e041149e36a5c2'"
     ]
    }
   ],
   "source": [
    "features = []\n",
    "num_handcraft_feature = 71\n",
    "for i in range(n_period - 2):\n",
    "    for uuid in whole_dict[i]:\n",
    "        row = np.zeros(len(eventids) + num_handcraft_feature)\n",
    "\n",
    "        # label\n",
    "        row[0] = labels[i][uuid]\n",
    "\n",
    "        times = []\n",
    "        for each in whole_dict[i][uuid]:\n",
    "            eid = each[0]\n",
    "            ts = each[1]\n",
    "            idx = eventids.index(eid)\n",
    "            # [0] - [len(eventid)] event feature\n",
    "            row[idx + 1] += 1\n",
    "            times.append(ts)\n",
    "\n",
    "        # add handcraft features here\n",
    "        \"\"\"time features\"\"\"\n",
    "        row[len(eventids) + 1] = max(times)\n",
    "        row[len(eventids) + 2] = min(times)\n",
    "        row[len(eventids) + 3] = max(times) - min(times)\n",
    "        row[len(eventids) + 4] = np.percentile(times, 50)\n",
    "        row[len(eventids) + 5] = np.std(times)\n",
    "        # idle span and more\n",
    "        row[len(eventids) + 6] = (time_start + period*(i+1)) - max(times)\n",
    "        row[len(eventids) + 7] = min(times) - (time_start + period*(i))\n",
    "        row[len(eventids) + 8] = (time_start + period*(i+1)) - np.percentile(times, 50)\n",
    "\n",
    "        # userbase integrated time features\n",
    "        try:\n",
    "            row[len(eventids) +  9] = max(times) - user_dict[uuid][10]\n",
    "            row[len(eventids) + 10] = max(times) - user_dict[uuid][11]\n",
    "            row[len(eventids) + 11] = max(times) - user_dict[uuid][13]\n",
    "            row[len(eventids) + 12] = min(times) - user_dict[uuid][10]\n",
    "            row[len(eventids) + 13] = min(times) - user_dict[uuid][11]\n",
    "            row[len(eventids) + 14] = min(times) - user_dict[uuid][13]\n",
    "            row[len(eventids) + 15] = np.percentile(times, 50) - user_dict[uuid][10]\n",
    "            row[len(eventids) + 16] = np.percentile(times, 50) - user_dict[uuid][11]\n",
    "            row[len(eventids) + 17] = np.percentile(times, 50) - user_dict[uuid][13]\n",
    "            row[len(eventids) + 18] = (time_start + period*(i+1)) - user_dict[uuid][10]\n",
    "            row[len(eventids) + 19] = (time_start + period*(i+1)) - user_dict[uuid][13]\n",
    "            row[len(eventids) + 20] = (time_start + period*(i)) - user_dict[uuid][11]\n",
    "        except:\n",
    "            row[len(eventids) + 9 : len(eventids) + 21] = np.nan\n",
    "\n",
    "        # expenditure integrated time features\n",
    "        try:\n",
    "            row[len(eventids) + 21] = max(times) - exp_dict[uuid][6]\n",
    "            row[len(eventids) + 22] = max(times) - exp_dict[uuid][7]\n",
    "            row[len(eventids) + 23] = max(times) - exp_dict[uuid][9]\n",
    "            row[len(eventids) + 24] = min(times) - exp_dict[uuid][6]\n",
    "            row[len(eventids) + 25] = min(times) - exp_dict[uuid][7]\n",
    "            row[len(eventids) + 26] = min(times) - exp_dict[uuid][9]\n",
    "            row[len(eventids) + 27] = np.percentile(times, 50) - user_dict[uuid][6]\n",
    "            row[len(eventids) + 28] = np.percentile(times, 50) - user_dict[uuid][7]\n",
    "            row[len(eventids) + 29] = np.percentile(times, 50) - user_dict[uuid][9]\n",
    "            row[len(eventids) + 30] = (time_start + period*(i+1)) - user_dict[uuid][6]\n",
    "            row[len(eventids) + 31] = (time_start + period*(i+1)) - user_dict[uuid][9]\n",
    "            row[len(eventids) + 32] = (time_start + period*(i)) - user_dict[uuid][7]\n",
    "        except:\n",
    "            row[len(eventids) + 21 : len(eventids) + 33] = np.nan\n",
    "\n",
    "        try:\n",
    "            row[len(eventids) + 33] = max(times) - exp_dict[uuid][18]\n",
    "            row[len(eventids) + 34] = max(times) - exp_dict[uuid][19]\n",
    "            row[len(eventids) + 35] = max(times) - exp_dict[uuid][21]\n",
    "            row[len(eventids) + 36] = max(times) - exp_dict[uuid][18]\n",
    "            row[len(eventids) + 37] = max(times) - exp_dict[uuid][19]\n",
    "            row[len(eventids) + 38] = max(times) - exp_dict[uuid][21]\n",
    "            row[len(eventids) + 39] = np.percentile(times, 50) - user_dict[uuid][18]\n",
    "            row[len(eventids) + 40] = np.percentile(times, 50) - user_dict[uuid][19]\n",
    "            row[len(eventids) + 41] = np.percentile(times, 50) - user_dict[uuid][21]\n",
    "            row[len(eventids) + 42] = (time_start + period*(i+1)) - user_dict[uuid][18]\n",
    "            row[len(eventids) + 43] = (time_start + period*(i+1)) - user_dict[uuid][21]\n",
    "            row[len(eventids) + 44] = (time_start + period*(i)) - user_dict[uuid][19]\n",
    "        except:\n",
    "            row[len(eventids) + 33 : len(eventids) + 45] = np.nan\n",
    "\n",
    "        try:\n",
    "            row[len(eventids) + 45] = max(times) - exp_dict[uuid][29]\n",
    "            row[len(eventids) + 46] = max(times) - exp_dict[uuid][30]\n",
    "            row[len(eventids) + 47] = max(times) - exp_dict[uuid][32]\n",
    "            row[len(eventids) + 48] = max(times) - exp_dict[uuid][29]\n",
    "            row[len(eventids) + 49] = max(times) - exp_dict[uuid][30]\n",
    "            row[len(eventids) + 50] = max(times) - exp_dict[uuid][32]\n",
    "            row[len(eventids) + 51] = np.percentile(times, 50) - user_dict[uuid][29]\n",
    "            row[len(eventids) + 52] = np.percentile(times, 50) - user_dict[uuid][30]\n",
    "            row[len(eventids) + 53] = np.percentile(times, 50) - user_dict[uuid][32]\n",
    "            row[len(eventids) + 54] = (time_start + period*(i+1)) - user_dict[uuid][29]\n",
    "            row[len(eventids) + 55] = (time_start + period*(i+1)) - user_dict[uuid][32]\n",
    "            row[len(eventids) + 56] = (time_start + period*(i)) - user_dict[uuid][30]\n",
    "        except:\n",
    "            row[len(eventids) + 45 : len(eventids) + 57] = np.nan\n",
    "\n",
    "        \"\"\"Event features\"\"\"\n",
    "        # [57+] #events\n",
    "        row[len(eventids) + 57] = len(whole_dict[i][uuid])\n",
    "        # break into 2 bins\n",
    "        row[len(eventids) + 58] = len(filter(lambda x: x[1] >= (time_start + period*(i)) and x[1] < (time_start + period*(i+0.5)), whole_dict[i][uuid]))\n",
    "        row[len(eventids) + 59] = len(filter(lambda x: x[1] >= (time_start + period*(i+0.5)) and x[1] < (time_start + period*(i+1)), whole_dict[i][uuid]))\n",
    "        # break into 4 bins\n",
    "        row[len(eventids) + 60] = len(filter(lambda x: x[1] >= (time_start + period*(i)) and x[1] < (time_start + period*(i+0.25)), whole_dict[i][uuid]))\n",
    "        row[len(eventids) + 61] = len(filter(lambda x: x[1] >= (time_start + period*(i+0.25)) and x[1] < (time_start + period*(i+0.5)), whole_dict[i][uuid]))\n",
    "        row[len(eventids) + 62] = len(filter(lambda x: x[1] >= (time_start + period*(i+0.5)) and x[1] < (time_start + period*(i+0.75)), whole_dict[i][uuid]))\n",
    "        row[len(eventids) + 63] = len(filter(lambda x: x[1] >= (time_start + period*(i+0.75)) and x[1] < (time_start + period*(i+1)), whole_dict[i][uuid]))\n",
    "        # break into 7 bins\n",
    "        row[len(eventids) + 64] = len(filter(lambda x: x[1] >= (time_start + period*(i)) and x[1] < (time_start + period*(i+1/7.0)), whole_dict[i][uuid]))\n",
    "        row[len(eventids) + 65] = len(filter(lambda x: x[1] >= (time_start + period*(i+1/7.0)) and x[1] < (time_start + period*(i+2/7.0)), whole_dict[i][uuid]))\n",
    "        row[len(eventids) + 66] = len(filter(lambda x: x[1] >= (time_start + period*(i+2/7.0)) and x[1] < (time_start + period*(i+3/7.0)), whole_dict[i][uuid]))\n",
    "        row[len(eventids) + 67] = len(filter(lambda x: x[1] >= (time_start + period*(i+3/7.0)) and x[1] < (time_start + period*(i+4/7.0)), whole_dict[i][uuid]))\n",
    "        row[len(eventids) + 68] = len(filter(lambda x: x[1] >= (time_start + period*(i+4/7.0)) and x[1] < (time_start + period*(i+5/7.0)), whole_dict[i][uuid]))\n",
    "        row[len(eventids) + 69] = len(filter(lambda x: x[1] >= (time_start + period*(i+5/7.0)) and x[1] < (time_start + period*(i+6/7.0)), whole_dict[i][uuid]))\n",
    "        row[len(eventids) + 70] = len(filter(lambda x: x[1] >= (time_start + period*(i+6/7.0)) and x[1] < (time_start + period*(i+1)), whole_dict[i][uuid]))\n",
    "\n",
    "        \"\"\"features.append(row)\"\"\"\n",
    "        features.append((uuid, row))"
   ]
  },
  {
   "cell_type": "code",
   "execution_count": 10,
   "metadata": {
    "collapsed": false
   },
   "outputs": [
    {
     "name": "stdout",
     "output_type": "stream",
     "text": [
      "2016-07-28 15:29:12.799213\n"
     ]
    }
   ],
   "source": [
    "import datetime\n",
    "print datetime.datetime.now()"
   ]
  },
  {
   "cell_type": "code",
   "execution_count": 11,
   "metadata": {
    "collapsed": false
   },
   "outputs": [
    {
     "data": {
      "text/plain": [
       "270"
      ]
     },
     "execution_count": 11,
     "metadata": {},
     "output_type": "execute_result"
    }
   ],
   "source": [
    "len(features[0][1])"
   ]
  },
  {
   "cell_type": "code",
   "execution_count": 54,
   "metadata": {
    "collapsed": false
   },
   "outputs": [
    {
     "data": {
      "text/plain": [
       "144"
      ]
     },
     "execution_count": 54,
     "metadata": {},
     "output_type": "execute_result"
    }
   ],
   "source": [
    "len(user_dict['3a5ff05feea2f8ae5e888f7d34c02be7'])"
   ]
  },
  {
   "cell_type": "code",
   "execution_count": 55,
   "metadata": {
    "collapsed": false
   },
   "outputs": [
    {
     "data": {
      "text/plain": [
       "34"
      ]
     },
     "execution_count": 55,
     "metadata": {},
     "output_type": "execute_result"
    }
   ],
   "source": [
    "len(exp_dict['3a5ff05feea2f8ae5e888f7d34c02be7'])"
   ]
  },
  {
   "cell_type": "code",
   "execution_count": 11,
   "metadata": {
    "collapsed": false,
    "scrolled": true
   },
   "outputs": [],
   "source": [
    "    ret = []\n",
    "    for each in features:\n",
    "        temp = each[1].tolist()\n",
    "        if each[0] in user_dict:\n",
    "            temp += user_dict[each[0]]\n",
    "        else:\n",
    "            temp += ([np.nan]*144)\n",
    "        if each[0] in exp_dict:\n",
    "            temp += exp_dict[each[0]]\n",
    "        else:\n",
    "            temp += ([np.nan]*34)\n",
    "        ret.append(temp)"
   ]
  },
  {
   "cell_type": "code",
   "execution_count": 12,
   "metadata": {
    "collapsed": false
   },
   "outputs": [
    {
     "data": {
      "text/plain": [
       "98999"
      ]
     },
     "execution_count": 12,
     "metadata": {},
     "output_type": "execute_result"
    }
   ],
   "source": [
    "len(ret)"
   ]
  },
  {
   "cell_type": "code",
   "execution_count": 61,
   "metadata": {
    "collapsed": true
   },
   "outputs": [],
   "source": [
    "del user_dict\n",
    "del whole_dict\n",
    "del exp_dict\n",
    "del ret\n",
    "del features"
   ]
  },
  {
   "cell_type": "code",
   "execution_count": 65,
   "metadata": {
    "collapsed": true
   },
   "outputs": [],
   "source": [
    "del whole_dict"
   ]
  },
  {
   "cell_type": "code",
   "execution_count": 62,
   "metadata": {
    "collapsed": true
   },
   "outputs": [],
   "source": [
    "del exp_dict"
   ]
  },
  {
   "cell_type": "code",
   "execution_count": 63,
   "metadata": {
    "collapsed": true
   },
   "outputs": [],
   "source": [
    "del ret"
   ]
  },
  {
   "cell_type": "code",
   "execution_count": 67,
   "metadata": {
    "collapsed": true
   },
   "outputs": [],
   "source": [
    "del features"
   ]
  },
  {
   "cell_type": "code",
   "execution_count": 13,
   "metadata": {
    "collapsed": false
   },
   "outputs": [],
   "source": [
    "final = pd.DataFrame(ret)"
   ]
  },
  {
   "cell_type": "code",
   "execution_count": 26,
   "metadata": {
    "collapsed": false
   },
   "outputs": [],
   "source": [
    "save_obj(final, 'final')"
   ]
  },
  {
   "cell_type": "code",
   "execution_count": 118,
   "metadata": {
    "collapsed": false
   },
   "outputs": [
    {
     "data": {
      "text/plain": [
       "150082"
      ]
     },
     "execution_count": 118,
     "metadata": {},
     "output_type": "execute_result"
    }
   ],
   "source": [
    "len(ret)"
   ]
  },
  {
   "cell_type": "code",
   "execution_count": null,
   "metadata": {
    "collapsed": false
   },
   "outputs": [],
   "source": []
  },
  {
   "cell_type": "markdown",
   "metadata": {
    "collapsed": true
   },
   "source": [
    "# ML stuffs start from here"
   ]
  },
  {
   "cell_type": "code",
   "execution_count": 3,
   "metadata": {
    "collapsed": false
   },
   "outputs": [],
   "source": [
    "final = load_obj('final')"
   ]
  },
  {
   "cell_type": "code",
   "execution_count": null,
   "metadata": {
    "collapsed": false
   },
   "outputs": [],
   "source": []
  },
  {
   "cell_type": "code",
   "execution_count": null,
   "metadata": {
    "collapsed": false
   },
   "outputs": [],
   "source": []
  },
  {
   "cell_type": "code",
   "execution_count": 14,
   "metadata": {
    "collapsed": false
   },
   "outputs": [],
   "source": [
    "final[274] = final[274].map(lambda x: ['None', '0', '1', '2'].index(x) if x in ['None', '0', '1', '2'] else 0)"
   ]
  },
  {
   "cell_type": "code",
   "execution_count": 15,
   "metadata": {
    "collapsed": true
   },
   "outputs": [],
   "source": [
    "final[276] = final[276].map(lambda x: [ '0', '102', '101'].index(x) if x in [ '0', '102', '101'] else 1)"
   ]
  },
  {
   "cell_type": "code",
   "execution_count": 54,
   "metadata": {
    "collapsed": false
   },
   "outputs": [
    {
     "data": {
      "text/plain": [
       "100     20146\n",
       "9689     2695\n",
       "1891     1014\n",
       "144       737\n",
       "9683      663\n",
       "Name: 278, dtype: int64"
      ]
     },
     "execution_count": 54,
     "metadata": {},
     "output_type": "execute_result"
    }
   ],
   "source": [
    "final[278].value_counts().head()\n",
    "#col278 = final[278].map(lambda x: cleaning_filter(x, [ '0', '102', '101'], '102'))"
   ]
  },
  {
   "cell_type": "code",
   "execution_count": 69,
   "metadata": {
    "collapsed": false
   },
   "outputs": [
    {
     "data": {
      "text/plain": [
       "(98999, 448)"
      ]
     },
     "execution_count": 69,
     "metadata": {},
     "output_type": "execute_result"
    }
   ],
   "source": [
    "final.shape"
   ]
  },
  {
   "cell_type": "code",
   "execution_count": null,
   "metadata": {
    "collapsed": false
   },
   "outputs": [],
   "source": []
  },
  {
   "cell_type": "code",
   "execution_count": null,
   "metadata": {
    "collapsed": false
   },
   "outputs": [],
   "source": []
  },
  {
   "cell_type": "code",
   "execution_count": null,
   "metadata": {
    "collapsed": true
   },
   "outputs": [],
   "source": []
  },
  {
   "cell_type": "code",
   "execution_count": 16,
   "metadata": {
    "collapsed": true
   },
   "outputs": [],
   "source": [
    "indices = range(1, final.shape[1])"
   ]
  },
  {
   "cell_type": "code",
   "execution_count": 8,
   "metadata": {
    "collapsed": true
   },
   "outputs": [],
   "source": [
    "indices = range(1, 270)"
   ]
  },
  {
   "cell_type": "code",
   "execution_count": 9,
   "metadata": {
    "collapsed": true
   },
   "outputs": [],
   "source": [
    "#del indices[278]"
   ]
  },
  {
   "cell_type": "code",
   "execution_count": 17,
   "metadata": {
    "collapsed": true
   },
   "outputs": [],
   "source": [
    "data = final[indices]\n",
    "target = final[0]"
   ]
  },
  {
   "cell_type": "code",
   "execution_count": 18,
   "metadata": {
    "collapsed": true
   },
   "outputs": [],
   "source": [
    "from sklearn.preprocessing import Imputer"
   ]
  },
  {
   "cell_type": "code",
   "execution_count": 19,
   "metadata": {
    "collapsed": true
   },
   "outputs": [],
   "source": [
    "imputer = Imputer()"
   ]
  },
  {
   "cell_type": "code",
   "execution_count": 20,
   "metadata": {
    "collapsed": false
   },
   "outputs": [],
   "source": [
    "data = imputer.fit_transform(data)"
   ]
  },
  {
   "cell_type": "code",
   "execution_count": null,
   "metadata": {
    "collapsed": false
   },
   "outputs": [],
   "source": []
  },
  {
   "cell_type": "markdown",
   "metadata": {},
   "source": [
    "## no windows"
   ]
  },
  {
   "cell_type": "code",
   "execution_count": 21,
   "metadata": {
    "collapsed": true
   },
   "outputs": [],
   "source": [
    "X_train, X_test, y_train, y_test = cross_validation.train_test_split(data, target, test_size=0.4, random_state=0)"
   ]
  },
  {
   "cell_type": "code",
   "execution_count": 22,
   "metadata": {
    "collapsed": true
   },
   "outputs": [],
   "source": [
    "clf = GradientBoostingClassifier(learning_rate = 0.15, loss='exponential', n_estimators = 300, max_features=250).fit(X_train, y_train)\n",
    "y_pred = clf.predict(X_test)"
   ]
  },
  {
   "cell_type": "code",
   "execution_count": 23,
   "metadata": {
    "collapsed": false
   },
   "outputs": [
    {
     "name": "stdout",
     "output_type": "stream",
     "text": [
      "Below are the accuracy, AUC, F1 score, precision, and recall: \n",
      "0.932878787879\n",
      "0.719109538231\n",
      "0.96365674907\n",
      "0.945404303268\n",
      "0.982627851207\n",
      "Confusion Matrix: \n",
      "[[ 1703  2035]\n",
      " [  623 35239]]\n",
      "false positive: 2035\n",
      "false negative: 623\n"
     ]
    }
   ],
   "source": [
    "# Evaluation\n",
    "print \"Below are the accuracy, AUC, F1 score, precision, and recall: \"\n",
    "print clf.score(X_test, y_test)\n",
    "print roc_auc_score(y_test, y_pred)\n",
    "print f1_score(y_test, y_pred)\n",
    "print precision_score(y_test, y_pred)\n",
    "print recall_score(y_test, y_pred)\n",
    "\n",
    "print \"Confusion Matrix: \"\n",
    "cm = confusion_matrix(y_test, y_pred)\n",
    "print cm\n",
    "#false positive\n",
    "print 'false positive: ' + str(cm[0][1])\n",
    "#false negative\n",
    "print 'false negative: ' + str(cm[1][0])"
   ]
  },
  {
   "cell_type": "code",
   "execution_count": 27,
   "metadata": {
    "collapsed": false
   },
   "outputs": [
    {
     "data": {
      "text/plain": [
       "0.90469600703037401"
      ]
     },
     "execution_count": 27,
     "metadata": {},
     "output_type": "execute_result"
    }
   ],
   "source": [
    "sum(target)/len(target)"
   ]
  },
  {
   "cell_type": "code",
   "execution_count": null,
   "metadata": {
    "collapsed": true
   },
   "outputs": [],
   "source": []
  },
  {
   "cell_type": "code",
   "execution_count": null,
   "metadata": {
    "collapsed": true
   },
   "outputs": [],
   "source": []
  },
  {
   "cell_type": "markdown",
   "metadata": {
    "collapsed": true
   },
   "source": [
    "### First look"
   ]
  },
  {
   "cell_type": "code",
   "execution_count": 109,
   "metadata": {
    "collapsed": false
   },
   "outputs": [
    {
     "data": {
      "text/plain": [
       "0.69447801723461366"
      ]
     },
     "execution_count": 109,
     "metadata": {},
     "output_type": "execute_result"
    }
   ],
   "source": [
    "sum(target)/len(target)"
   ]
  },
  {
   "cell_type": "code",
   "execution_count": null,
   "metadata": {
    "collapsed": true
   },
   "outputs": [],
   "source": []
  },
  {
   "cell_type": "code",
   "execution_count": null,
   "metadata": {
    "collapsed": true
   },
   "outputs": [],
   "source": []
  },
  {
   "cell_type": "code",
   "execution_count": 42,
   "metadata": {
    "collapsed": true
   },
   "outputs": [],
   "source": [
    "del final"
   ]
  },
  {
   "cell_type": "code",
   "execution_count": 14,
   "metadata": {
    "collapsed": false
   },
   "outputs": [],
   "source": [
    "X_train, X_test, y_train, y_test = cross_validation.train_test_split(data, target, test_size=0.4, random_state=0)"
   ]
  },
  {
   "cell_type": "code",
   "execution_count": 15,
   "metadata": {
    "collapsed": false
   },
   "outputs": [],
   "source": [
    "clf = GradientBoostingClassifier(learning_rate = 0.15, loss='exponential', n_estimators = 300, max_features=250).fit(X_train, y_train)\n",
    "y_pred = clf.predict(X_test)"
   ]
  },
  {
   "cell_type": "code",
   "execution_count": 37,
   "metadata": {
    "collapsed": false
   },
   "outputs": [
    {
     "name": "stdout",
     "output_type": "stream",
     "text": [
      "Below are the accuracy, AUC, F1 score, precision, and recall: \n",
      "0.812882593\n",
      "0.752330461525\n",
      "0.870658439005\n",
      "0.834672491354\n",
      "0.909887181813\n",
      "Confusion Matrix: \n",
      "[[ 9332  6358]\n",
      " [ 3179 32099]]\n",
      "false positive: 6358\n",
      "false negative: 3179\n"
     ]
    }
   ],
   "source": [
    "# Evaluation\n",
    "print \"Below are the accuracy, AUC, F1 score, precision, and recall: \"\n",
    "print clf.score(X_test, y_test)\n",
    "print roc_auc_score(y_test, y_pred)\n",
    "print f1_score(y_test, y_pred)\n",
    "print precision_score(y_test, y_pred)\n",
    "print recall_score(y_test, y_pred)\n",
    "\n",
    "print \"Confusion Matrix: \"\n",
    "cm = confusion_matrix(y_test, y_pred)\n",
    "print cm\n",
    "#false positive\n",
    "print 'false positive: ' + str(cm[0][1])\n",
    "#false negative\n",
    "print 'false negative: ' + str(cm[1][0])"
   ]
  },
  {
   "cell_type": "code",
   "execution_count": 92,
   "metadata": {
    "collapsed": false
   },
   "outputs": [
    {
     "name": "stdout",
     "output_type": "stream",
     "text": [
      "Below are the accuracy, AUC, F1 score, precision, and recall: \n",
      "0.811391461309\n",
      "0.750050091071\n",
      "0.869733721797\n",
      "0.83316457668\n",
      "0.909660411588\n",
      "Confusion Matrix: \n",
      "[[ 9264  6426]\n",
      " [ 3187 32091]]\n",
      "false positive: 6426\n",
      "false negative: 3187\n"
     ]
    }
   ],
   "source": [
    "# Evaluation\n",
    "print \"Below are the accuracy, AUC, F1 score, precision, and recall: \"\n",
    "print clf.score(X_test, y_test)\n",
    "print roc_auc_score(y_test, y_pred)\n",
    "print f1_score(y_test, y_pred)\n",
    "print precision_score(y_test, y_pred)\n",
    "print recall_score(y_test, y_pred)\n",
    "\n",
    "print \"Confusion Matrix: \"\n",
    "cm = confusion_matrix(y_test, y_pred)\n",
    "print cm\n",
    "#false positive\n",
    "print 'false positive: ' + str(cm[0][1])\n",
    "#false negative\n",
    "print 'false negative: ' + str(cm[1][0])"
   ]
  },
  {
   "cell_type": "code",
   "execution_count": null,
   "metadata": {
    "collapsed": false
   },
   "outputs": [],
   "source": []
  },
  {
   "cell_type": "markdown",
   "metadata": {},
   "source": [
    "### Feature selection"
   ]
  },
  {
   "cell_type": "code",
   "execution_count": 22,
   "metadata": {
    "collapsed": false
   },
   "outputs": [],
   "source": [
    "from sklearn.feature_selection import f_classif\n",
    "from sklearn.feature_selection import chi2\n",
    "from sklearn.feature_selection import SelectKBest"
   ]
  },
  {
   "cell_type": "code",
   "execution_count": 23,
   "metadata": {
    "collapsed": false
   },
   "outputs": [
    {
     "name": "stderr",
     "output_type": "stream",
     "text": [
      "/usr/local/lib/python2.7/site-packages/sklearn/feature_selection/univariate_selection.py:113: UserWarning: Features [275 276 277 278 279 281 291 309 336 350 396] are constant.\n",
      "  UserWarning)\n"
     ]
    }
   ],
   "source": [
    "score = f_classif(data, target)"
   ]
  },
  {
   "cell_type": "code",
   "execution_count": 24,
   "metadata": {
    "collapsed": false
   },
   "outputs": [],
   "source": [
    "select = SelectKBest(f_classif, k = 300)\n",
    "data2 = select.fit_transform(data, target)\n",
    "X_train, X_test, y_train, y_test = cross_validation.train_test_split(data2, target, test_size=0.4, random_state=0)"
   ]
  },
  {
   "cell_type": "code",
   "execution_count": null,
   "metadata": {
    "collapsed": true
   },
   "outputs": [],
   "source": []
  },
  {
   "cell_type": "code",
   "execution_count": null,
   "metadata": {
    "collapsed": false
   },
   "outputs": [],
   "source": []
  },
  {
   "cell_type": "code",
   "execution_count": null,
   "metadata": {
    "collapsed": true
   },
   "outputs": [],
   "source": []
  },
  {
   "cell_type": "code",
   "execution_count": null,
   "metadata": {
    "collapsed": true
   },
   "outputs": [],
   "source": []
  },
  {
   "cell_type": "code",
   "execution_count": 25,
   "metadata": {
    "collapsed": false
   },
   "outputs": [
    {
     "data": {
      "text/plain": [
       "(127418, 300)"
      ]
     },
     "execution_count": 25,
     "metadata": {},
     "output_type": "execute_result"
    }
   ],
   "source": [
    "data2.shape"
   ]
  },
  {
   "cell_type": "code",
   "execution_count": 95,
   "metadata": {
    "collapsed": false
   },
   "outputs": [],
   "source": [
    "select = SelectKBest(chi2, k = 100)\n",
    "data3 = select.fit_transform(np.absolute(data), target)\n",
    "X_train, X_test, y_train, y_test = cross_validation.train_test_split(data3, target, test_size=0.4, random_state=0)"
   ]
  },
  {
   "cell_type": "code",
   "execution_count": 26,
   "metadata": {
    "collapsed": true
   },
   "outputs": [],
   "source": [
    "clf = GradientBoostingClassifier(learning_rate = 0.15, loss='exponential', n_estimators = 300, max_features=250).fit(X_train, y_train)\n",
    "y_pred = clf.predict(X_test)"
   ]
  },
  {
   "cell_type": "code",
   "execution_count": 27,
   "metadata": {
    "collapsed": false
   },
   "outputs": [
    {
     "name": "stdout",
     "output_type": "stream",
     "text": [
      "Below are the accuracy, AUC, F1 score, precision, and recall: \n",
      "0.811391461309\n",
      "0.750050091071\n",
      "0.869733721797\n",
      "0.83316457668\n",
      "0.909660411588\n",
      "Confusion Matrix: \n",
      "[[ 9264  6426]\n",
      " [ 3187 32091]]\n",
      "false positive: 6426\n",
      "false negative: 3187\n"
     ]
    }
   ],
   "source": [
    "# Evaluation\n",
    "print \"Below are the accuracy, AUC, F1 score, precision, and recall: \"\n",
    "print clf.score(X_test, y_test)\n",
    "print roc_auc_score(y_test, y_pred)\n",
    "print f1_score(y_test, y_pred)\n",
    "print precision_score(y_test, y_pred)\n",
    "print recall_score(y_test, y_pred)\n",
    "\n",
    "print \"Confusion Matrix: \"\n",
    "cm = confusion_matrix(y_test, y_pred)\n",
    "print cm\n",
    "#false positive\n",
    "print 'false positive: ' + str(cm[0][1])\n",
    "#false negative\n",
    "print 'false negative: ' + str(cm[1][0])"
   ]
  },
  {
   "cell_type": "code",
   "execution_count": null,
   "metadata": {
    "collapsed": true
   },
   "outputs": [],
   "source": []
  },
  {
   "cell_type": "code",
   "execution_count": null,
   "metadata": {
    "collapsed": true
   },
   "outputs": [],
   "source": []
  },
  {
   "cell_type": "markdown",
   "metadata": {
    "collapsed": true
   },
   "source": [
    "### some feature tests"
   ]
  },
  {
   "cell_type": "code",
   "execution_count": 190,
   "metadata": {
    "collapsed": false
   },
   "outputs": [],
   "source": [
    "indices = range(300) + range(414,448)\n",
    "#del indices[278]\n",
    "del indices[199]\n",
    "data = final[indices]\n",
    "target = final[199]"
   ]
  },
  {
   "cell_type": "code",
   "execution_count": 191,
   "metadata": {
    "collapsed": false
   },
   "outputs": [],
   "source": [
    "imputer = Imputer()\n",
    "data = imputer.fit_transform(data)"
   ]
  },
  {
   "cell_type": "code",
   "execution_count": null,
   "metadata": {
    "collapsed": false
   },
   "outputs": [],
   "source": []
  },
  {
   "cell_type": "code",
   "execution_count": 122,
   "metadata": {
    "collapsed": false
   },
   "outputs": [],
   "source": [
    "select = SelectKBest(f_classif, k = 20)\n",
    "data3 = select.fit_transform(data, target)"
   ]
  },
  {
   "cell_type": "code",
   "execution_count": 192,
   "metadata": {
    "collapsed": true
   },
   "outputs": [],
   "source": [
    "X_train, X_test, y_train, y_test = cross_validation.train_test_split(data, target, test_size=0.4, random_state=0)\n",
    "clf = GradientBoostingClassifier(learning_rate = 0.3, loss='exponential', n_estimators = 300, max_features=15).fit(X_train, y_train)\n",
    "y_pred = clf.predict(X_test)"
   ]
  },
  {
   "cell_type": "code",
   "execution_count": 193,
   "metadata": {
    "collapsed": false
   },
   "outputs": [
    {
     "name": "stdout",
     "output_type": "stream",
     "text": [
      "Below are the accuracy, AUC, F1 score, precision, and recall: \n",
      "0.888798920378\n",
      "0.756538621625\n",
      "0.93424832429\n",
      "0.907245253778\n",
      "0.962908133893\n",
      "Confusion Matrix: \n",
      "[[ 2928  2394]\n",
      " [  902 23416]]\n",
      "false positive: 2394\n",
      "false negative: 902\n"
     ]
    }
   ],
   "source": [
    "# Evaluation\n",
    "print \"Below are the accuracy, AUC, F1 score, precision, and recall: \"\n",
    "print clf.score(X_test, y_test)\n",
    "print roc_auc_score(y_test, y_pred)\n",
    "print f1_score(y_test, y_pred)\n",
    "print precision_score(y_test, y_pred)\n",
    "print recall_score(y_test, y_pred)\n",
    "\n",
    "print \"Confusion Matrix: \"\n",
    "cm = confusion_matrix(y_test, y_pred)\n",
    "print cm\n",
    "#false positive\n",
    "print 'false positive: ' + str(cm[0][1])\n",
    "#false negative\n",
    "print 'false negative: ' + str(cm[1][0])"
   ]
  },
  {
   "cell_type": "code",
   "execution_count": null,
   "metadata": {
    "collapsed": true
   },
   "outputs": [],
   "source": []
  },
  {
   "cell_type": "code",
   "execution_count": null,
   "metadata": {
    "collapsed": true
   },
   "outputs": [],
   "source": []
  },
  {
   "cell_type": "markdown",
   "metadata": {
    "collapsed": true
   },
   "source": [
    "# random search"
   ]
  },
  {
   "cell_type": "markdown",
   "metadata": {},
   "source": [
    "#### search with full features"
   ]
  },
  {
   "cell_type": "code",
   "execution_count": 81,
   "metadata": {
    "collapsed": false
   },
   "outputs": [
    {
     "data": {
      "text/plain": [
       "(74099, 435)"
      ]
     },
     "execution_count": 81,
     "metadata": {},
     "output_type": "execute_result"
    }
   ],
   "source": [
    "data.shape"
   ]
  },
  {
   "cell_type": "code",
   "execution_count": 21,
   "metadata": {
    "collapsed": true
   },
   "outputs": [],
   "source": [
    "from sklearn.grid_search import RandomizedSearchCV, GridSearchCV"
   ]
  },
  {
   "cell_type": "code",
   "execution_count": 74,
   "metadata": {
    "collapsed": false
   },
   "outputs": [],
   "source": [
    "param_grid = { 'loss': ['deviance', 'exponential'],\n",
    "               'learning_rate':[0.1, 0.2, 0.8],\n",
    "               'n_estimators':[100, 250, 500],\n",
    "               'max_depth':[3, 7],\n",
    "               'subsample':[0.2, 1.0],\n",
    "               'max_features':[50, 100, 400],\n",
    "               'random_state':[0],\n",
    "             }"
   ]
  },
  {
   "cell_type": "code",
   "execution_count": 56,
   "metadata": {
    "collapsed": true
   },
   "outputs": [],
   "source": [
    "from scipy.stats import randint as sp_randint"
   ]
  },
  {
   "cell_type": "code",
   "execution_count": 22,
   "metadata": {
    "collapsed": true
   },
   "outputs": [],
   "source": [
    "from time import time"
   ]
  },
  {
   "cell_type": "code",
   "execution_count": 23,
   "metadata": {
    "collapsed": true
   },
   "outputs": [],
   "source": [
    "from operator import itemgetter\n",
    "def report(grid_scores, n_top=3):\n",
    "    top_scores = sorted(grid_scores, key=itemgetter(1), reverse=True)[:n_top]\n",
    "    for i, score in enumerate(top_scores):\n",
    "        print \"Model with rank: {0}\".format(i + 1)\n",
    "        print \"Mean validation score: {0:.3f} (std: {1:.3f})\".format(\n",
    "              score.mean_validation_score,\n",
    "              np.std(score.cv_validation_scores))\n",
    "        print \"Parameters: {0}\".format(score.parameters)"
   ]
  },
  {
   "cell_type": "code",
   "execution_count": 78,
   "metadata": {
    "collapsed": false
   },
   "outputs": [
    {
     "name": "stdout",
     "output_type": "stream",
     "text": [
      "22412.3390181\n",
      "Model with rank: 1\n",
      "Mean validation score: 0.895 (std: 0.001)\n",
      "Parameters: {'loss': 'exponential', 'learning_rate': 0.1, 'n_estimators': 100, 'subsample': 1.0, 'random_state': 0, 'max_features': 400, 'max_depth': 7}\n",
      "Model with rank: 2\n",
      "Mean validation score: 0.895 (std: 0.001)\n",
      "Parameters: {'loss': 'deviance', 'learning_rate': 0.2, 'n_estimators': 500, 'subsample': 1.0, 'random_state': 0, 'max_features': 400, 'max_depth': 3}\n",
      "Model with rank: 3\n",
      "Mean validation score: 0.894 (std: 0.001)\n",
      "Parameters: {'loss': 'deviance', 'learning_rate': 0.1, 'n_estimators': 250, 'subsample': 1.0, 'random_state': 0, 'max_features': 100, 'max_depth': 7}\n"
     ]
    }
   ],
   "source": [
    "start = time()\n",
    "clf = GradientBoostingClassifier()\n",
    "grid_search = RandomizedSearchCV(clf, param_distributions=param_grid, n_iter=20)\n",
    "grid_search.fit(data, target)\n",
    "print time()-start\n",
    "report(grid_search.grid_scores_)"
   ]
  },
  {
   "cell_type": "code",
   "execution_count": null,
   "metadata": {
    "collapsed": false
   },
   "outputs": [],
   "source": []
  },
  {
   "cell_type": "code",
   "execution_count": null,
   "metadata": {
    "collapsed": true
   },
   "outputs": [],
   "source": []
  },
  {
   "cell_type": "code",
   "execution_count": null,
   "metadata": {
    "collapsed": true
   },
   "outputs": [],
   "source": []
  },
  {
   "cell_type": "markdown",
   "metadata": {},
   "source": [
    "#### search with 300 features selected"
   ]
  },
  {
   "cell_type": "code",
   "execution_count": 31,
   "metadata": {
    "collapsed": true
   },
   "outputs": [],
   "source": [
    "select = SelectKBest(f_classif, k = 100)\n",
    "data2 = select.fit_transform(data, target)\n",
    "X_train, X_test, y_train, y_test = cross_validation.train_test_split(data2, target, test_size=0.4, random_state=0)"
   ]
  },
  {
   "cell_type": "code",
   "execution_count": 18,
   "metadata": {
    "collapsed": false
   },
   "outputs": [
    {
     "data": {
      "text/plain": [
       "(74099, 300)"
      ]
     },
     "execution_count": 18,
     "metadata": {},
     "output_type": "execute_result"
    }
   ],
   "source": [
    "data2.shape"
   ]
  },
  {
   "cell_type": "code",
   "execution_count": 19,
   "metadata": {
    "collapsed": true
   },
   "outputs": [],
   "source": [
    "param_grid = { 'loss': ['deviance', 'exponential'],\n",
    "               'learning_rate':[0.1, 0.2, 0.3],\n",
    "               'n_estimators':[100, 300, 500],\n",
    "               'max_depth':[3, 7],\n",
    "               'max_features':[50, 200, 300],\n",
    "               'random_state':[0],\n",
    "             }"
   ]
  },
  {
   "cell_type": "code",
   "execution_count": 24,
   "metadata": {
    "collapsed": false
   },
   "outputs": [
    {
     "name": "stdout",
     "output_type": "stream",
     "text": [
      "23377.7111039\n",
      "Model with rank: 1\n",
      "Mean validation score: 0.897 (std: 0.001)\n",
      "Parameters: {'loss': 'exponential', 'learning_rate': 0.1, 'n_estimators': 300, 'random_state': 0, 'max_features': 200, 'max_depth': 7}\n",
      "Model with rank: 2\n",
      "Mean validation score: 0.895 (std: 0.001)\n",
      "Parameters: {'loss': 'exponential', 'learning_rate': 0.2, 'n_estimators': 300, 'random_state': 0, 'max_features': 50, 'max_depth': 3}\n",
      "Model with rank: 3\n",
      "Mean validation score: 0.894 (std: 0.002)\n",
      "Parameters: {'loss': 'deviance', 'learning_rate': 0.2, 'n_estimators': 500, 'random_state': 0, 'max_features': 200, 'max_depth': 3}\n"
     ]
    }
   ],
   "source": [
    "start = time()\n",
    "clf = GradientBoostingClassifier()\n",
    "grid_search = RandomizedSearchCV(clf, param_distributions=param_grid, n_iter=20)\n",
    "grid_search.fit(data2, target)\n",
    "print time()-start\n",
    "report(grid_search.grid_scores_)"
   ]
  },
  {
   "cell_type": "code",
   "execution_count": null,
   "metadata": {
    "collapsed": true
   },
   "outputs": [],
   "source": []
  },
  {
   "cell_type": "markdown",
   "metadata": {},
   "source": [
    "#### search with 200 features selected"
   ]
  },
  {
   "cell_type": "code",
   "execution_count": 26,
   "metadata": {
    "collapsed": true
   },
   "outputs": [],
   "source": [
    "select = SelectKBest(f_classif, k = 200)\n",
    "data2 = select.fit_transform(data, target)\n",
    "X_train, X_test, y_train, y_test = cross_validation.train_test_split(data2, target, test_size=0.4, random_state=0)"
   ]
  },
  {
   "cell_type": "code",
   "execution_count": 27,
   "metadata": {
    "collapsed": false
   },
   "outputs": [
    {
     "data": {
      "text/plain": [
       "(74099, 200)"
      ]
     },
     "execution_count": 27,
     "metadata": {},
     "output_type": "execute_result"
    }
   ],
   "source": [
    "data2.shape"
   ]
  },
  {
   "cell_type": "code",
   "execution_count": 28,
   "metadata": {
    "collapsed": true
   },
   "outputs": [],
   "source": [
    "param_grid = { 'loss': ['exponential'],\n",
    "               'learning_rate':[0.1, 0.2],\n",
    "               'n_estimators':[300, 500],\n",
    "               'max_depth':[3, 7],\n",
    "               'max_features':[50, 100, 200],\n",
    "               'random_state':[0],\n",
    "             }"
   ]
  },
  {
   "cell_type": "code",
   "execution_count": 29,
   "metadata": {
    "collapsed": false
   },
   "outputs": [
    {
     "name": "stdout",
     "output_type": "stream",
     "text": [
      "14224.9151268\n",
      "Model with rank: 1\n",
      "Mean validation score: 0.896 (std: 0.000)\n",
      "Parameters: {'loss': 'exponential', 'learning_rate': 0.1, 'n_estimators': 500, 'random_state': 0, 'max_features': 200, 'max_depth': 7}\n",
      "Model with rank: 2\n",
      "Mean validation score: 0.896 (std: 0.002)\n",
      "Parameters: {'loss': 'exponential', 'learning_rate': 0.2, 'n_estimators': 500, 'random_state': 0, 'max_features': 100, 'max_depth': 3}\n",
      "Model with rank: 3\n",
      "Mean validation score: 0.896 (std: 0.002)\n",
      "Parameters: {'loss': 'exponential', 'learning_rate': 0.2, 'n_estimators': 500, 'random_state': 0, 'max_features': 200, 'max_depth': 3}\n"
     ]
    }
   ],
   "source": [
    "start = time()\n",
    "clf = GradientBoostingClassifier()\n",
    "grid_search = RandomizedSearchCV(clf, param_distributions=param_grid)\n",
    "grid_search.fit(data2, target)\n",
    "print time()-start\n",
    "report(grid_search.grid_scores_)"
   ]
  },
  {
   "cell_type": "code",
   "execution_count": null,
   "metadata": {
    "collapsed": true
   },
   "outputs": [],
   "source": []
  },
  {
   "cell_type": "code",
   "execution_count": null,
   "metadata": {
    "collapsed": true
   },
   "outputs": [],
   "source": []
  },
  {
   "cell_type": "code",
   "execution_count": null,
   "metadata": {
    "collapsed": true
   },
   "outputs": [],
   "source": []
  },
  {
   "cell_type": "code",
   "execution_count": null,
   "metadata": {
    "collapsed": true
   },
   "outputs": [],
   "source": []
  },
  {
   "cell_type": "code",
   "execution_count": null,
   "metadata": {
    "collapsed": true
   },
   "outputs": [],
   "source": []
  },
  {
   "cell_type": "code",
   "execution_count": null,
   "metadata": {
    "collapsed": true
   },
   "outputs": [],
   "source": []
  },
  {
   "cell_type": "code",
   "execution_count": 1,
   "metadata": {
    "collapsed": true
   },
   "outputs": [],
   "source": [
    "from feature_extractor import *"
   ]
  },
  {
   "cell_type": "code",
   "execution_count": 8,
   "metadata": {
    "collapsed": false
   },
   "outputs": [
    {
     "ename": "MemoryError",
     "evalue": "",
     "output_type": "error",
     "traceback": [
      "\u001b[1;31m---------------------------------------------------------------------------\u001b[0m",
      "\u001b[1;31mMemoryError\u001b[0m                               Traceback (most recent call last)",
      "\u001b[1;32m<ipython-input-8-30adede0722f>\u001b[0m in \u001b[0;36m<module>\u001b[1;34m()\u001b[0m\n\u001b[1;32m----> 1\u001b[1;33m \u001b[0mfinal\u001b[0m \u001b[1;33m=\u001b[0m \u001b[0mfeature_final\u001b[0m\u001b[1;33m(\u001b[0m\u001b[0mwhole_dict\u001b[0m\u001b[1;33m,\u001b[0m \u001b[0muser_dict\u001b[0m\u001b[1;33m,\u001b[0m \u001b[0mexp_dict\u001b[0m\u001b[1;33m,\u001b[0m \u001b[0mlabels\u001b[0m\u001b[1;33m,\u001b[0m \u001b[0meventids\u001b[0m\u001b[1;33m)\u001b[0m\u001b[1;33m\u001b[0m\u001b[0m\n\u001b[0m",
      "\u001b[1;32m/root/yulun/feature_extractor.py\u001b[0m in \u001b[0;36mfeature_final\u001b[1;34m(whole_dict, user_dict, exp_dict, labels, eventids)\u001b[0m\n\u001b[0;32m    617\u001b[0m         \u001b[0mret\u001b[0m\u001b[1;33m.\u001b[0m\u001b[0mappend\u001b[0m\u001b[1;33m(\u001b[0m\u001b[0mtemp\u001b[0m\u001b[1;33m)\u001b[0m\u001b[1;33m\u001b[0m\u001b[0m\n\u001b[0;32m    618\u001b[0m \u001b[1;33m\u001b[0m\u001b[0m\n\u001b[1;32m--> 619\u001b[1;33m     \u001b[0mret\u001b[0m \u001b[1;33m=\u001b[0m \u001b[0mpd\u001b[0m\u001b[1;33m.\u001b[0m\u001b[0mDataFrame\u001b[0m\u001b[1;33m(\u001b[0m\u001b[0mret\u001b[0m\u001b[1;33m)\u001b[0m\u001b[1;33m\u001b[0m\u001b[0m\n\u001b[0m\u001b[0;32m    620\u001b[0m \u001b[1;33m\u001b[0m\u001b[0m\n\u001b[0;32m    621\u001b[0m     \u001b[1;31m# some preliminary processing\u001b[0m\u001b[1;33m\u001b[0m\u001b[1;33m\u001b[0m\u001b[0m\n",
      "\u001b[1;32m/usr/local/lib/python2.7/site-packages/pandas/core/frame.pyc\u001b[0m in \u001b[0;36m__init__\u001b[1;34m(self, data, index, columns, dtype, copy)\u001b[0m\n\u001b[0;32m    260\u001b[0m                     \u001b[1;32mif\u001b[0m \u001b[0mcom\u001b[0m\u001b[1;33m.\u001b[0m\u001b[0mis_named_tuple\u001b[0m\u001b[1;33m(\u001b[0m\u001b[0mdata\u001b[0m\u001b[1;33m[\u001b[0m\u001b[1;36m0\u001b[0m\u001b[1;33m]\u001b[0m\u001b[1;33m)\u001b[0m \u001b[1;32mand\u001b[0m \u001b[0mcolumns\u001b[0m \u001b[1;32mis\u001b[0m \u001b[0mNone\u001b[0m\u001b[1;33m:\u001b[0m\u001b[1;33m\u001b[0m\u001b[0m\n\u001b[0;32m    261\u001b[0m                         \u001b[0mcolumns\u001b[0m \u001b[1;33m=\u001b[0m \u001b[0mdata\u001b[0m\u001b[1;33m[\u001b[0m\u001b[1;36m0\u001b[0m\u001b[1;33m]\u001b[0m\u001b[1;33m.\u001b[0m\u001b[0m_fields\u001b[0m\u001b[1;33m\u001b[0m\u001b[0m\n\u001b[1;32m--> 262\u001b[1;33m                     \u001b[0marrays\u001b[0m\u001b[1;33m,\u001b[0m \u001b[0mcolumns\u001b[0m \u001b[1;33m=\u001b[0m \u001b[0m_to_arrays\u001b[0m\u001b[1;33m(\u001b[0m\u001b[0mdata\u001b[0m\u001b[1;33m,\u001b[0m \u001b[0mcolumns\u001b[0m\u001b[1;33m,\u001b[0m \u001b[0mdtype\u001b[0m\u001b[1;33m=\u001b[0m\u001b[0mdtype\u001b[0m\u001b[1;33m)\u001b[0m\u001b[1;33m\u001b[0m\u001b[0m\n\u001b[0m\u001b[0;32m    263\u001b[0m                     \u001b[0mcolumns\u001b[0m \u001b[1;33m=\u001b[0m \u001b[0m_ensure_index\u001b[0m\u001b[1;33m(\u001b[0m\u001b[0mcolumns\u001b[0m\u001b[1;33m)\u001b[0m\u001b[1;33m\u001b[0m\u001b[0m\n\u001b[0;32m    264\u001b[0m \u001b[1;33m\u001b[0m\u001b[0m\n",
      "\u001b[1;32m/usr/local/lib/python2.7/site-packages/pandas/core/frame.pyc\u001b[0m in \u001b[0;36m_to_arrays\u001b[1;34m(data, columns, coerce_float, dtype)\u001b[0m\n\u001b[0;32m   5359\u001b[0m     \u001b[1;32mif\u001b[0m \u001b[0misinstance\u001b[0m\u001b[1;33m(\u001b[0m\u001b[0mdata\u001b[0m\u001b[1;33m[\u001b[0m\u001b[1;36m0\u001b[0m\u001b[1;33m]\u001b[0m\u001b[1;33m,\u001b[0m \u001b[1;33m(\u001b[0m\u001b[0mlist\u001b[0m\u001b[1;33m,\u001b[0m \u001b[0mtuple\u001b[0m\u001b[1;33m)\u001b[0m\u001b[1;33m)\u001b[0m\u001b[1;33m:\u001b[0m\u001b[1;33m\u001b[0m\u001b[0m\n\u001b[0;32m   5360\u001b[0m         return _list_to_arrays(data, columns, coerce_float=coerce_float,\n\u001b[1;32m-> 5361\u001b[1;33m                                dtype=dtype)\n\u001b[0m\u001b[0;32m   5362\u001b[0m     \u001b[1;32melif\u001b[0m \u001b[0misinstance\u001b[0m\u001b[1;33m(\u001b[0m\u001b[0mdata\u001b[0m\u001b[1;33m[\u001b[0m\u001b[1;36m0\u001b[0m\u001b[1;33m]\u001b[0m\u001b[1;33m,\u001b[0m \u001b[0mcollections\u001b[0m\u001b[1;33m.\u001b[0m\u001b[0mMapping\u001b[0m\u001b[1;33m)\u001b[0m\u001b[1;33m:\u001b[0m\u001b[1;33m\u001b[0m\u001b[0m\n\u001b[0;32m   5363\u001b[0m         return _list_of_dict_to_arrays(data, columns,\n",
      "\u001b[1;32m/usr/local/lib/python2.7/site-packages/pandas/core/frame.pyc\u001b[0m in \u001b[0;36m_list_to_arrays\u001b[1;34m(data, columns, coerce_float, dtype)\u001b[0m\n\u001b[0;32m   5436\u001b[0m     \u001b[1;32melse\u001b[0m\u001b[1;33m:\u001b[0m\u001b[1;33m\u001b[0m\u001b[0m\n\u001b[0;32m   5437\u001b[0m         \u001b[1;31m# list of lists\u001b[0m\u001b[1;33m\u001b[0m\u001b[1;33m\u001b[0m\u001b[0m\n\u001b[1;32m-> 5438\u001b[1;33m         \u001b[0mcontent\u001b[0m \u001b[1;33m=\u001b[0m \u001b[0mlist\u001b[0m\u001b[1;33m(\u001b[0m\u001b[0mlib\u001b[0m\u001b[1;33m.\u001b[0m\u001b[0mto_object_array\u001b[0m\u001b[1;33m(\u001b[0m\u001b[0mdata\u001b[0m\u001b[1;33m)\u001b[0m\u001b[1;33m.\u001b[0m\u001b[0mT\u001b[0m\u001b[1;33m)\u001b[0m\u001b[1;33m\u001b[0m\u001b[0m\n\u001b[0m\u001b[0;32m   5439\u001b[0m     return _convert_object_array(content, columns, dtype=dtype,\n\u001b[0;32m   5440\u001b[0m                                  coerce_float=coerce_float)\n",
      "\u001b[1;32mpandas/src/inference.pyx\u001b[0m in \u001b[0;36mpandas.lib.to_object_array (pandas/lib.c:63431)\u001b[1;34m()\u001b[0m\n",
      "\u001b[1;31mMemoryError\u001b[0m: "
     ]
    }
   ],
   "source": [
    "final = feature_final(whole_dict, user_dict, exp_dict, labels, eventids)"
   ]
  },
  {
   "cell_type": "code",
   "execution_count": null,
   "metadata": {
    "collapsed": true
   },
   "outputs": [],
   "source": []
  },
  {
   "cell_type": "code",
   "execution_count": null,
   "metadata": {
    "collapsed": true
   },
   "outputs": [],
   "source": []
  },
  {
   "cell_type": "code",
   "execution_count": null,
   "metadata": {
    "collapsed": true
   },
   "outputs": [],
   "source": []
  },
  {
   "cell_type": "code",
   "execution_count": null,
   "metadata": {
    "collapsed": true
   },
   "outputs": [],
   "source": []
  }
 ],
 "metadata": {
  "kernelspec": {
   "display_name": "Python 2",
   "language": "python",
   "name": "python2"
  },
  "language_info": {
   "codemirror_mode": {
    "name": "ipython",
    "version": 2
   },
   "file_extension": ".py",
   "mimetype": "text/x-python",
   "name": "python",
   "nbconvert_exporter": "python",
   "pygments_lexer": "ipython2",
   "version": "2.7.11"
  }
 },
 "nbformat": 4,
 "nbformat_minor": 0
}
